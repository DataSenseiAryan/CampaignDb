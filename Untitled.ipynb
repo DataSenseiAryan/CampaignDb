{
 "cells": [
  {
   "cell_type": "code",
   "execution_count": 1,
   "metadata": {
    "collapsed": true
   },
   "outputs": [],
   "source": [
    "import pyodbc \n",
    "import pandas as pd\n",
    "import numpy as np\n",
    "import datetime\n",
    "from functools import reduce\n",
    "import matplotlib.pyplot as plt\n",
    "from scipy import stats\n",
    "\n",
    "from sklearn import preprocessing\n",
    "from sklearn.cluster import KMeans\n",
    "from sklearn.metrics import calinski_harabaz_score, silhouette_score\n",
    "from sklearn.decomposition import PCA\n",
    "\n",
    "import warnings\n",
    "\n",
    "warnings.filterwarnings('ignore')\n",
    "%matplotlib inline\n",
    "\n"
   ]
  },
  {
   "cell_type": "code",
   "execution_count": 2,
   "metadata": {
    "collapsed": true
   },
   "outputs": [],
   "source": [
    "cnxn = pyodbc.connect(\"Driver={SQL Server Native Client 11.0};\"\n",
    "                      \"Server=LAPTOP-CU20T8L1;\"\n",
    "                      \"Database=CAMPAIGN_DB2;\"\n",
    "                      \"Trusted_Connection=yes;\")\n",
    "\n",
    "\n",
    "cursor = cnxn.cursor()\n"
   ]
  },
  {
   "cell_type": "code",
   "execution_count": 3,
   "metadata": {
    "collapsed": true
   },
   "outputs": [],
   "source": [
    "# cursor.execute('SELECT TOP(1000)* FROM CAMPAIGN_TBL_FINAL')\n",
    "\n",
    "# for row in cursor:\n",
    "#      print('row = %r' % (row,))"
   ]
  },
  {
   "cell_type": "code",
   "execution_count": null,
   "metadata": {
    "collapsed": true
   },
   "outputs": [],
   "source": []
  },
  {
   "cell_type": "code",
   "execution_count": 4,
   "metadata": {
    "collapsed": true
   },
   "outputs": [],
   "source": [
    "sql = pd.read_sql_query('SELECT TOP(100000) * FROM CAMPAIGN_TBL_FINAL',cnxn)"
   ]
  },
  {
   "cell_type": "code",
   "execution_count": 5,
   "metadata": {
    "collapsed": true
   },
   "outputs": [],
   "source": [
    "df = pd.DataFrame(sql)"
   ]
  },
  {
   "cell_type": "code",
   "execution_count": null,
   "metadata": {
    "collapsed": true
   },
   "outputs": [],
   "source": []
  },
  {
   "cell_type": "code",
   "execution_count": 6,
   "metadata": {
    "collapsed": true,
    "scrolled": true
   },
   "outputs": [],
   "source": [
    "# df.info()"
   ]
  },
  {
   "cell_type": "code",
   "execution_count": 7,
   "metadata": {
    "collapsed": true
   },
   "outputs": [],
   "source": [
    "# df.describe()"
   ]
  },
  {
   "cell_type": "code",
   "execution_count": 8,
   "metadata": {},
   "outputs": [
    {
     "data": {
      "text/plain": [
       "Index(['bet_year', 'bet_month', 'Bet Time', 'Result Time', 'Ticket ID',\n",
       "       'Game ID', 'Provider', 'Product Type', 'Game Group', 'Game', 'Upline',\n",
       "       'Player ID', 'Currency', 'Stake', 'Valid Bet', 'Win/Loss', 'Tip',\n",
       "       'JP Bet', 'JP Win', 'Result Status', 'Real Name', 'Registered Date',\n",
       "       'Last Login', 't2_status', 'register_year', 'register_month',\n",
       "       'l_login_year', 'l_login_month', 'GROUP'],\n",
       "      dtype='object')"
      ]
     },
     "execution_count": 8,
     "metadata": {},
     "output_type": "execute_result"
    }
   ],
   "source": [
    "df.columns"
   ]
  },
  {
   "cell_type": "code",
   "execution_count": 9,
   "metadata": {
    "collapsed": true
   },
   "outputs": [],
   "source": [
    "df['Bet Time'] = pd.to_datetime(df['Bet Time'])\n",
    "df['Result Time'] = pd.to_datetime(df['Result Time'])\n",
    "df['Registered Date'] = pd.to_datetime(df['Registered Date'])\n",
    "df['Last Login'] = pd.to_datetime(df['Last Login'])"
   ]
  },
  {
   "cell_type": "code",
   "execution_count": 10,
   "metadata": {},
   "outputs": [
    {
     "data": {
      "text/html": [
       "<div>\n",
       "<style>\n",
       "    .dataframe thead tr:only-child th {\n",
       "        text-align: right;\n",
       "    }\n",
       "\n",
       "    .dataframe thead th {\n",
       "        text-align: left;\n",
       "    }\n",
       "\n",
       "    .dataframe tbody tr th {\n",
       "        vertical-align: top;\n",
       "    }\n",
       "</style>\n",
       "<table border=\"1\" class=\"dataframe\">\n",
       "  <thead>\n",
       "    <tr style=\"text-align: right;\">\n",
       "      <th></th>\n",
       "      <th>bet_year</th>\n",
       "      <th>bet_month</th>\n",
       "      <th>Bet Time</th>\n",
       "      <th>Result Time</th>\n",
       "      <th>Ticket ID</th>\n",
       "      <th>Game ID</th>\n",
       "      <th>Provider</th>\n",
       "      <th>Product Type</th>\n",
       "      <th>Game Group</th>\n",
       "      <th>Game</th>\n",
       "      <th>...</th>\n",
       "      <th>Result Status</th>\n",
       "      <th>Real Name</th>\n",
       "      <th>Registered Date</th>\n",
       "      <th>Last Login</th>\n",
       "      <th>t2_status</th>\n",
       "      <th>register_year</th>\n",
       "      <th>register_month</th>\n",
       "      <th>l_login_year</th>\n",
       "      <th>l_login_month</th>\n",
       "      <th>GROUP</th>\n",
       "    </tr>\n",
       "  </thead>\n",
       "  <tbody>\n",
       "    <tr>\n",
       "      <th>0</th>\n",
       "      <td>2020</td>\n",
       "      <td>03</td>\n",
       "      <td>2020-03-04 08:52:58</td>\n",
       "      <td>2020-03-04 08:52:58</td>\n",
       "      <td>90498165</td>\n",
       "      <td>90498165</td>\n",
       "      <td>MG</td>\n",
       "      <td>EGAME</td>\n",
       "      <td>SLOTGAME</td>\n",
       "      <td>Lara Croft Temples and Tombs</td>\n",
       "      <td>...</td>\n",
       "      <td>Settled</td>\n",
       "      <td>จิระเมศร์ ถาลี</td>\n",
       "      <td>2019-10-17 16:43:41</td>\n",
       "      <td>2020-04-22 15:33:41</td>\n",
       "      <td>ACTIVE</td>\n",
       "      <td>2019</td>\n",
       "      <td>10</td>\n",
       "      <td>2020</td>\n",
       "      <td>04</td>\n",
       "      <td>EGAME                                         ...</td>\n",
       "    </tr>\n",
       "    <tr>\n",
       "      <th>1</th>\n",
       "      <td>2020</td>\n",
       "      <td>03</td>\n",
       "      <td>2020-03-04 08:53:01</td>\n",
       "      <td>2020-03-04 08:53:01</td>\n",
       "      <td>90498178</td>\n",
       "      <td>90498178</td>\n",
       "      <td>MG</td>\n",
       "      <td>EGAME</td>\n",
       "      <td>SLOTGAME</td>\n",
       "      <td>Lara Croft Temples and Tombs</td>\n",
       "      <td>...</td>\n",
       "      <td>Settled</td>\n",
       "      <td>จิระเมศร์ ถาลี</td>\n",
       "      <td>2019-10-17 16:43:41</td>\n",
       "      <td>2020-04-22 15:33:41</td>\n",
       "      <td>ACTIVE</td>\n",
       "      <td>2019</td>\n",
       "      <td>10</td>\n",
       "      <td>2020</td>\n",
       "      <td>04</td>\n",
       "      <td>EGAME                                         ...</td>\n",
       "    </tr>\n",
       "    <tr>\n",
       "      <th>2</th>\n",
       "      <td>2020</td>\n",
       "      <td>03</td>\n",
       "      <td>2020-03-04 08:53:05</td>\n",
       "      <td>2020-03-04 08:53:05</td>\n",
       "      <td>90498196</td>\n",
       "      <td>90498196</td>\n",
       "      <td>MG</td>\n",
       "      <td>EGAME</td>\n",
       "      <td>SLOTGAME</td>\n",
       "      <td>Lara Croft Temples and Tombs</td>\n",
       "      <td>...</td>\n",
       "      <td>Settled</td>\n",
       "      <td>จิระเมศร์ ถาลี</td>\n",
       "      <td>2019-10-17 16:43:41</td>\n",
       "      <td>2020-04-22 15:33:41</td>\n",
       "      <td>ACTIVE</td>\n",
       "      <td>2019</td>\n",
       "      <td>10</td>\n",
       "      <td>2020</td>\n",
       "      <td>04</td>\n",
       "      <td>EGAME                                         ...</td>\n",
       "    </tr>\n",
       "    <tr>\n",
       "      <th>3</th>\n",
       "      <td>2020</td>\n",
       "      <td>03</td>\n",
       "      <td>2020-03-04 08:53:08</td>\n",
       "      <td>2020-03-04 08:53:08</td>\n",
       "      <td>90498211</td>\n",
       "      <td>90498211</td>\n",
       "      <td>MG</td>\n",
       "      <td>EGAME</td>\n",
       "      <td>SLOTGAME</td>\n",
       "      <td>Lara Croft Temples and Tombs</td>\n",
       "      <td>...</td>\n",
       "      <td>Settled</td>\n",
       "      <td>จิระเมศร์ ถาลี</td>\n",
       "      <td>2019-10-17 16:43:41</td>\n",
       "      <td>2020-04-22 15:33:41</td>\n",
       "      <td>ACTIVE</td>\n",
       "      <td>2019</td>\n",
       "      <td>10</td>\n",
       "      <td>2020</td>\n",
       "      <td>04</td>\n",
       "      <td>EGAME                                         ...</td>\n",
       "    </tr>\n",
       "    <tr>\n",
       "      <th>4</th>\n",
       "      <td>2020</td>\n",
       "      <td>03</td>\n",
       "      <td>2020-03-04 08:53:11</td>\n",
       "      <td>2020-03-04 08:53:11</td>\n",
       "      <td>687889250</td>\n",
       "      <td>687889250</td>\n",
       "      <td>VT</td>\n",
       "      <td>EGAME</td>\n",
       "      <td>SLOTGAME</td>\n",
       "      <td>50 Lions</td>\n",
       "      <td>...</td>\n",
       "      <td>Settled</td>\n",
       "      <td>ศุภชัย   ณ นคร</td>\n",
       "      <td>2019-03-10 13:04:23</td>\n",
       "      <td>2020-05-26 12:54:26</td>\n",
       "      <td>ACTIVE</td>\n",
       "      <td>2019</td>\n",
       "      <td>03</td>\n",
       "      <td>2020</td>\n",
       "      <td>05</td>\n",
       "      <td>EGAME                                         ...</td>\n",
       "    </tr>\n",
       "  </tbody>\n",
       "</table>\n",
       "<p>5 rows × 29 columns</p>\n",
       "</div>"
      ],
      "text/plain": [
       "  bet_year bet_month            Bet Time         Result Time  Ticket ID  \\\n",
       "0     2020        03 2020-03-04 08:52:58 2020-03-04 08:52:58   90498165   \n",
       "1     2020        03 2020-03-04 08:53:01 2020-03-04 08:53:01   90498178   \n",
       "2     2020        03 2020-03-04 08:53:05 2020-03-04 08:53:05   90498196   \n",
       "3     2020        03 2020-03-04 08:53:08 2020-03-04 08:53:08   90498211   \n",
       "4     2020        03 2020-03-04 08:53:11 2020-03-04 08:53:11  687889250   \n",
       "\n",
       "     Game ID Provider Product Type Game Group                          Game  \\\n",
       "0   90498165       MG        EGAME   SLOTGAME  Lara Croft Temples and Tombs   \n",
       "1   90498178       MG        EGAME   SLOTGAME  Lara Croft Temples and Tombs   \n",
       "2   90498196       MG        EGAME   SLOTGAME  Lara Croft Temples and Tombs   \n",
       "3   90498211       MG        EGAME   SLOTGAME  Lara Croft Temples and Tombs   \n",
       "4  687889250       VT        EGAME   SLOTGAME                      50 Lions   \n",
       "\n",
       "                         ...                         Result Status  \\\n",
       "0                        ...                               Settled   \n",
       "1                        ...                               Settled   \n",
       "2                        ...                               Settled   \n",
       "3                        ...                               Settled   \n",
       "4                        ...                               Settled   \n",
       "\n",
       "        Real Name     Registered Date          Last Login  t2_status  \\\n",
       "0  จิระเมศร์ ถาลี 2019-10-17 16:43:41 2020-04-22 15:33:41     ACTIVE   \n",
       "1  จิระเมศร์ ถาลี 2019-10-17 16:43:41 2020-04-22 15:33:41     ACTIVE   \n",
       "2  จิระเมศร์ ถาลี 2019-10-17 16:43:41 2020-04-22 15:33:41     ACTIVE   \n",
       "3  จิระเมศร์ ถาลี 2019-10-17 16:43:41 2020-04-22 15:33:41     ACTIVE   \n",
       "4  ศุภชัย   ณ นคร 2019-03-10 13:04:23 2020-05-26 12:54:26     ACTIVE   \n",
       "\n",
       "   register_year  register_month  l_login_year  l_login_month  \\\n",
       "0           2019              10          2020             04   \n",
       "1           2019              10          2020             04   \n",
       "2           2019              10          2020             04   \n",
       "3           2019              10          2020             04   \n",
       "4           2019              03          2020             05   \n",
       "\n",
       "                                               GROUP  \n",
       "0  EGAME                                         ...  \n",
       "1  EGAME                                         ...  \n",
       "2  EGAME                                         ...  \n",
       "3  EGAME                                         ...  \n",
       "4  EGAME                                         ...  \n",
       "\n",
       "[5 rows x 29 columns]"
      ]
     },
     "execution_count": 10,
     "metadata": {},
     "output_type": "execute_result"
    }
   ],
   "source": [
    "df.head()"
   ]
  },
  {
   "cell_type": "code",
   "execution_count": 11,
   "metadata": {},
   "outputs": [
    {
     "data": {
      "text/plain": [
       "array(['THB'], dtype=object)"
      ]
     },
     "execution_count": 11,
     "metadata": {},
     "output_type": "execute_result"
    }
   ],
   "source": [
    "df['Currency'].unique()"
   ]
  },
  {
   "cell_type": "code",
   "execution_count": 12,
   "metadata": {
    "collapsed": true
   },
   "outputs": [],
   "source": [
    "# df['date'] = pd.to_datetime(df['date'])"
   ]
  },
  {
   "cell_type": "code",
   "execution_count": 13,
   "metadata": {},
   "outputs": [
    {
     "data": {
      "text/plain": [
       "array(['EGAME', 'SPORTS', 'LIVE', 'MPG'], dtype=object)"
      ]
     },
     "execution_count": 13,
     "metadata": {},
     "output_type": "execute_result"
    }
   ],
   "source": [
    "df['Product Type'].unique()\n",
    "#df['GROUP'].unique()"
   ]
  },
  {
   "cell_type": "code",
   "execution_count": 14,
   "metadata": {},
   "outputs": [
    {
     "data": {
      "text/plain": [
       "array(['EGAME                                                                                               ',\n",
       "       'SPORT                                                                                               ',\n",
       "       'LIVE GAME                                                                                           ',\n",
       "       'MPG                                                                                                 '],\n",
       "      dtype=object)"
      ]
     },
     "execution_count": 14,
     "metadata": {},
     "output_type": "execute_result"
    }
   ],
   "source": [
    "df['GROUP'].unique() #both are same"
   ]
  },
  {
   "cell_type": "code",
   "execution_count": 15,
   "metadata": {
    "collapsed": true
   },
   "outputs": [],
   "source": [
    "# df['t2_status'].unique()"
   ]
  },
  {
   "cell_type": "code",
   "execution_count": 16,
   "metadata": {
    "collapsed": true
   },
   "outputs": [],
   "source": [
    "# df['Result Status'].unique()"
   ]
  },
  {
   "cell_type": "code",
   "execution_count": 17,
   "metadata": {},
   "outputs": [
    {
     "data": {
      "text/plain": [
       "array(['MG', 'VT', 'SBOBET', 'AMEBA', 'MX', 'RT', 'CQ9', 'SA', 'GGAMING',\n",
       "       'PT', 'GD'], dtype=object)"
      ]
     },
     "execution_count": 17,
     "metadata": {},
     "output_type": "execute_result"
    }
   ],
   "source": [
    "df['Provider'].unique()"
   ]
  },
  {
   "cell_type": "code",
   "execution_count": 18,
   "metadata": {},
   "outputs": [
    {
     "data": {
      "text/plain": [
       "array(['SLOTGAME', 'SPORTSBOOK', 'BACCARAT', 'MPG', 'DRAGON_TIGER',\n",
       "       'SICBO', 'FISHING', 'ROULETTE', 'CARDGAME', 'TABLEGAME'],\n",
       "      dtype=object)"
      ]
     },
     "execution_count": 18,
     "metadata": {},
     "output_type": "execute_result"
    }
   ],
   "source": [
    "df['Game Group'].unique()"
   ]
  },
  {
   "cell_type": "code",
   "execution_count": 19,
   "metadata": {
    "collapsed": true
   },
   "outputs": [],
   "source": [
    "df['Transaction Date'] = df['Bet Time'].dt.date\n"
   ]
  },
  {
   "cell_type": "code",
   "execution_count": 107,
   "metadata": {
    "collapsed": true
   },
   "outputs": [],
   "source": [
    "df['Transaction Month'] = pd.to_datetime(df['Bet Time']).dt.to_period('M')"
   ]
  },
  {
   "cell_type": "code",
   "execution_count": null,
   "metadata": {},
   "outputs": [],
   "source": []
  },
  {
   "cell_type": "code",
   "execution_count": 20,
   "metadata": {},
   "outputs": [
    {
     "data": {
      "text/html": [
       "<div>\n",
       "<style>\n",
       "    .dataframe thead tr:only-child th {\n",
       "        text-align: right;\n",
       "    }\n",
       "\n",
       "    .dataframe thead th {\n",
       "        text-align: left;\n",
       "    }\n",
       "\n",
       "    .dataframe tbody tr th {\n",
       "        vertical-align: top;\n",
       "    }\n",
       "</style>\n",
       "<table border=\"1\" class=\"dataframe\">\n",
       "  <thead>\n",
       "    <tr style=\"text-align: right;\">\n",
       "      <th></th>\n",
       "      <th>bet_year</th>\n",
       "      <th>bet_month</th>\n",
       "      <th>Bet Time</th>\n",
       "      <th>Result Time</th>\n",
       "      <th>Ticket ID</th>\n",
       "      <th>Game ID</th>\n",
       "      <th>Provider</th>\n",
       "      <th>Product Type</th>\n",
       "      <th>Game Group</th>\n",
       "      <th>Game</th>\n",
       "      <th>...</th>\n",
       "      <th>Real Name</th>\n",
       "      <th>Registered Date</th>\n",
       "      <th>Last Login</th>\n",
       "      <th>t2_status</th>\n",
       "      <th>register_year</th>\n",
       "      <th>register_month</th>\n",
       "      <th>l_login_year</th>\n",
       "      <th>l_login_month</th>\n",
       "      <th>GROUP</th>\n",
       "      <th>Transaction Date</th>\n",
       "    </tr>\n",
       "  </thead>\n",
       "  <tbody>\n",
       "    <tr>\n",
       "      <th>0</th>\n",
       "      <td>2020</td>\n",
       "      <td>03</td>\n",
       "      <td>2020-03-04 08:52:58</td>\n",
       "      <td>2020-03-04 08:52:58</td>\n",
       "      <td>90498165</td>\n",
       "      <td>90498165</td>\n",
       "      <td>MG</td>\n",
       "      <td>EGAME</td>\n",
       "      <td>SLOTGAME</td>\n",
       "      <td>Lara Croft Temples and Tombs</td>\n",
       "      <td>...</td>\n",
       "      <td>จิระเมศร์ ถาลี</td>\n",
       "      <td>2019-10-17 16:43:41</td>\n",
       "      <td>2020-04-22 15:33:41</td>\n",
       "      <td>ACTIVE</td>\n",
       "      <td>2019</td>\n",
       "      <td>10</td>\n",
       "      <td>2020</td>\n",
       "      <td>04</td>\n",
       "      <td>EGAME                                         ...</td>\n",
       "      <td>2020-03-04</td>\n",
       "    </tr>\n",
       "    <tr>\n",
       "      <th>1</th>\n",
       "      <td>2020</td>\n",
       "      <td>03</td>\n",
       "      <td>2020-03-04 08:53:01</td>\n",
       "      <td>2020-03-04 08:53:01</td>\n",
       "      <td>90498178</td>\n",
       "      <td>90498178</td>\n",
       "      <td>MG</td>\n",
       "      <td>EGAME</td>\n",
       "      <td>SLOTGAME</td>\n",
       "      <td>Lara Croft Temples and Tombs</td>\n",
       "      <td>...</td>\n",
       "      <td>จิระเมศร์ ถาลี</td>\n",
       "      <td>2019-10-17 16:43:41</td>\n",
       "      <td>2020-04-22 15:33:41</td>\n",
       "      <td>ACTIVE</td>\n",
       "      <td>2019</td>\n",
       "      <td>10</td>\n",
       "      <td>2020</td>\n",
       "      <td>04</td>\n",
       "      <td>EGAME                                         ...</td>\n",
       "      <td>2020-03-04</td>\n",
       "    </tr>\n",
       "    <tr>\n",
       "      <th>2</th>\n",
       "      <td>2020</td>\n",
       "      <td>03</td>\n",
       "      <td>2020-03-04 08:53:05</td>\n",
       "      <td>2020-03-04 08:53:05</td>\n",
       "      <td>90498196</td>\n",
       "      <td>90498196</td>\n",
       "      <td>MG</td>\n",
       "      <td>EGAME</td>\n",
       "      <td>SLOTGAME</td>\n",
       "      <td>Lara Croft Temples and Tombs</td>\n",
       "      <td>...</td>\n",
       "      <td>จิระเมศร์ ถาลี</td>\n",
       "      <td>2019-10-17 16:43:41</td>\n",
       "      <td>2020-04-22 15:33:41</td>\n",
       "      <td>ACTIVE</td>\n",
       "      <td>2019</td>\n",
       "      <td>10</td>\n",
       "      <td>2020</td>\n",
       "      <td>04</td>\n",
       "      <td>EGAME                                         ...</td>\n",
       "      <td>2020-03-04</td>\n",
       "    </tr>\n",
       "    <tr>\n",
       "      <th>3</th>\n",
       "      <td>2020</td>\n",
       "      <td>03</td>\n",
       "      <td>2020-03-04 08:53:08</td>\n",
       "      <td>2020-03-04 08:53:08</td>\n",
       "      <td>90498211</td>\n",
       "      <td>90498211</td>\n",
       "      <td>MG</td>\n",
       "      <td>EGAME</td>\n",
       "      <td>SLOTGAME</td>\n",
       "      <td>Lara Croft Temples and Tombs</td>\n",
       "      <td>...</td>\n",
       "      <td>จิระเมศร์ ถาลี</td>\n",
       "      <td>2019-10-17 16:43:41</td>\n",
       "      <td>2020-04-22 15:33:41</td>\n",
       "      <td>ACTIVE</td>\n",
       "      <td>2019</td>\n",
       "      <td>10</td>\n",
       "      <td>2020</td>\n",
       "      <td>04</td>\n",
       "      <td>EGAME                                         ...</td>\n",
       "      <td>2020-03-04</td>\n",
       "    </tr>\n",
       "    <tr>\n",
       "      <th>4</th>\n",
       "      <td>2020</td>\n",
       "      <td>03</td>\n",
       "      <td>2020-03-04 08:53:11</td>\n",
       "      <td>2020-03-04 08:53:11</td>\n",
       "      <td>687889250</td>\n",
       "      <td>687889250</td>\n",
       "      <td>VT</td>\n",
       "      <td>EGAME</td>\n",
       "      <td>SLOTGAME</td>\n",
       "      <td>50 Lions</td>\n",
       "      <td>...</td>\n",
       "      <td>ศุภชัย   ณ นคร</td>\n",
       "      <td>2019-03-10 13:04:23</td>\n",
       "      <td>2020-05-26 12:54:26</td>\n",
       "      <td>ACTIVE</td>\n",
       "      <td>2019</td>\n",
       "      <td>03</td>\n",
       "      <td>2020</td>\n",
       "      <td>05</td>\n",
       "      <td>EGAME                                         ...</td>\n",
       "      <td>2020-03-04</td>\n",
       "    </tr>\n",
       "  </tbody>\n",
       "</table>\n",
       "<p>5 rows × 30 columns</p>\n",
       "</div>"
      ],
      "text/plain": [
       "  bet_year bet_month            Bet Time         Result Time  Ticket ID  \\\n",
       "0     2020        03 2020-03-04 08:52:58 2020-03-04 08:52:58   90498165   \n",
       "1     2020        03 2020-03-04 08:53:01 2020-03-04 08:53:01   90498178   \n",
       "2     2020        03 2020-03-04 08:53:05 2020-03-04 08:53:05   90498196   \n",
       "3     2020        03 2020-03-04 08:53:08 2020-03-04 08:53:08   90498211   \n",
       "4     2020        03 2020-03-04 08:53:11 2020-03-04 08:53:11  687889250   \n",
       "\n",
       "     Game ID Provider Product Type Game Group                          Game  \\\n",
       "0   90498165       MG        EGAME   SLOTGAME  Lara Croft Temples and Tombs   \n",
       "1   90498178       MG        EGAME   SLOTGAME  Lara Croft Temples and Tombs   \n",
       "2   90498196       MG        EGAME   SLOTGAME  Lara Croft Temples and Tombs   \n",
       "3   90498211       MG        EGAME   SLOTGAME  Lara Croft Temples and Tombs   \n",
       "4  687889250       VT        EGAME   SLOTGAME                      50 Lions   \n",
       "\n",
       "        ...              Real Name     Registered Date          Last Login  \\\n",
       "0       ...         จิระเมศร์ ถาลี 2019-10-17 16:43:41 2020-04-22 15:33:41   \n",
       "1       ...         จิระเมศร์ ถาลี 2019-10-17 16:43:41 2020-04-22 15:33:41   \n",
       "2       ...         จิระเมศร์ ถาลี 2019-10-17 16:43:41 2020-04-22 15:33:41   \n",
       "3       ...         จิระเมศร์ ถาลี 2019-10-17 16:43:41 2020-04-22 15:33:41   \n",
       "4       ...         ศุภชัย   ณ นคร 2019-03-10 13:04:23 2020-05-26 12:54:26   \n",
       "\n",
       "   t2_status  register_year  register_month  l_login_year  l_login_month  \\\n",
       "0     ACTIVE           2019              10          2020             04   \n",
       "1     ACTIVE           2019              10          2020             04   \n",
       "2     ACTIVE           2019              10          2020             04   \n",
       "3     ACTIVE           2019              10          2020             04   \n",
       "4     ACTIVE           2019              03          2020             05   \n",
       "\n",
       "                                               GROUP Transaction Date  \n",
       "0  EGAME                                         ...       2020-03-04  \n",
       "1  EGAME                                         ...       2020-03-04  \n",
       "2  EGAME                                         ...       2020-03-04  \n",
       "3  EGAME                                         ...       2020-03-04  \n",
       "4  EGAME                                         ...       2020-03-04  \n",
       "\n",
       "[5 rows x 30 columns]"
      ]
     },
     "execution_count": 20,
     "metadata": {},
     "output_type": "execute_result"
    }
   ],
   "source": [
    "df.head()"
   ]
  },
  {
   "cell_type": "code",
   "execution_count": 21,
   "metadata": {
    "collapsed": true
   },
   "outputs": [],
   "source": [
    "df['days_since_last_login'] = (df['Last Login'].max() - df['Last Login']).astype('timedelta64[D]')\n",
    "df['Age_on_platform'] = (df['Last Login']- df['Registered Date']).astype('timedelta64[D]')\n",
    "#time spent playing"
   ]
  },
  {
   "cell_type": "code",
   "execution_count": null,
   "metadata": {
    "collapsed": true
   },
   "outputs": [],
   "source": []
  },
  {
   "cell_type": "code",
   "execution_count": 22,
   "metadata": {},
   "outputs": [
    {
     "data": {
      "text/plain": [
       "0    187.0\n",
       "1    187.0\n",
       "2    187.0\n",
       "3    187.0\n",
       "4    442.0\n",
       "Name: Age_on_platform, dtype: float64"
      ]
     },
     "execution_count": 22,
     "metadata": {},
     "output_type": "execute_result"
    }
   ],
   "source": [
    "df['days_since_last_login'].head()\n",
    "df['Age_on_platform'].head()\n"
   ]
  },
  {
   "cell_type": "code",
   "execution_count": 23,
   "metadata": {
    "collapsed": true
   },
   "outputs": [],
   "source": [
    "##feature enginerring creating players based data"
   ]
  },
  {
   "cell_type": "code",
   "execution_count": 24,
   "metadata": {
    "collapsed": true
   },
   "outputs": [],
   "source": [
    "##date based features"
   ]
  },
  {
   "cell_type": "code",
   "execution_count": 25,
   "metadata": {
    "collapsed": true
   },
   "outputs": [],
   "source": [
    "last_betting_date = df.groupby(['Player ID'])['Bet Time'].agg(['max']).reset_index().rename(columns={\"max\":\"Last Betting Date\"}) "
   ]
  },
  {
   "cell_type": "code",
   "execution_count": 26,
   "metadata": {
    "collapsed": true
   },
   "outputs": [],
   "source": [
    "avg_no_of_bets_per_day = df.groupby(['Player ID','Transaction Date'])['Player ID'].count().groupby('Player ID').agg(['mean']).reset_index().rename(columns={\"mean\":\"Avg Bets per Day\"}) #sum/count\n",
    "#number of bets per day by a particular player\n",
    "avg_no_of_bets_per_month = df.groupby(['Player ID','Transaction Month'])['Player ID'].count().groupby('Player ID').agg(['mean']).reset_index().rename(columns={\"mean\":\"Avg Bets per Month\"}) #sum/count\n",
    "#number of bets per month by a particular player\n"
   ]
  },
  {
   "cell_type": "code",
   "execution_count": 111,
   "metadata": {},
   "outputs": [],
   "source": [
    "avg_amount_on_bets_per_day = df.groupby(['Player ID','Transaction Date'])['Stake'].sum().groupby('Player ID').agg(['mean']).reset_index().rename(columns={\"mean\":\"Avg Bets amount per Day\"})"
   ]
  },
  {
   "cell_type": "code",
   "execution_count": 113,
   "metadata": {},
   "outputs": [
    {
     "data": {
      "text/plain": [
       "Player ID      Transaction Date\n",
       "02981pleeng    2020-02-01           22099.00\n",
       "               2020-02-02            9080.00\n",
       "0917292371a    2020-02-01             500.00\n",
       "1a9o7m8        2020-02-01            1761.90\n",
       "251717ma       2020-02-01          128883.87\n",
       "2537fon        2020-02-01           31756.46\n",
       "               2020-02-02            3459.48\n",
       "abest15900     2020-02-01            1813.00\n",
       "ads2948        2020-02-01               1.00\n",
       "alain1313      2020-02-01             790.95\n",
       "amata081364    2020-02-01              11.25\n",
       "angsu1608      2020-02-01           13231.00\n",
       "               2020-02-02           10720.00\n",
       "anna1990       2020-02-01           50544.00\n",
       "arm10839       2020-02-01            9780.00\n",
       "armi2524       2020-02-01           11490.00\n",
       "bast3bb        2020-02-01             917.40\n",
       "beaw40         2020-02-01               0.36\n",
       "bee2531        2020-02-01              10.56\n",
       "ben8756        2020-02-01            1178.57\n",
       "               2020-02-02            1316.55\n",
       "bird999        2020-02-01               6.75\n",
       "bloodies28     2020-02-01            2390.50\n",
       "boys169        2020-02-01           29404.50\n",
       "cat123456      2020-02-01             690.00\n",
       "               2020-02-02             270.60\n",
       "champion999    2020-02-01            1093.80\n",
       "dada2536       2020-02-01               5.00\n",
       "din2316        2020-02-01            1645.10\n",
       "dr111          2020-02-01              84.80\n",
       "                                     ...    \n",
       "soyes891       2020-02-01             107.00\n",
       "srb230611      2020-02-01             372.00\n",
       "sunisa365      2020-02-01            8704.50\n",
       "taedevil       2020-02-01              13.00\n",
       "tarl0412       2020-02-01          102187.00\n",
       "taytay999      2020-03-04             200.00\n",
       "tcbbb          2020-02-01               3.25\n",
       "teeheng        2020-02-01             752.78\n",
       "teezaa69       2020-02-01             150.00\n",
       "telemixup60    2020-02-01             659.70\n",
       "thanakon505    2020-02-01            1977.20\n",
       "theluckymanu9  2020-02-01            2081.00\n",
       "tipprash       2020-02-01            1284.50\n",
       "tong999        2020-02-01               0.01\n",
       "tonneverdie88  2020-02-01             100.00\n",
       "tukta777       2020-02-01             638.45\n",
       "               2020-02-02            3848.90\n",
       "tungpang2009   2020-02-01               3.20\n",
       "varunyu1995    2020-02-01               2.64\n",
       "vitxxo         2020-02-01            6853.00\n",
       "               2020-02-02             396.00\n",
       "what99969      2020-02-01             244.00\n",
       "whiteufo2499   2020-02-01           29195.94\n",
       "wrwrr          2020-02-01              73.35\n",
       "yon4223        2020-02-02             311.00\n",
       "yoo1234        2020-02-02             700.00\n",
       "z22222         2020-02-02             316.34\n",
       "zol652664      2020-02-01             300.00\n",
       "zppozero777    2020-02-01           11853.00\n",
       "               2020-02-02            2298.00\n",
       "Name: Stake, Length: 155, dtype: float64"
      ]
     },
     "execution_count": 113,
     "metadata": {},
     "output_type": "execute_result"
    }
   ],
   "source": [
    "df.groupby(['Player ID','Transaction Date'])['Stake'].sum()"
   ]
  },
  {
   "cell_type": "code",
   "execution_count": 112,
   "metadata": {},
   "outputs": [
    {
     "data": {
      "text/html": [
       "<div>\n",
       "<style>\n",
       "    .dataframe thead tr:only-child th {\n",
       "        text-align: right;\n",
       "    }\n",
       "\n",
       "    .dataframe thead th {\n",
       "        text-align: left;\n",
       "    }\n",
       "\n",
       "    .dataframe tbody tr th {\n",
       "        vertical-align: top;\n",
       "    }\n",
       "</style>\n",
       "<table border=\"1\" class=\"dataframe\">\n",
       "  <thead>\n",
       "    <tr style=\"text-align: right;\">\n",
       "      <th></th>\n",
       "      <th>Player ID</th>\n",
       "      <th>Avg Bets amount per Day</th>\n",
       "    </tr>\n",
       "  </thead>\n",
       "  <tbody>\n",
       "    <tr>\n",
       "      <th>0</th>\n",
       "      <td>02981pleeng</td>\n",
       "      <td>15589.50</td>\n",
       "    </tr>\n",
       "    <tr>\n",
       "      <th>1</th>\n",
       "      <td>0917292371a</td>\n",
       "      <td>500.00</td>\n",
       "    </tr>\n",
       "    <tr>\n",
       "      <th>2</th>\n",
       "      <td>1a9o7m8</td>\n",
       "      <td>1761.90</td>\n",
       "    </tr>\n",
       "    <tr>\n",
       "      <th>3</th>\n",
       "      <td>251717ma</td>\n",
       "      <td>128883.87</td>\n",
       "    </tr>\n",
       "    <tr>\n",
       "      <th>4</th>\n",
       "      <td>2537fon</td>\n",
       "      <td>17607.97</td>\n",
       "    </tr>\n",
       "  </tbody>\n",
       "</table>\n",
       "</div>"
      ],
      "text/plain": [
       "     Player ID  Avg Bets amount per Day\n",
       "0  02981pleeng                 15589.50\n",
       "1  0917292371a                   500.00\n",
       "2      1a9o7m8                  1761.90\n",
       "3     251717ma                128883.87\n",
       "4      2537fon                 17607.97"
      ]
     },
     "execution_count": 112,
     "metadata": {},
     "output_type": "execute_result"
    }
   ],
   "source": [
    "avg_amount_on_bets_per_day.head()"
   ]
  },
  {
   "cell_type": "code",
   "execution_count": null,
   "metadata": {
    "collapsed": true
   },
   "outputs": [],
   "source": [
    "avg_no_of_bets_per_day = df.groupby(['Player ID','Transaction Date'])['Player ID'].count().groupby('Player ID').agg(['mean']).reset_index().rename(columns={\"mean\":\"Avg Bets per Day\"}) #sum/count\n",
    "#number of bets per day by a particular player\n",
    "avg_no_of_bets_per_month = df.groupby(['Player ID','Transaction Month'])['Player ID'].count().groupby('Player ID').agg(['mean']).reset_index().rename(columns={\"mean\":\"Avg Bets per Month\"}) #sum/count\n",
    "#number of bets per month by a particular player\n"
   ]
  },
  {
   "cell_type": "code",
   "execution_count": 102,
   "metadata": {},
   "outputs": [
    {
     "data": {
      "text/html": [
       "<div>\n",
       "<style>\n",
       "    .dataframe thead tr:only-child th {\n",
       "        text-align: right;\n",
       "    }\n",
       "\n",
       "    .dataframe thead th {\n",
       "        text-align: left;\n",
       "    }\n",
       "\n",
       "    .dataframe tbody tr th {\n",
       "        vertical-align: top;\n",
       "    }\n",
       "</style>\n",
       "<table border=\"1\" class=\"dataframe\">\n",
       "  <thead>\n",
       "    <tr style=\"text-align: right;\">\n",
       "      <th></th>\n",
       "      <th>Player ID</th>\n",
       "      <th>No_of_visit_days</th>\n",
       "    </tr>\n",
       "  </thead>\n",
       "  <tbody>\n",
       "    <tr>\n",
       "      <th>0</th>\n",
       "      <td>02981pleeng</td>\n",
       "      <td>2</td>\n",
       "    </tr>\n",
       "    <tr>\n",
       "      <th>1</th>\n",
       "      <td>0917292371a</td>\n",
       "      <td>1</td>\n",
       "    </tr>\n",
       "    <tr>\n",
       "      <th>2</th>\n",
       "      <td>1a9o7m8</td>\n",
       "      <td>1</td>\n",
       "    </tr>\n",
       "    <tr>\n",
       "      <th>3</th>\n",
       "      <td>251717ma</td>\n",
       "      <td>1</td>\n",
       "    </tr>\n",
       "    <tr>\n",
       "      <th>4</th>\n",
       "      <td>2537fon</td>\n",
       "      <td>2</td>\n",
       "    </tr>\n",
       "  </tbody>\n",
       "</table>\n",
       "</div>"
      ],
      "text/plain": [
       "     Player ID  No_of_visit_days\n",
       "0  02981pleeng                 2\n",
       "1  0917292371a                 1\n",
       "2      1a9o7m8                 1\n",
       "3     251717ma                 1\n",
       "4      2537fon                 2"
      ]
     },
     "execution_count": 102,
     "metadata": {},
     "output_type": "execute_result"
    }
   ],
   "source": [
    "#how ma\n",
    "no_of_visiting_days = df.groupby(['Player ID', 'Transaction Date']).size().groupby('Player ID').count().reset_index().rename(columns={0:'No_of_visit_days'})\n",
    "no_of_visiting_days.head()"
   ]
  },
  {
   "cell_type": "code",
   "execution_count": null,
   "metadata": {},
   "outputs": [],
   "source": []
  },
  {
   "cell_type": "code",
   "execution_count": 91,
   "metadata": {},
   "outputs": [],
   "source": [
    "# pd.crosstab(df['Player ID'],df['Game']) very imp command"
   ]
  },
  {
   "cell_type": "code",
   "execution_count": 109,
   "metadata": {},
   "outputs": [],
   "source": [
    "#count_series = # new_df = count_series.to_frame(name = 'size').reset_index()\n",
    "# new_df.groupby('Player ID').count()"
   ]
  },
  {
   "cell_type": "code",
   "execution_count": null,
   "metadata": {
    "collapsed": true
   },
   "outputs": [],
   "source": []
  },
  {
   "cell_type": "code",
   "execution_count": 28,
   "metadata": {
    "collapsed": true
   },
   "outputs": [],
   "source": [
    "time_df = pd.DataFrame()\n",
    "temp_df = df[['Player ID','days_since_last_login','Age_on_platform','Bet Time', 'Result Time','Registered Date',\n",
    "       'Last Login']].groupby('Player ID').agg(['max']).reset_index()"
   ]
  },
  {
   "cell_type": "code",
   "execution_count": 29,
   "metadata": {
    "collapsed": true
   },
   "outputs": [],
   "source": [
    "#temp_df"
   ]
  },
  {
   "cell_type": "code",
   "execution_count": 30,
   "metadata": {
    "collapsed": true
   },
   "outputs": [],
   "source": [
    "dataframes = [last_betting_date,avg_no_of_bets_per_day,avg_no_of_bets_per_month,no_of_visiting_days,temp_df]"
   ]
  },
  {
   "cell_type": "code",
   "execution_count": 31,
   "metadata": {
    "collapsed": true
   },
   "outputs": [],
   "source": [
    "time_df = reduce(lambda left, right: pd.merge(left, right, on='Player ID', how='left'), dataframes)"
   ]
  },
  {
   "cell_type": "code",
   "execution_count": 32,
   "metadata": {},
   "outputs": [
    {
     "data": {
      "text/html": [
       "<div>\n",
       "<style>\n",
       "    .dataframe thead tr:only-child th {\n",
       "        text-align: right;\n",
       "    }\n",
       "\n",
       "    .dataframe thead th {\n",
       "        text-align: left;\n",
       "    }\n",
       "\n",
       "    .dataframe tbody tr th {\n",
       "        vertical-align: top;\n",
       "    }\n",
       "</style>\n",
       "<table border=\"1\" class=\"dataframe\">\n",
       "  <thead>\n",
       "    <tr style=\"text-align: right;\">\n",
       "      <th></th>\n",
       "      <th>Player ID</th>\n",
       "      <th>Last Betting Date</th>\n",
       "      <th>Avg Bets per Day</th>\n",
       "      <th>(days_since_last_login, max)</th>\n",
       "      <th>(Age_on_platform, max)</th>\n",
       "      <th>(Bet Time, max)</th>\n",
       "      <th>(Result Time, max)</th>\n",
       "      <th>(Registered Date, max)</th>\n",
       "      <th>(Last Login, max)</th>\n",
       "    </tr>\n",
       "  </thead>\n",
       "  <tbody>\n",
       "    <tr>\n",
       "      <th>0</th>\n",
       "      <td>02981pleeng</td>\n",
       "      <td>2020-02-02 00:59:50</td>\n",
       "      <td>2114.5</td>\n",
       "      <td>0.0</td>\n",
       "      <td>296.0</td>\n",
       "      <td>2020-02-02 00:59:50</td>\n",
       "      <td>2020-02-02 00:59:50</td>\n",
       "      <td>2019-08-03 21:58:36</td>\n",
       "      <td>2020-05-26 15:04:22</td>\n",
       "    </tr>\n",
       "    <tr>\n",
       "      <th>1</th>\n",
       "      <td>0917292371a</td>\n",
       "      <td>2020-02-01 18:35:48</td>\n",
       "      <td>3.0</td>\n",
       "      <td>0.0</td>\n",
       "      <td>282.0</td>\n",
       "      <td>2020-02-01 18:35:48</td>\n",
       "      <td>2020-02-01 18:36:11</td>\n",
       "      <td>2019-08-17 15:41:59</td>\n",
       "      <td>2020-05-26 14:40:26</td>\n",
       "    </tr>\n",
       "    <tr>\n",
       "      <th>2</th>\n",
       "      <td>1a9o7m8</td>\n",
       "      <td>2020-02-01 21:24:33</td>\n",
       "      <td>1287.0</td>\n",
       "      <td>2.0</td>\n",
       "      <td>723.0</td>\n",
       "      <td>2020-02-01 21:24:33</td>\n",
       "      <td>2020-02-01 21:24:33</td>\n",
       "      <td>2018-05-31 17:22:55</td>\n",
       "      <td>2020-05-23 20:21:58</td>\n",
       "    </tr>\n",
       "    <tr>\n",
       "      <th>3</th>\n",
       "      <td>251717ma</td>\n",
       "      <td>2020-02-01 21:42:22</td>\n",
       "      <td>114.0</td>\n",
       "      <td>0.0</td>\n",
       "      <td>546.0</td>\n",
       "      <td>2020-02-01 21:42:22</td>\n",
       "      <td>2020-02-01 21:42:53</td>\n",
       "      <td>2018-11-26 13:46:23</td>\n",
       "      <td>2020-05-26 03:22:37</td>\n",
       "    </tr>\n",
       "    <tr>\n",
       "      <th>4</th>\n",
       "      <td>2537fon</td>\n",
       "      <td>2020-02-02 00:55:28</td>\n",
       "      <td>103.5</td>\n",
       "      <td>0.0</td>\n",
       "      <td>701.0</td>\n",
       "      <td>2020-02-02 00:55:28</td>\n",
       "      <td>2020-02-02 00:57:00</td>\n",
       "      <td>2018-06-24 13:36:16</td>\n",
       "      <td>2020-05-26 01:32:56</td>\n",
       "    </tr>\n",
       "  </tbody>\n",
       "</table>\n",
       "</div>"
      ],
      "text/plain": [
       "     Player ID   Last Betting Date  Avg Bets per Day  \\\n",
       "0  02981pleeng 2020-02-02 00:59:50            2114.5   \n",
       "1  0917292371a 2020-02-01 18:35:48               3.0   \n",
       "2      1a9o7m8 2020-02-01 21:24:33            1287.0   \n",
       "3     251717ma 2020-02-01 21:42:22             114.0   \n",
       "4      2537fon 2020-02-02 00:55:28             103.5   \n",
       "\n",
       "   (days_since_last_login, max)  (Age_on_platform, max)     (Bet Time, max)  \\\n",
       "0                           0.0                   296.0 2020-02-02 00:59:50   \n",
       "1                           0.0                   282.0 2020-02-01 18:35:48   \n",
       "2                           2.0                   723.0 2020-02-01 21:24:33   \n",
       "3                           0.0                   546.0 2020-02-01 21:42:22   \n",
       "4                           0.0                   701.0 2020-02-02 00:55:28   \n",
       "\n",
       "   (Result Time, max) (Registered Date, max)   (Last Login, max)  \n",
       "0 2020-02-02 00:59:50    2019-08-03 21:58:36 2020-05-26 15:04:22  \n",
       "1 2020-02-01 18:36:11    2019-08-17 15:41:59 2020-05-26 14:40:26  \n",
       "2 2020-02-01 21:24:33    2018-05-31 17:22:55 2020-05-23 20:21:58  \n",
       "3 2020-02-01 21:42:53    2018-11-26 13:46:23 2020-05-26 03:22:37  \n",
       "4 2020-02-02 00:57:00    2018-06-24 13:36:16 2020-05-26 01:32:56  "
      ]
     },
     "execution_count": 32,
     "metadata": {},
     "output_type": "execute_result"
    }
   ],
   "source": [
    "time_df.head()"
   ]
  },
  {
   "cell_type": "code",
   "execution_count": 33,
   "metadata": {
    "collapsed": true
   },
   "outputs": [],
   "source": [
    "# features based on payment ie betting amount"
   ]
  },
  {
   "cell_type": "code",
   "execution_count": 34,
   "metadata": {},
   "outputs": [
    {
     "data": {
      "text/plain": [
       "Index(['bet_year', 'bet_month', 'Bet Time', 'Result Time', 'Ticket ID',\n",
       "       'Game ID', 'Provider', 'Product Type', 'Game Group', 'Game', 'Upline',\n",
       "       'Player ID', 'Currency', 'Stake', 'Valid Bet', 'Win/Loss', 'Tip',\n",
       "       'JP Bet', 'JP Win', 'Result Status', 'Real Name', 'Registered Date',\n",
       "       'Last Login', 't2_status', 'register_year', 'register_month',\n",
       "       'l_login_year', 'l_login_month', 'GROUP', 'Transaction Date',\n",
       "       'days_since_last_login', 'Age_on_platform'],\n",
       "      dtype='object')"
      ]
     },
     "execution_count": 34,
     "metadata": {},
     "output_type": "execute_result"
    }
   ],
   "source": [
    "df.columns"
   ]
  },
  {
   "cell_type": "code",
   "execution_count": 35,
   "metadata": {
    "collapsed": true
   },
   "outputs": [],
   "source": [
    "# #per player there would be different transaction days \n",
    "# aggregations_betting = {\n",
    "#     'Stake': {\n",
    "#         'max_bet_amount' : 'max',\n",
    "#         'min_bet_amount' : 'min',\n",
    "#         'ave_bet_amount' : 'mean',\n",
    "#         'total_bet_amount' : 'sum',\n",
    "#         'total_bet_placed' : 'count'\n",
    "#     }  \n",
    "#     } \n",
    "\n",
    "# bet_df = df.groupby(['Player ID','Transaction Date']).agg(aggregations_betting).reset_index()\n",
    "# bet_df.columns = ['Player ID','Transaction Date','max_bet_amount','min_bet_amount','ave_bet_amount','total_bet_amount','total_bet_placed']"
   ]
  },
  {
   "cell_type": "code",
   "execution_count": 36,
   "metadata": {
    "collapsed": true
   },
   "outputs": [],
   "source": [
    "# bet_df.head()"
   ]
  },
  {
   "cell_type": "code",
   "execution_count": 37,
   "metadata": {
    "collapsed": true
   },
   "outputs": [],
   "source": [
    "# # let's look at lifetime spend by transactions for players already grouped\n",
    "# aggregations_pay = {\n",
    "#     'max_bet_amount': ['max'],\n",
    "#     'min_bet_amount': ['min'],\n",
    "#     'ave_bet_amount': ['median'],\n",
    "#     'total_bet_placed' : {\n",
    "#         'ave_bet_order' : 'median',\n",
    "#         'max_bet_order' : 'max'\n",
    "#     },\n",
    "#     'total_bet_amount' :\n",
    "#      {\n",
    "#         'max_bet_amount_per_day' : 'max',\n",
    "#         'ave_bet_amount_per_day' : 'median',\n",
    "#         'total_lifetime_amount' : 'sum',\n",
    "#         'total_bet_orders' : 'count'\n",
    "#     }  \n",
    "#     } \n",
    "\n",
    "# bet_df = bet_df.groupby('Player ID').agg(aggregations_pay).reset_index()\n",
    "# bet_df.columns = ['Player ID','max_bet_amount','min_bet_amount','ave_bet_amount','ave_bet_order','max_bet_order','max_bet_amount_per_day','ave_bet_amount_per_day','total_lifetime_amount','total_bet_orders']"
   ]
  },
  {
   "cell_type": "code",
   "execution_count": 38,
   "metadata": {
    "collapsed": true
   },
   "outputs": [],
   "source": [
    "# bet_df.head()"
   ]
  },
  {
   "cell_type": "code",
   "execution_count": 39,
   "metadata": {
    "collapsed": true
   },
   "outputs": [],
   "source": [
    "bet_df = df.groupby('Player ID').agg({\n",
    "                                        \"Stake\": {\"total_stake\": \"sum\", \"mean_stake(total_stake/total bets)\": \"mean\", \"min_stake\": \"min\", \"max_stake\": \"max\", \"bets\": \"count\"},\n",
    "                                         \"Valid Bet\": {\"total_Valid Bet\": \"sum\", \"mean_Valid Bet total_valid bets/total bets)\": \"mean\"},\n",
    "                                        \"Win/Loss\": {\"total_WIn/Loss\": \"sum\", \"mean_Valid Bet total_Win/Loss/total bets)\": \"mean\"}\n",
    "                                     }).reset_index()\n",
    "bet_df.columns = ['Player ID','Total Stake','Avg Stake(Total Stake/Total Bets)','Min Stake','Max Stake','Total Bets','Total Valid Bet','Avg Valid Bet','Total Win/Loss', 'Avg Win/Loss']"
   ]
  },
  {
   "cell_type": "code",
   "execution_count": 40,
   "metadata": {},
   "outputs": [
    {
     "data": {
      "text/html": [
       "<div>\n",
       "<style>\n",
       "    .dataframe thead tr:only-child th {\n",
       "        text-align: right;\n",
       "    }\n",
       "\n",
       "    .dataframe thead th {\n",
       "        text-align: left;\n",
       "    }\n",
       "\n",
       "    .dataframe tbody tr th {\n",
       "        vertical-align: top;\n",
       "    }\n",
       "</style>\n",
       "<table border=\"1\" class=\"dataframe\">\n",
       "  <thead>\n",
       "    <tr style=\"text-align: right;\">\n",
       "      <th></th>\n",
       "      <th>Player ID</th>\n",
       "      <th>Total Stake</th>\n",
       "      <th>Avg Stake(Total Stake/Total Bets)</th>\n",
       "      <th>Min Stake</th>\n",
       "      <th>Max Stake</th>\n",
       "      <th>Total Bets</th>\n",
       "      <th>Total Valid Bet</th>\n",
       "      <th>Avg Valid Bet</th>\n",
       "      <th>Total Win/Loss</th>\n",
       "      <th>Avg Win/Loss</th>\n",
       "    </tr>\n",
       "  </thead>\n",
       "  <tbody>\n",
       "    <tr>\n",
       "      <th>0</th>\n",
       "      <td>02981pleeng</td>\n",
       "      <td>31179.00</td>\n",
       "      <td>7.372665</td>\n",
       "      <td>1.00</td>\n",
       "      <td>10.0</td>\n",
       "      <td>4229</td>\n",
       "      <td>31179.00</td>\n",
       "      <td>7.372665</td>\n",
       "      <td>271.20</td>\n",
       "      <td>0.064129</td>\n",
       "    </tr>\n",
       "    <tr>\n",
       "      <th>1</th>\n",
       "      <td>0917292371a</td>\n",
       "      <td>500.00</td>\n",
       "      <td>166.666667</td>\n",
       "      <td>100.00</td>\n",
       "      <td>200.0</td>\n",
       "      <td>3</td>\n",
       "      <td>500.00</td>\n",
       "      <td>166.666667</td>\n",
       "      <td>-300.00</td>\n",
       "      <td>-100.000000</td>\n",
       "    </tr>\n",
       "    <tr>\n",
       "      <th>2</th>\n",
       "      <td>1a9o7m8</td>\n",
       "      <td>1761.90</td>\n",
       "      <td>1.368998</td>\n",
       "      <td>0.15</td>\n",
       "      <td>10.0</td>\n",
       "      <td>1287</td>\n",
       "      <td>1761.90</td>\n",
       "      <td>1.368998</td>\n",
       "      <td>-113.15</td>\n",
       "      <td>-0.087918</td>\n",
       "    </tr>\n",
       "    <tr>\n",
       "      <th>3</th>\n",
       "      <td>251717ma</td>\n",
       "      <td>128883.87</td>\n",
       "      <td>1130.560263</td>\n",
       "      <td>0.00</td>\n",
       "      <td>5641.9</td>\n",
       "      <td>114</td>\n",
       "      <td>128883.87</td>\n",
       "      <td>1130.560263</td>\n",
       "      <td>-1761.39</td>\n",
       "      <td>-15.450789</td>\n",
       "    </tr>\n",
       "    <tr>\n",
       "      <th>4</th>\n",
       "      <td>2537fon</td>\n",
       "      <td>35215.94</td>\n",
       "      <td>170.125314</td>\n",
       "      <td>0.00</td>\n",
       "      <td>2453.8</td>\n",
       "      <td>207</td>\n",
       "      <td>35215.94</td>\n",
       "      <td>170.125314</td>\n",
       "      <td>-3210.81</td>\n",
       "      <td>-15.511159</td>\n",
       "    </tr>\n",
       "  </tbody>\n",
       "</table>\n",
       "</div>"
      ],
      "text/plain": [
       "     Player ID  Total Stake  Avg Stake(Total Stake/Total Bets)  Min Stake  \\\n",
       "0  02981pleeng     31179.00                           7.372665       1.00   \n",
       "1  0917292371a       500.00                         166.666667     100.00   \n",
       "2      1a9o7m8      1761.90                           1.368998       0.15   \n",
       "3     251717ma    128883.87                        1130.560263       0.00   \n",
       "4      2537fon     35215.94                         170.125314       0.00   \n",
       "\n",
       "   Max Stake  Total Bets  Total Valid Bet  Avg Valid Bet  Total Win/Loss  \\\n",
       "0       10.0        4229         31179.00       7.372665          271.20   \n",
       "1      200.0           3           500.00     166.666667         -300.00   \n",
       "2       10.0        1287          1761.90       1.368998         -113.15   \n",
       "3     5641.9         114        128883.87    1130.560263        -1761.39   \n",
       "4     2453.8         207         35215.94     170.125314        -3210.81   \n",
       "\n",
       "   Avg Win/Loss  \n",
       "0      0.064129  \n",
       "1   -100.000000  \n",
       "2     -0.087918  \n",
       "3    -15.450789  \n",
       "4    -15.511159  "
      ]
     },
     "execution_count": 40,
     "metadata": {},
     "output_type": "execute_result"
    }
   ],
   "source": [
    "bet_df.head()"
   ]
  },
  {
   "cell_type": "code",
   "execution_count": 41,
   "metadata": {
    "collapsed": true
   },
   "outputs": [],
   "source": [
    "## game data features "
   ]
  },
  {
   "cell_type": "code",
   "execution_count": 42,
   "metadata": {},
   "outputs": [
    {
     "data": {
      "text/plain": [
       "Player ID    Game             \n",
       "02981pleeng  Winter Wonders       4229\n",
       "0917292371a  Baccarat                1\n",
       "             SA Bac.2                1\n",
       "             SA Bac.3                1\n",
       "1a9o7m8      Chinese Treasures     188\n",
       "Name: Game, dtype: int64"
      ]
     },
     "execution_count": 42,
     "metadata": {},
     "output_type": "execute_result"
    }
   ],
   "source": [
    "player_games = df.groupby(['Player ID','Game'])['Game'].count()\n",
    "player_games.head()"
   ]
  },
  {
   "cell_type": "code",
   "execution_count": 43,
   "metadata": {
    "collapsed": true
   },
   "outputs": [],
   "source": [
    "game_group = df.groupby(['Player ID', 'Game Group']).size().reset_index() #['Game Group'].agg('count')"
   ]
  },
  {
   "cell_type": "code",
   "execution_count": 44,
   "metadata": {
    "collapsed": true
   },
   "outputs": [],
   "source": [
    "game_group = game_group.rename(columns ={0:'Counts'})"
   ]
  },
  {
   "cell_type": "code",
   "execution_count": 45,
   "metadata": {},
   "outputs": [
    {
     "data": {
      "text/html": [
       "<div>\n",
       "<style>\n",
       "    .dataframe thead tr:only-child th {\n",
       "        text-align: right;\n",
       "    }\n",
       "\n",
       "    .dataframe thead th {\n",
       "        text-align: left;\n",
       "    }\n",
       "\n",
       "    .dataframe tbody tr th {\n",
       "        vertical-align: top;\n",
       "    }\n",
       "</style>\n",
       "<table border=\"1\" class=\"dataframe\">\n",
       "  <thead>\n",
       "    <tr style=\"text-align: right;\">\n",
       "      <th></th>\n",
       "      <th>Player ID</th>\n",
       "      <th>Game Group</th>\n",
       "      <th>Counts</th>\n",
       "    </tr>\n",
       "  </thead>\n",
       "  <tbody>\n",
       "    <tr>\n",
       "      <th>0</th>\n",
       "      <td>02981pleeng</td>\n",
       "      <td>SLOTGAME</td>\n",
       "      <td>4229</td>\n",
       "    </tr>\n",
       "    <tr>\n",
       "      <th>1</th>\n",
       "      <td>0917292371a</td>\n",
       "      <td>BACCARAT</td>\n",
       "      <td>3</td>\n",
       "    </tr>\n",
       "    <tr>\n",
       "      <th>2</th>\n",
       "      <td>1a9o7m8</td>\n",
       "      <td>SLOTGAME</td>\n",
       "      <td>1287</td>\n",
       "    </tr>\n",
       "    <tr>\n",
       "      <th>3</th>\n",
       "      <td>251717ma</td>\n",
       "      <td>MPG</td>\n",
       "      <td>114</td>\n",
       "    </tr>\n",
       "    <tr>\n",
       "      <th>4</th>\n",
       "      <td>2537fon</td>\n",
       "      <td>MPG</td>\n",
       "      <td>80</td>\n",
       "    </tr>\n",
       "  </tbody>\n",
       "</table>\n",
       "</div>"
      ],
      "text/plain": [
       "     Player ID Game Group  Counts\n",
       "0  02981pleeng   SLOTGAME    4229\n",
       "1  0917292371a   BACCARAT       3\n",
       "2      1a9o7m8   SLOTGAME    1287\n",
       "3     251717ma        MPG     114\n",
       "4      2537fon        MPG      80"
      ]
     },
     "execution_count": 45,
     "metadata": {},
     "output_type": "execute_result"
    }
   ],
   "source": [
    "game_group.head()"
   ]
  },
  {
   "cell_type": "code",
   "execution_count": null,
   "metadata": {
    "collapsed": true
   },
   "outputs": [],
   "source": []
  },
  {
   "cell_type": "code",
   "execution_count": 46,
   "metadata": {
    "collapsed": true
   },
   "outputs": [],
   "source": [
    "game_group_pref = df[['Player ID', 'Game', 'Game Group','Provider','Product Type']]"
   ]
  },
  {
   "cell_type": "code",
   "execution_count": 47,
   "metadata": {
    "collapsed": true
   },
   "outputs": [],
   "source": [
    "temp_col1= [x for x in game_group_pref['Game Group'].unique()]"
   ]
  },
  {
   "cell_type": "code",
   "execution_count": 48,
   "metadata": {
    "collapsed": true
   },
   "outputs": [],
   "source": [
    "for x in temp_col1:\n",
    "    game_group_pref[x]= np.where(game_group_pref['Game Group'] == x,1,0)"
   ]
  },
  {
   "cell_type": "code",
   "execution_count": 49,
   "metadata": {},
   "outputs": [
    {
     "data": {
      "text/plain": [
       "['SLOTGAME',\n",
       " 'SPORTSBOOK',\n",
       " 'BACCARAT',\n",
       " 'MPG',\n",
       " 'DRAGON_TIGER',\n",
       " 'SICBO',\n",
       " 'FISHING',\n",
       " 'ROULETTE',\n",
       " 'CARDGAME',\n",
       " 'TABLEGAME']"
      ]
     },
     "execution_count": 49,
     "metadata": {},
     "output_type": "execute_result"
    }
   ],
   "source": [
    "temp_col1"
   ]
  },
  {
   "cell_type": "code",
   "execution_count": 50,
   "metadata": {
    "collapsed": true
   },
   "outputs": [],
   "source": [
    " game_group_df = game_group_pref.groupby('Player ID').agg(['sum']).reset_index()[['Player ID']+temp_col1]"
   ]
  },
  {
   "cell_type": "code",
   "execution_count": 51,
   "metadata": {
    "collapsed": true
   },
   "outputs": [],
   "source": [
    "game_group_df.columns = [['Player ID']+temp_col1]"
   ]
  },
  {
   "cell_type": "code",
   "execution_count": 52,
   "metadata": {},
   "outputs": [
    {
     "data": {
      "text/html": [
       "<div>\n",
       "<style>\n",
       "    .dataframe thead tr:only-child th {\n",
       "        text-align: right;\n",
       "    }\n",
       "\n",
       "    .dataframe thead th {\n",
       "        text-align: left;\n",
       "    }\n",
       "\n",
       "    .dataframe tbody tr th {\n",
       "        vertical-align: top;\n",
       "    }\n",
       "</style>\n",
       "<table border=\"1\" class=\"dataframe\">\n",
       "  <thead>\n",
       "    <tr style=\"text-align: right;\">\n",
       "      <th></th>\n",
       "      <th>Player ID</th>\n",
       "      <th>SLOTGAME</th>\n",
       "      <th>SPORTSBOOK</th>\n",
       "      <th>BACCARAT</th>\n",
       "      <th>MPG</th>\n",
       "      <th>DRAGON_TIGER</th>\n",
       "      <th>SICBO</th>\n",
       "      <th>FISHING</th>\n",
       "      <th>ROULETTE</th>\n",
       "      <th>CARDGAME</th>\n",
       "      <th>TABLEGAME</th>\n",
       "    </tr>\n",
       "  </thead>\n",
       "  <tbody>\n",
       "    <tr>\n",
       "      <th>0</th>\n",
       "      <td>02981pleeng</td>\n",
       "      <td>4229</td>\n",
       "      <td>0</td>\n",
       "      <td>0</td>\n",
       "      <td>0</td>\n",
       "      <td>0</td>\n",
       "      <td>0</td>\n",
       "      <td>0</td>\n",
       "      <td>0</td>\n",
       "      <td>0</td>\n",
       "      <td>0</td>\n",
       "    </tr>\n",
       "    <tr>\n",
       "      <th>1</th>\n",
       "      <td>0917292371a</td>\n",
       "      <td>0</td>\n",
       "      <td>0</td>\n",
       "      <td>3</td>\n",
       "      <td>0</td>\n",
       "      <td>0</td>\n",
       "      <td>0</td>\n",
       "      <td>0</td>\n",
       "      <td>0</td>\n",
       "      <td>0</td>\n",
       "      <td>0</td>\n",
       "    </tr>\n",
       "    <tr>\n",
       "      <th>2</th>\n",
       "      <td>1a9o7m8</td>\n",
       "      <td>1287</td>\n",
       "      <td>0</td>\n",
       "      <td>0</td>\n",
       "      <td>0</td>\n",
       "      <td>0</td>\n",
       "      <td>0</td>\n",
       "      <td>0</td>\n",
       "      <td>0</td>\n",
       "      <td>0</td>\n",
       "      <td>0</td>\n",
       "    </tr>\n",
       "    <tr>\n",
       "      <th>3</th>\n",
       "      <td>251717ma</td>\n",
       "      <td>0</td>\n",
       "      <td>0</td>\n",
       "      <td>0</td>\n",
       "      <td>114</td>\n",
       "      <td>0</td>\n",
       "      <td>0</td>\n",
       "      <td>0</td>\n",
       "      <td>0</td>\n",
       "      <td>0</td>\n",
       "      <td>0</td>\n",
       "    </tr>\n",
       "    <tr>\n",
       "      <th>4</th>\n",
       "      <td>2537fon</td>\n",
       "      <td>127</td>\n",
       "      <td>0</td>\n",
       "      <td>0</td>\n",
       "      <td>80</td>\n",
       "      <td>0</td>\n",
       "      <td>0</td>\n",
       "      <td>0</td>\n",
       "      <td>0</td>\n",
       "      <td>0</td>\n",
       "      <td>0</td>\n",
       "    </tr>\n",
       "  </tbody>\n",
       "</table>\n",
       "</div>"
      ],
      "text/plain": [
       "     Player ID  SLOTGAME  SPORTSBOOK  BACCARAT  MPG  DRAGON_TIGER  SICBO  \\\n",
       "0  02981pleeng      4229           0         0    0             0      0   \n",
       "1  0917292371a         0           0         3    0             0      0   \n",
       "2      1a9o7m8      1287           0         0    0             0      0   \n",
       "3     251717ma         0           0         0  114             0      0   \n",
       "4      2537fon       127           0         0   80             0      0   \n",
       "\n",
       "   FISHING  ROULETTE  CARDGAME  TABLEGAME  \n",
       "0        0         0         0          0  \n",
       "1        0         0         0          0  \n",
       "2        0         0         0          0  \n",
       "3        0         0         0          0  \n",
       "4        0         0         0          0  "
      ]
     },
     "execution_count": 52,
     "metadata": {},
     "output_type": "execute_result"
    }
   ],
   "source": [
    "game_group_df.head()"
   ]
  },
  {
   "cell_type": "code",
   "execution_count": 53,
   "metadata": {},
   "outputs": [
    {
     "data": {
      "text/html": [
       "<div>\n",
       "<style>\n",
       "    .dataframe thead tr:only-child th {\n",
       "        text-align: right;\n",
       "    }\n",
       "\n",
       "    .dataframe thead th {\n",
       "        text-align: left;\n",
       "    }\n",
       "\n",
       "    .dataframe tbody tr th {\n",
       "        vertical-align: top;\n",
       "    }\n",
       "</style>\n",
       "<table border=\"1\" class=\"dataframe\">\n",
       "  <thead>\n",
       "    <tr style=\"text-align: right;\">\n",
       "      <th></th>\n",
       "      <th>Player ID</th>\n",
       "      <th>MG</th>\n",
       "      <th>VT</th>\n",
       "      <th>SBOBET</th>\n",
       "      <th>AMEBA</th>\n",
       "      <th>MX</th>\n",
       "      <th>RT</th>\n",
       "      <th>CQ9</th>\n",
       "      <th>SA</th>\n",
       "      <th>GGAMING</th>\n",
       "      <th>PT</th>\n",
       "      <th>GD</th>\n",
       "    </tr>\n",
       "  </thead>\n",
       "  <tbody>\n",
       "    <tr>\n",
       "      <th>0</th>\n",
       "      <td>02981pleeng</td>\n",
       "      <td>0</td>\n",
       "      <td>0</td>\n",
       "      <td>0</td>\n",
       "      <td>0</td>\n",
       "      <td>0</td>\n",
       "      <td>4229</td>\n",
       "      <td>0</td>\n",
       "      <td>0</td>\n",
       "      <td>0</td>\n",
       "      <td>0</td>\n",
       "      <td>0</td>\n",
       "    </tr>\n",
       "    <tr>\n",
       "      <th>1</th>\n",
       "      <td>0917292371a</td>\n",
       "      <td>0</td>\n",
       "      <td>0</td>\n",
       "      <td>0</td>\n",
       "      <td>0</td>\n",
       "      <td>1</td>\n",
       "      <td>0</td>\n",
       "      <td>0</td>\n",
       "      <td>2</td>\n",
       "      <td>0</td>\n",
       "      <td>0</td>\n",
       "      <td>0</td>\n",
       "    </tr>\n",
       "    <tr>\n",
       "      <th>2</th>\n",
       "      <td>1a9o7m8</td>\n",
       "      <td>6</td>\n",
       "      <td>0</td>\n",
       "      <td>0</td>\n",
       "      <td>0</td>\n",
       "      <td>0</td>\n",
       "      <td>1281</td>\n",
       "      <td>0</td>\n",
       "      <td>0</td>\n",
       "      <td>0</td>\n",
       "      <td>0</td>\n",
       "      <td>0</td>\n",
       "    </tr>\n",
       "    <tr>\n",
       "      <th>3</th>\n",
       "      <td>251717ma</td>\n",
       "      <td>0</td>\n",
       "      <td>0</td>\n",
       "      <td>0</td>\n",
       "      <td>0</td>\n",
       "      <td>0</td>\n",
       "      <td>0</td>\n",
       "      <td>114</td>\n",
       "      <td>0</td>\n",
       "      <td>0</td>\n",
       "      <td>0</td>\n",
       "      <td>0</td>\n",
       "    </tr>\n",
       "    <tr>\n",
       "      <th>4</th>\n",
       "      <td>2537fon</td>\n",
       "      <td>0</td>\n",
       "      <td>0</td>\n",
       "      <td>0</td>\n",
       "      <td>0</td>\n",
       "      <td>0</td>\n",
       "      <td>0</td>\n",
       "      <td>207</td>\n",
       "      <td>0</td>\n",
       "      <td>0</td>\n",
       "      <td>0</td>\n",
       "      <td>0</td>\n",
       "    </tr>\n",
       "  </tbody>\n",
       "</table>\n",
       "</div>"
      ],
      "text/plain": [
       "     Player ID  MG  VT  SBOBET  AMEBA  MX    RT  CQ9  SA  GGAMING  PT  GD\n",
       "0  02981pleeng   0   0       0      0   0  4229    0   0        0   0   0\n",
       "1  0917292371a   0   0       0      0   1     0    0   2        0   0   0\n",
       "2      1a9o7m8   6   0       0      0   0  1281    0   0        0   0   0\n",
       "3     251717ma   0   0       0      0   0     0  114   0        0   0   0\n",
       "4      2537fon   0   0       0      0   0     0  207   0        0   0   0"
      ]
     },
     "execution_count": 53,
     "metadata": {},
     "output_type": "execute_result"
    }
   ],
   "source": [
    "game_provider_type_pref = df[['Player ID', 'Game', 'Game Group','Provider','Product Type']]\n",
    "temp_col1= [x for x in game_provider_type_pref['Provider'].unique()]\n",
    "for x in temp_col1:\n",
    "    game_provider_type_pref[x]= np.where(game_provider_type_pref['Provider'] == x,1,0)\n",
    "    \n",
    "game_provider_type_pref_df = game_provider_type_pref.groupby('Player ID').agg(['sum']).reset_index()[['Player ID']+temp_col1]\n",
    "game_provider_type_pref_df.columns = [['Player ID']+temp_col1]\n",
    "game_provider_type_pref_df.head()"
   ]
  },
  {
   "cell_type": "code",
   "execution_count": 54,
   "metadata": {},
   "outputs": [
    {
     "data": {
      "text/html": [
       "<div>\n",
       "<style>\n",
       "    .dataframe thead tr:only-child th {\n",
       "        text-align: right;\n",
       "    }\n",
       "\n",
       "    .dataframe thead th {\n",
       "        text-align: left;\n",
       "    }\n",
       "\n",
       "    .dataframe tbody tr th {\n",
       "        vertical-align: top;\n",
       "    }\n",
       "</style>\n",
       "<table border=\"1\" class=\"dataframe\">\n",
       "  <thead>\n",
       "    <tr style=\"text-align: right;\">\n",
       "      <th></th>\n",
       "      <th>Player ID</th>\n",
       "      <th>EGAME</th>\n",
       "      <th>SPORTS</th>\n",
       "      <th>LIVE</th>\n",
       "      <th>MPG</th>\n",
       "    </tr>\n",
       "  </thead>\n",
       "  <tbody>\n",
       "    <tr>\n",
       "      <th>0</th>\n",
       "      <td>02981pleeng</td>\n",
       "      <td>4229</td>\n",
       "      <td>0</td>\n",
       "      <td>0</td>\n",
       "      <td>0</td>\n",
       "    </tr>\n",
       "    <tr>\n",
       "      <th>1</th>\n",
       "      <td>0917292371a</td>\n",
       "      <td>0</td>\n",
       "      <td>0</td>\n",
       "      <td>3</td>\n",
       "      <td>0</td>\n",
       "    </tr>\n",
       "    <tr>\n",
       "      <th>2</th>\n",
       "      <td>1a9o7m8</td>\n",
       "      <td>1287</td>\n",
       "      <td>0</td>\n",
       "      <td>0</td>\n",
       "      <td>0</td>\n",
       "    </tr>\n",
       "    <tr>\n",
       "      <th>3</th>\n",
       "      <td>251717ma</td>\n",
       "      <td>0</td>\n",
       "      <td>0</td>\n",
       "      <td>0</td>\n",
       "      <td>114</td>\n",
       "    </tr>\n",
       "    <tr>\n",
       "      <th>4</th>\n",
       "      <td>2537fon</td>\n",
       "      <td>127</td>\n",
       "      <td>0</td>\n",
       "      <td>0</td>\n",
       "      <td>80</td>\n",
       "    </tr>\n",
       "  </tbody>\n",
       "</table>\n",
       "</div>"
      ],
      "text/plain": [
       "     Player ID  EGAME  SPORTS  LIVE  MPG\n",
       "0  02981pleeng   4229       0     0    0\n",
       "1  0917292371a      0       0     3    0\n",
       "2      1a9o7m8   1287       0     0    0\n",
       "3     251717ma      0       0     0  114\n",
       "4      2537fon    127       0     0   80"
      ]
     },
     "execution_count": 54,
     "metadata": {},
     "output_type": "execute_result"
    }
   ],
   "source": [
    "game_product_type_pref = df[['Player ID', 'Game', 'Game Group','Provider','Product Type']]\n",
    "temp_col1= [x for x in game_product_type_pref['Product Type'].unique()]\n",
    "for x in temp_col1:\n",
    "    game_product_type_pref[x]= np.where(game_product_type_pref['Product Type'] == x,1,0)\n",
    "    \n",
    "game_product_type_pref_df = game_product_type_pref.groupby('Player ID').agg(['sum']).reset_index()[['Player ID']+temp_col1]\n",
    "game_product_type_pref_df.columns = [['Player ID']+temp_col1]\n",
    "game_product_type_pref_df.head()"
   ]
  },
  {
   "cell_type": "code",
   "execution_count": 55,
   "metadata": {},
   "outputs": [
    {
     "data": {
      "text/plain": [
       "Index(['bet_year', 'bet_month', 'Bet Time', 'Result Time', 'Ticket ID',\n",
       "       'Game ID', 'Provider', 'Product Type', 'Game Group', 'Game', 'Upline',\n",
       "       'Player ID', 'Currency', 'Stake', 'Valid Bet', 'Win/Loss', 'Tip',\n",
       "       'JP Bet', 'JP Win', 'Result Status', 'Real Name', 'Registered Date',\n",
       "       'Last Login', 't2_status', 'register_year', 'register_month',\n",
       "       'l_login_year', 'l_login_month', 'GROUP', 'Transaction Date',\n",
       "       'days_since_last_login', 'Age_on_platform'],\n",
       "      dtype='object')"
      ]
     },
     "execution_count": 55,
     "metadata": {},
     "output_type": "execute_result"
    }
   ],
   "source": [
    "df.columns"
   ]
  },
  {
   "cell_type": "code",
   "execution_count": null,
   "metadata": {
    "collapsed": true
   },
   "outputs": [],
   "source": []
  },
  {
   "cell_type": "code",
   "execution_count": 56,
   "metadata": {
    "collapsed": true
   },
   "outputs": [],
   "source": [
    "##game analysis "
   ]
  },
  {
   "cell_type": "code",
   "execution_count": 57,
   "metadata": {},
   "outputs": [
    {
     "data": {
      "text/plain": [
       "Disco Night M                  7623\n",
       "Dragon's Luck                  6431\n",
       "Lucky Twins                    6001\n",
       "Winter Wonders                 4229\n",
       "Funky Monkey                   4083\n",
       "Baccarat                       3666\n",
       "Eagle's Wings                  3402\n",
       "Wu Lu Cai Shen                 3370\n",
       "1c dafudacai-FlowerOfRiches    2885\n",
       "Long Long Long                 2769\n",
       "Name: Game, dtype: int64"
      ]
     },
     "execution_count": 57,
     "metadata": {},
     "output_type": "execute_result"
    }
   ],
   "source": [
    "#top 10 games being played\n",
    "df['Game'].value_counts()[:10]"
   ]
  },
  {
   "cell_type": "code",
   "execution_count": 58,
   "metadata": {},
   "outputs": [
    {
     "data": {
      "text/html": [
       "<div>\n",
       "<style>\n",
       "    .dataframe thead tr:only-child th {\n",
       "        text-align: right;\n",
       "    }\n",
       "\n",
       "    .dataframe thead th {\n",
       "        text-align: left;\n",
       "    }\n",
       "\n",
       "    .dataframe tbody tr th {\n",
       "        vertical-align: top;\n",
       "    }\n",
       "</style>\n",
       "<table border=\"1\" class=\"dataframe\">\n",
       "  <thead>\n",
       "    <tr style=\"text-align: right;\">\n",
       "      <th></th>\n",
       "      <th>Game</th>\n",
       "      <th>sum</th>\n",
       "    </tr>\n",
       "  </thead>\n",
       "  <tbody>\n",
       "    <tr>\n",
       "      <th>138</th>\n",
       "      <td>Paradise</td>\n",
       "      <td>166737.54</td>\n",
       "    </tr>\n",
       "    <tr>\n",
       "      <th>27</th>\n",
       "      <td>Baccarat</td>\n",
       "      <td>166600.00</td>\n",
       "    </tr>\n",
       "    <tr>\n",
       "      <th>55</th>\n",
       "      <td>Dragon's Luck</td>\n",
       "      <td>127592.00</td>\n",
       "    </tr>\n",
       "    <tr>\n",
       "      <th>48</th>\n",
       "      <td>Disco Night M</td>\n",
       "      <td>95365.00</td>\n",
       "    </tr>\n",
       "    <tr>\n",
       "      <th>68</th>\n",
       "      <td>Fishing World2</td>\n",
       "      <td>70452.50</td>\n",
       "    </tr>\n",
       "    <tr>\n",
       "      <th>198</th>\n",
       "      <td>Wu Lu Cai Shen</td>\n",
       "      <td>50544.00</td>\n",
       "    </tr>\n",
       "    <tr>\n",
       "      <th>128</th>\n",
       "      <td>Magical Stacks</td>\n",
       "      <td>38950.00</td>\n",
       "    </tr>\n",
       "    <tr>\n",
       "      <th>195</th>\n",
       "      <td>Winter Wonders</td>\n",
       "      <td>31179.00</td>\n",
       "    </tr>\n",
       "    <tr>\n",
       "      <th>78</th>\n",
       "      <td>Funky Monkey</td>\n",
       "      <td>27229.50</td>\n",
       "    </tr>\n",
       "    <tr>\n",
       "      <th>187</th>\n",
       "      <td>Totem Lighting Power Reels</td>\n",
       "      <td>18860.00</td>\n",
       "    </tr>\n",
       "  </tbody>\n",
       "</table>\n",
       "</div>"
      ],
      "text/plain": [
       "                           Game        sum\n",
       "138                    Paradise  166737.54\n",
       "27                     Baccarat  166600.00\n",
       "55                Dragon's Luck  127592.00\n",
       "48                Disco Night M   95365.00\n",
       "68               Fishing World2   70452.50\n",
       "198              Wu Lu Cai Shen   50544.00\n",
       "128              Magical Stacks   38950.00\n",
       "195              Winter Wonders   31179.00\n",
       "78                 Funky Monkey   27229.50\n",
       "187  Totem Lighting Power Reels   18860.00"
      ]
     },
     "execution_count": 58,
     "metadata": {},
     "output_type": "execute_result"
    }
   ],
   "source": [
    "#top 10 games by amount spend\n",
    "df[['Game','Stake']].groupby('Game')['Stake'].agg(['sum']).reset_index().sort_values(by ='sum', ascending =False).head(10)"
   ]
  },
  {
   "cell_type": "code",
   "execution_count": null,
   "metadata": {
    "collapsed": true
   },
   "outputs": [],
   "source": []
  },
  {
   "cell_type": "code",
   "execution_count": 153,
   "metadata": {
    "collapsed": true
   },
   "outputs": [],
   "source": [
    "# https://github.com/Echochi/PyConZA2018/blob/master/Segmentation.ipynb"
   ]
  }
 ],
 "metadata": {
  "kernelspec": {
   "display_name": "Python 3",
   "language": "python",
   "name": "python3"
  },
  "language_info": {
   "codemirror_mode": {
    "name": "ipython",
    "version": 3
   },
   "file_extension": ".py",
   "mimetype": "text/x-python",
   "name": "python",
   "nbconvert_exporter": "python",
   "pygments_lexer": "ipython3",
   "version": "3.6.3"
  }
 },
 "nbformat": 4,
 "nbformat_minor": 2
}
