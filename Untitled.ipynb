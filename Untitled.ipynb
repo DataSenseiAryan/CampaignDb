{
 "cells": [
  {
   "cell_type": "code",
   "execution_count": 1,
   "metadata": {
    "collapsed": true
   },
   "outputs": [],
   "source": [
    "import pyodbc \n",
    "import pandas as pd\n",
    "import numpy as np\n",
    "import datetime\n",
    "from functools import reduce\n",
    "import matplotlib.pyplot as plt\n",
    "from scipy import stats\n",
    "\n",
    "from sklearn import preprocessing\n",
    "from sklearn.cluster import KMeans\n",
    "from sklearn.metrics import calinski_harabaz_score, silhouette_score\n",
    "from sklearn.decomposition import PCA\n",
    "\n",
    "import warnings\n",
    "\n",
    "warnings.filterwarnings('ignore')\n",
    "%matplotlib inline\n",
    "\n"
   ]
  },
  {
   "cell_type": "code",
   "execution_count": 2,
   "metadata": {
    "collapsed": true
   },
   "outputs": [],
   "source": [
    "cnxn = pyodbc.connect(\"Driver={SQL Server Native Client 11.0};\"\n",
    "                      \"Server=LAPTOP-CU20T8L1;\"\n",
    "                      \"Database=CAMPAIGN_DB2;\"\n",
    "                      \"Trusted_Connection=yes;\")\n",
    "\n",
    "\n",
    "cursor = cnxn.cursor()\n"
   ]
  },
  {
   "cell_type": "code",
   "execution_count": 3,
   "metadata": {
    "collapsed": true
   },
   "outputs": [],
   "source": [
    "# cursor.execute('SELECT TOP(1000)* FROM CAMPAIGN_TBL_FINAL')\n",
    "\n",
    "# for row in cursor:\n",
    "#      print('row = %r' % (row,))"
   ]
  },
  {
   "cell_type": "code",
   "execution_count": null,
   "metadata": {
    "collapsed": true
   },
   "outputs": [],
   "source": []
  },
  {
   "cell_type": "code",
   "execution_count": 56,
   "metadata": {
    "collapsed": true
   },
   "outputs": [],
   "source": [
    "sql = pd.read_sql_query('SELECT TOP(500000) * FROM CAMPAIGN_TBL_FINAL',cnxn)"
   ]
  },
  {
   "cell_type": "code",
   "execution_count": 57,
   "metadata": {
    "collapsed": true
   },
   "outputs": [],
   "source": [
    "df = pd.DataFrame(sql)"
   ]
  },
  {
   "cell_type": "code",
   "execution_count": null,
   "metadata": {
    "collapsed": true
   },
   "outputs": [],
   "source": []
  },
  {
   "cell_type": "code",
   "execution_count": 58,
   "metadata": {
    "collapsed": true,
    "scrolled": true
   },
   "outputs": [],
   "source": [
    "# df.info()"
   ]
  },
  {
   "cell_type": "code",
   "execution_count": 59,
   "metadata": {},
   "outputs": [],
   "source": [
    "# df.describe()"
   ]
  },
  {
   "cell_type": "code",
   "execution_count": 60,
   "metadata": {},
   "outputs": [
    {
     "data": {
      "text/plain": [
       "Index(['bet_year', 'bet_month', 'Bet Time', 'Result Time', 'Ticket ID',\n",
       "       'Game ID', 'Provider', 'Product Type', 'Game Group', 'Game', 'Upline',\n",
       "       'Player ID', 'Currency', 'Stake', 'Valid Bet', 'Win/Loss', 'Tip',\n",
       "       'JP Bet', 'JP Win', 'Result Status', 'Real Name', 'Registered Date',\n",
       "       'Last Login', 't2_status', 'register_year', 'register_month',\n",
       "       'l_login_year', 'l_login_month', 'GROUP'],\n",
       "      dtype='object')"
      ]
     },
     "execution_count": 60,
     "metadata": {},
     "output_type": "execute_result"
    }
   ],
   "source": [
    "df.columns"
   ]
  },
  {
   "cell_type": "code",
   "execution_count": 61,
   "metadata": {
    "collapsed": true
   },
   "outputs": [],
   "source": [
    "df['Bet Time'] = pd.to_datetime(df['Bet Time'])\n",
    "df['Result Time'] = pd.to_datetime(df['Result Time'])\n",
    "df['Registered Date'] = pd.to_datetime(df['Registered Date'])\n",
    "df['Last Login'] = pd.to_datetime(df['Last Login'])"
   ]
  },
  {
   "cell_type": "code",
   "execution_count": 62,
   "metadata": {},
   "outputs": [
    {
     "data": {
      "text/html": [
       "<div>\n",
       "<style>\n",
       "    .dataframe thead tr:only-child th {\n",
       "        text-align: right;\n",
       "    }\n",
       "\n",
       "    .dataframe thead th {\n",
       "        text-align: left;\n",
       "    }\n",
       "\n",
       "    .dataframe tbody tr th {\n",
       "        vertical-align: top;\n",
       "    }\n",
       "</style>\n",
       "<table border=\"1\" class=\"dataframe\">\n",
       "  <thead>\n",
       "    <tr style=\"text-align: right;\">\n",
       "      <th></th>\n",
       "      <th>bet_year</th>\n",
       "      <th>bet_month</th>\n",
       "      <th>Bet Time</th>\n",
       "      <th>Result Time</th>\n",
       "      <th>Ticket ID</th>\n",
       "      <th>Game ID</th>\n",
       "      <th>Provider</th>\n",
       "      <th>Product Type</th>\n",
       "      <th>Game Group</th>\n",
       "      <th>Game</th>\n",
       "      <th>...</th>\n",
       "      <th>Result Status</th>\n",
       "      <th>Real Name</th>\n",
       "      <th>Registered Date</th>\n",
       "      <th>Last Login</th>\n",
       "      <th>t2_status</th>\n",
       "      <th>register_year</th>\n",
       "      <th>register_month</th>\n",
       "      <th>l_login_year</th>\n",
       "      <th>l_login_month</th>\n",
       "      <th>GROUP</th>\n",
       "    </tr>\n",
       "  </thead>\n",
       "  <tbody>\n",
       "    <tr>\n",
       "      <th>0</th>\n",
       "      <td>2020</td>\n",
       "      <td>03</td>\n",
       "      <td>2020-03-04 08:52:58</td>\n",
       "      <td>2020-03-04 08:52:58</td>\n",
       "      <td>90498165</td>\n",
       "      <td>90498165</td>\n",
       "      <td>MG</td>\n",
       "      <td>EGAME</td>\n",
       "      <td>SLOTGAME</td>\n",
       "      <td>Lara Croft Temples and Tombs</td>\n",
       "      <td>...</td>\n",
       "      <td>Settled</td>\n",
       "      <td>จิระเมศร์ ถาลี</td>\n",
       "      <td>2019-10-17 16:43:41</td>\n",
       "      <td>2020-04-22 15:33:41</td>\n",
       "      <td>ACTIVE</td>\n",
       "      <td>2019</td>\n",
       "      <td>10</td>\n",
       "      <td>2020</td>\n",
       "      <td>04</td>\n",
       "      <td>EGAME                                         ...</td>\n",
       "    </tr>\n",
       "    <tr>\n",
       "      <th>1</th>\n",
       "      <td>2020</td>\n",
       "      <td>03</td>\n",
       "      <td>2020-03-04 08:53:01</td>\n",
       "      <td>2020-03-04 08:53:01</td>\n",
       "      <td>90498178</td>\n",
       "      <td>90498178</td>\n",
       "      <td>MG</td>\n",
       "      <td>EGAME</td>\n",
       "      <td>SLOTGAME</td>\n",
       "      <td>Lara Croft Temples and Tombs</td>\n",
       "      <td>...</td>\n",
       "      <td>Settled</td>\n",
       "      <td>จิระเมศร์ ถาลี</td>\n",
       "      <td>2019-10-17 16:43:41</td>\n",
       "      <td>2020-04-22 15:33:41</td>\n",
       "      <td>ACTIVE</td>\n",
       "      <td>2019</td>\n",
       "      <td>10</td>\n",
       "      <td>2020</td>\n",
       "      <td>04</td>\n",
       "      <td>EGAME                                         ...</td>\n",
       "    </tr>\n",
       "    <tr>\n",
       "      <th>2</th>\n",
       "      <td>2020</td>\n",
       "      <td>03</td>\n",
       "      <td>2020-03-04 08:53:05</td>\n",
       "      <td>2020-03-04 08:53:05</td>\n",
       "      <td>90498196</td>\n",
       "      <td>90498196</td>\n",
       "      <td>MG</td>\n",
       "      <td>EGAME</td>\n",
       "      <td>SLOTGAME</td>\n",
       "      <td>Lara Croft Temples and Tombs</td>\n",
       "      <td>...</td>\n",
       "      <td>Settled</td>\n",
       "      <td>จิระเมศร์ ถาลี</td>\n",
       "      <td>2019-10-17 16:43:41</td>\n",
       "      <td>2020-04-22 15:33:41</td>\n",
       "      <td>ACTIVE</td>\n",
       "      <td>2019</td>\n",
       "      <td>10</td>\n",
       "      <td>2020</td>\n",
       "      <td>04</td>\n",
       "      <td>EGAME                                         ...</td>\n",
       "    </tr>\n",
       "    <tr>\n",
       "      <th>3</th>\n",
       "      <td>2020</td>\n",
       "      <td>03</td>\n",
       "      <td>2020-03-04 08:53:08</td>\n",
       "      <td>2020-03-04 08:53:08</td>\n",
       "      <td>90498211</td>\n",
       "      <td>90498211</td>\n",
       "      <td>MG</td>\n",
       "      <td>EGAME</td>\n",
       "      <td>SLOTGAME</td>\n",
       "      <td>Lara Croft Temples and Tombs</td>\n",
       "      <td>...</td>\n",
       "      <td>Settled</td>\n",
       "      <td>จิระเมศร์ ถาลี</td>\n",
       "      <td>2019-10-17 16:43:41</td>\n",
       "      <td>2020-04-22 15:33:41</td>\n",
       "      <td>ACTIVE</td>\n",
       "      <td>2019</td>\n",
       "      <td>10</td>\n",
       "      <td>2020</td>\n",
       "      <td>04</td>\n",
       "      <td>EGAME                                         ...</td>\n",
       "    </tr>\n",
       "    <tr>\n",
       "      <th>4</th>\n",
       "      <td>2020</td>\n",
       "      <td>03</td>\n",
       "      <td>2020-03-04 08:53:11</td>\n",
       "      <td>2020-03-04 08:53:11</td>\n",
       "      <td>687889250</td>\n",
       "      <td>687889250</td>\n",
       "      <td>VT</td>\n",
       "      <td>EGAME</td>\n",
       "      <td>SLOTGAME</td>\n",
       "      <td>50 Lions</td>\n",
       "      <td>...</td>\n",
       "      <td>Settled</td>\n",
       "      <td>ศุภชัย   ณ นคร</td>\n",
       "      <td>2019-03-10 13:04:23</td>\n",
       "      <td>2020-05-26 12:54:26</td>\n",
       "      <td>ACTIVE</td>\n",
       "      <td>2019</td>\n",
       "      <td>03</td>\n",
       "      <td>2020</td>\n",
       "      <td>05</td>\n",
       "      <td>EGAME                                         ...</td>\n",
       "    </tr>\n",
       "  </tbody>\n",
       "</table>\n",
       "<p>5 rows × 29 columns</p>\n",
       "</div>"
      ],
      "text/plain": [
       "  bet_year bet_month            Bet Time         Result Time  Ticket ID  \\\n",
       "0     2020        03 2020-03-04 08:52:58 2020-03-04 08:52:58   90498165   \n",
       "1     2020        03 2020-03-04 08:53:01 2020-03-04 08:53:01   90498178   \n",
       "2     2020        03 2020-03-04 08:53:05 2020-03-04 08:53:05   90498196   \n",
       "3     2020        03 2020-03-04 08:53:08 2020-03-04 08:53:08   90498211   \n",
       "4     2020        03 2020-03-04 08:53:11 2020-03-04 08:53:11  687889250   \n",
       "\n",
       "     Game ID Provider Product Type Game Group                          Game  \\\n",
       "0   90498165       MG        EGAME   SLOTGAME  Lara Croft Temples and Tombs   \n",
       "1   90498178       MG        EGAME   SLOTGAME  Lara Croft Temples and Tombs   \n",
       "2   90498196       MG        EGAME   SLOTGAME  Lara Croft Temples and Tombs   \n",
       "3   90498211       MG        EGAME   SLOTGAME  Lara Croft Temples and Tombs   \n",
       "4  687889250       VT        EGAME   SLOTGAME                      50 Lions   \n",
       "\n",
       "                         ...                         Result Status  \\\n",
       "0                        ...                               Settled   \n",
       "1                        ...                               Settled   \n",
       "2                        ...                               Settled   \n",
       "3                        ...                               Settled   \n",
       "4                        ...                               Settled   \n",
       "\n",
       "        Real Name     Registered Date          Last Login  t2_status  \\\n",
       "0  จิระเมศร์ ถาลี 2019-10-17 16:43:41 2020-04-22 15:33:41     ACTIVE   \n",
       "1  จิระเมศร์ ถาลี 2019-10-17 16:43:41 2020-04-22 15:33:41     ACTIVE   \n",
       "2  จิระเมศร์ ถาลี 2019-10-17 16:43:41 2020-04-22 15:33:41     ACTIVE   \n",
       "3  จิระเมศร์ ถาลี 2019-10-17 16:43:41 2020-04-22 15:33:41     ACTIVE   \n",
       "4  ศุภชัย   ณ นคร 2019-03-10 13:04:23 2020-05-26 12:54:26     ACTIVE   \n",
       "\n",
       "   register_year  register_month  l_login_year  l_login_month  \\\n",
       "0           2019              10          2020             04   \n",
       "1           2019              10          2020             04   \n",
       "2           2019              10          2020             04   \n",
       "3           2019              10          2020             04   \n",
       "4           2019              03          2020             05   \n",
       "\n",
       "                                               GROUP  \n",
       "0  EGAME                                         ...  \n",
       "1  EGAME                                         ...  \n",
       "2  EGAME                                         ...  \n",
       "3  EGAME                                         ...  \n",
       "4  EGAME                                         ...  \n",
       "\n",
       "[5 rows x 29 columns]"
      ]
     },
     "execution_count": 62,
     "metadata": {},
     "output_type": "execute_result"
    }
   ],
   "source": [
    "df.head()"
   ]
  },
  {
   "cell_type": "code",
   "execution_count": null,
   "metadata": {
    "collapsed": true
   },
   "outputs": [],
   "source": []
  },
  {
   "cell_type": "code",
   "execution_count": 63,
   "metadata": {
    "collapsed": true
   },
   "outputs": [],
   "source": [
    "# df['date'] = pd.to_datetime(df['date'])"
   ]
  },
  {
   "cell_type": "code",
   "execution_count": 64,
   "metadata": {
    "collapsed": true
   },
   "outputs": [],
   "source": [
    "# df['Product Type'].unique()"
   ]
  },
  {
   "cell_type": "code",
   "execution_count": 65,
   "metadata": {
    "collapsed": true
   },
   "outputs": [],
   "source": [
    "# df['GROUP'].unique() #both are same"
   ]
  },
  {
   "cell_type": "code",
   "execution_count": 66,
   "metadata": {
    "collapsed": true
   },
   "outputs": [],
   "source": [
    "# df['t2_status'].unique()"
   ]
  },
  {
   "cell_type": "code",
   "execution_count": 67,
   "metadata": {
    "collapsed": true
   },
   "outputs": [],
   "source": [
    "# df['Result Status'].unique()"
   ]
  },
  {
   "cell_type": "code",
   "execution_count": 68,
   "metadata": {
    "collapsed": true
   },
   "outputs": [],
   "source": [
    "# df['Provider'].unique()"
   ]
  },
  {
   "cell_type": "code",
   "execution_count": 69,
   "metadata": {
    "collapsed": true
   },
   "outputs": [],
   "source": [
    "# df['Game Group'].unique()"
   ]
  },
  {
   "cell_type": "code",
   "execution_count": null,
   "metadata": {
    "collapsed": true
   },
   "outputs": [],
   "source": []
  },
  {
   "cell_type": "code",
   "execution_count": 70,
   "metadata": {
    "collapsed": true
   },
   "outputs": [],
   "source": []
  },
  {
   "cell_type": "code",
   "execution_count": 71,
   "metadata": {},
   "outputs": [
    {
     "data": {
      "text/html": [
       "<div>\n",
       "<style>\n",
       "    .dataframe thead tr:only-child th {\n",
       "        text-align: right;\n",
       "    }\n",
       "\n",
       "    .dataframe thead th {\n",
       "        text-align: left;\n",
       "    }\n",
       "\n",
       "    .dataframe tbody tr th {\n",
       "        vertical-align: top;\n",
       "    }\n",
       "</style>\n",
       "<table border=\"1\" class=\"dataframe\">\n",
       "  <thead>\n",
       "    <tr>\n",
       "      <th></th>\n",
       "      <th colspan=\"2\" halign=\"left\">Stake</th>\n",
       "      <th colspan=\"2\" halign=\"left\">Valid Bet</th>\n",
       "      <th colspan=\"2\" halign=\"left\">Win/Loss</th>\n",
       "    </tr>\n",
       "    <tr>\n",
       "      <th></th>\n",
       "      <th>total_stake</th>\n",
       "      <th>mean_stake(total_stake/total bets)</th>\n",
       "      <th>total_Valid Bet</th>\n",
       "      <th>mean_Valid Bet total_valid bets/total bets)</th>\n",
       "      <th>total_WIn/Loss</th>\n",
       "      <th>mean_Valid Bet total_Win/Loss/total bets)</th>\n",
       "    </tr>\n",
       "    <tr>\n",
       "      <th>Player ID</th>\n",
       "      <th></th>\n",
       "      <th></th>\n",
       "      <th></th>\n",
       "      <th></th>\n",
       "      <th></th>\n",
       "      <th></th>\n",
       "    </tr>\n",
       "  </thead>\n",
       "  <tbody>\n",
       "    <tr>\n",
       "      <th>02981pleeng</th>\n",
       "      <td>47341.00</td>\n",
       "      <td>7.572137</td>\n",
       "      <td>47341.00</td>\n",
       "      <td>7.572137</td>\n",
       "      <td>2268.70</td>\n",
       "      <td>0.362876</td>\n",
       "    </tr>\n",
       "    <tr>\n",
       "      <th>0641976840</th>\n",
       "      <td>4525.29</td>\n",
       "      <td>1.578406</td>\n",
       "      <td>4525.29</td>\n",
       "      <td>1.578406</td>\n",
       "      <td>71.21</td>\n",
       "      <td>0.024838</td>\n",
       "    </tr>\n",
       "    <tr>\n",
       "      <th>0917292371a</th>\n",
       "      <td>4495.00</td>\n",
       "      <td>195.434783</td>\n",
       "      <td>4385.00</td>\n",
       "      <td>190.652174</td>\n",
       "      <td>-3704.50</td>\n",
       "      <td>-161.065217</td>\n",
       "    </tr>\n",
       "    <tr>\n",
       "      <th>1100500298961</th>\n",
       "      <td>2061.41</td>\n",
       "      <td>1.443564</td>\n",
       "      <td>2061.41</td>\n",
       "      <td>1.443564</td>\n",
       "      <td>-99.98</td>\n",
       "      <td>-0.070014</td>\n",
       "    </tr>\n",
       "    <tr>\n",
       "      <th>1123nan</th>\n",
       "      <td>33.00</td>\n",
       "      <td>33.000000</td>\n",
       "      <td>33.00</td>\n",
       "      <td>33.000000</td>\n",
       "      <td>-33.00</td>\n",
       "      <td>-33.000000</td>\n",
       "    </tr>\n",
       "  </tbody>\n",
       "</table>\n",
       "</div>"
      ],
      "text/plain": [
       "                    Stake                                          Valid Bet  \\\n",
       "              total_stake mean_stake(total_stake/total bets) total_Valid Bet   \n",
       "Player ID                                                                      \n",
       "02981pleeng      47341.00                           7.572137        47341.00   \n",
       "0641976840        4525.29                           1.578406         4525.29   \n",
       "0917292371a       4495.00                         195.434783         4385.00   \n",
       "1100500298961     2061.41                           1.443564         2061.41   \n",
       "1123nan             33.00                          33.000000           33.00   \n",
       "\n",
       "                                                                Win/Loss  \\\n",
       "              mean_Valid Bet total_valid bets/total bets) total_WIn/Loss   \n",
       "Player ID                                                                  \n",
       "02981pleeng                                      7.572137        2268.70   \n",
       "0641976840                                       1.578406          71.21   \n",
       "0917292371a                                    190.652174       -3704.50   \n",
       "1100500298961                                    1.443564         -99.98   \n",
       "1123nan                                         33.000000         -33.00   \n",
       "\n",
       "                                                         \n",
       "              mean_Valid Bet total_Win/Loss/total bets)  \n",
       "Player ID                                                \n",
       "02981pleeng                                    0.362876  \n",
       "0641976840                                     0.024838  \n",
       "0917292371a                                 -161.065217  \n",
       "1100500298961                                 -0.070014  \n",
       "1123nan                                      -33.000000  "
      ]
     },
     "execution_count": 71,
     "metadata": {},
     "output_type": "execute_result"
    }
   ],
   "source": [
    "player.head()"
   ]
  },
  {
   "cell_type": "code",
   "execution_count": null,
   "metadata": {
    "collapsed": true
   },
   "outputs": [],
   "source": []
  },
  {
   "cell_type": "code",
   "execution_count": 72,
   "metadata": {
    "collapsed": true
   },
   "outputs": [],
   "source": [
    "df['Transaction Date'] = df['Bet Time'].dt.date"
   ]
  },
  {
   "cell_type": "code",
   "execution_count": 73,
   "metadata": {},
   "outputs": [
    {
     "data": {
      "text/html": [
       "<div>\n",
       "<style>\n",
       "    .dataframe thead tr:only-child th {\n",
       "        text-align: right;\n",
       "    }\n",
       "\n",
       "    .dataframe thead th {\n",
       "        text-align: left;\n",
       "    }\n",
       "\n",
       "    .dataframe tbody tr th {\n",
       "        vertical-align: top;\n",
       "    }\n",
       "</style>\n",
       "<table border=\"1\" class=\"dataframe\">\n",
       "  <thead>\n",
       "    <tr style=\"text-align: right;\">\n",
       "      <th></th>\n",
       "      <th>bet_year</th>\n",
       "      <th>bet_month</th>\n",
       "      <th>Bet Time</th>\n",
       "      <th>Result Time</th>\n",
       "      <th>Ticket ID</th>\n",
       "      <th>Game ID</th>\n",
       "      <th>Provider</th>\n",
       "      <th>Product Type</th>\n",
       "      <th>Game Group</th>\n",
       "      <th>Game</th>\n",
       "      <th>...</th>\n",
       "      <th>Real Name</th>\n",
       "      <th>Registered Date</th>\n",
       "      <th>Last Login</th>\n",
       "      <th>t2_status</th>\n",
       "      <th>register_year</th>\n",
       "      <th>register_month</th>\n",
       "      <th>l_login_year</th>\n",
       "      <th>l_login_month</th>\n",
       "      <th>GROUP</th>\n",
       "      <th>Transaction Date</th>\n",
       "    </tr>\n",
       "  </thead>\n",
       "  <tbody>\n",
       "    <tr>\n",
       "      <th>0</th>\n",
       "      <td>2020</td>\n",
       "      <td>03</td>\n",
       "      <td>2020-03-04 08:52:58</td>\n",
       "      <td>2020-03-04 08:52:58</td>\n",
       "      <td>90498165</td>\n",
       "      <td>90498165</td>\n",
       "      <td>MG</td>\n",
       "      <td>EGAME</td>\n",
       "      <td>SLOTGAME</td>\n",
       "      <td>Lara Croft Temples and Tombs</td>\n",
       "      <td>...</td>\n",
       "      <td>จิระเมศร์ ถาลี</td>\n",
       "      <td>2019-10-17 16:43:41</td>\n",
       "      <td>2020-04-22 15:33:41</td>\n",
       "      <td>ACTIVE</td>\n",
       "      <td>2019</td>\n",
       "      <td>10</td>\n",
       "      <td>2020</td>\n",
       "      <td>04</td>\n",
       "      <td>EGAME                                         ...</td>\n",
       "      <td>2020-03-04</td>\n",
       "    </tr>\n",
       "    <tr>\n",
       "      <th>1</th>\n",
       "      <td>2020</td>\n",
       "      <td>03</td>\n",
       "      <td>2020-03-04 08:53:01</td>\n",
       "      <td>2020-03-04 08:53:01</td>\n",
       "      <td>90498178</td>\n",
       "      <td>90498178</td>\n",
       "      <td>MG</td>\n",
       "      <td>EGAME</td>\n",
       "      <td>SLOTGAME</td>\n",
       "      <td>Lara Croft Temples and Tombs</td>\n",
       "      <td>...</td>\n",
       "      <td>จิระเมศร์ ถาลี</td>\n",
       "      <td>2019-10-17 16:43:41</td>\n",
       "      <td>2020-04-22 15:33:41</td>\n",
       "      <td>ACTIVE</td>\n",
       "      <td>2019</td>\n",
       "      <td>10</td>\n",
       "      <td>2020</td>\n",
       "      <td>04</td>\n",
       "      <td>EGAME                                         ...</td>\n",
       "      <td>2020-03-04</td>\n",
       "    </tr>\n",
       "    <tr>\n",
       "      <th>2</th>\n",
       "      <td>2020</td>\n",
       "      <td>03</td>\n",
       "      <td>2020-03-04 08:53:05</td>\n",
       "      <td>2020-03-04 08:53:05</td>\n",
       "      <td>90498196</td>\n",
       "      <td>90498196</td>\n",
       "      <td>MG</td>\n",
       "      <td>EGAME</td>\n",
       "      <td>SLOTGAME</td>\n",
       "      <td>Lara Croft Temples and Tombs</td>\n",
       "      <td>...</td>\n",
       "      <td>จิระเมศร์ ถาลี</td>\n",
       "      <td>2019-10-17 16:43:41</td>\n",
       "      <td>2020-04-22 15:33:41</td>\n",
       "      <td>ACTIVE</td>\n",
       "      <td>2019</td>\n",
       "      <td>10</td>\n",
       "      <td>2020</td>\n",
       "      <td>04</td>\n",
       "      <td>EGAME                                         ...</td>\n",
       "      <td>2020-03-04</td>\n",
       "    </tr>\n",
       "    <tr>\n",
       "      <th>3</th>\n",
       "      <td>2020</td>\n",
       "      <td>03</td>\n",
       "      <td>2020-03-04 08:53:08</td>\n",
       "      <td>2020-03-04 08:53:08</td>\n",
       "      <td>90498211</td>\n",
       "      <td>90498211</td>\n",
       "      <td>MG</td>\n",
       "      <td>EGAME</td>\n",
       "      <td>SLOTGAME</td>\n",
       "      <td>Lara Croft Temples and Tombs</td>\n",
       "      <td>...</td>\n",
       "      <td>จิระเมศร์ ถาลี</td>\n",
       "      <td>2019-10-17 16:43:41</td>\n",
       "      <td>2020-04-22 15:33:41</td>\n",
       "      <td>ACTIVE</td>\n",
       "      <td>2019</td>\n",
       "      <td>10</td>\n",
       "      <td>2020</td>\n",
       "      <td>04</td>\n",
       "      <td>EGAME                                         ...</td>\n",
       "      <td>2020-03-04</td>\n",
       "    </tr>\n",
       "    <tr>\n",
       "      <th>4</th>\n",
       "      <td>2020</td>\n",
       "      <td>03</td>\n",
       "      <td>2020-03-04 08:53:11</td>\n",
       "      <td>2020-03-04 08:53:11</td>\n",
       "      <td>687889250</td>\n",
       "      <td>687889250</td>\n",
       "      <td>VT</td>\n",
       "      <td>EGAME</td>\n",
       "      <td>SLOTGAME</td>\n",
       "      <td>50 Lions</td>\n",
       "      <td>...</td>\n",
       "      <td>ศุภชัย   ณ นคร</td>\n",
       "      <td>2019-03-10 13:04:23</td>\n",
       "      <td>2020-05-26 12:54:26</td>\n",
       "      <td>ACTIVE</td>\n",
       "      <td>2019</td>\n",
       "      <td>03</td>\n",
       "      <td>2020</td>\n",
       "      <td>05</td>\n",
       "      <td>EGAME                                         ...</td>\n",
       "      <td>2020-03-04</td>\n",
       "    </tr>\n",
       "  </tbody>\n",
       "</table>\n",
       "<p>5 rows × 30 columns</p>\n",
       "</div>"
      ],
      "text/plain": [
       "  bet_year bet_month            Bet Time         Result Time  Ticket ID  \\\n",
       "0     2020        03 2020-03-04 08:52:58 2020-03-04 08:52:58   90498165   \n",
       "1     2020        03 2020-03-04 08:53:01 2020-03-04 08:53:01   90498178   \n",
       "2     2020        03 2020-03-04 08:53:05 2020-03-04 08:53:05   90498196   \n",
       "3     2020        03 2020-03-04 08:53:08 2020-03-04 08:53:08   90498211   \n",
       "4     2020        03 2020-03-04 08:53:11 2020-03-04 08:53:11  687889250   \n",
       "\n",
       "     Game ID Provider Product Type Game Group                          Game  \\\n",
       "0   90498165       MG        EGAME   SLOTGAME  Lara Croft Temples and Tombs   \n",
       "1   90498178       MG        EGAME   SLOTGAME  Lara Croft Temples and Tombs   \n",
       "2   90498196       MG        EGAME   SLOTGAME  Lara Croft Temples and Tombs   \n",
       "3   90498211       MG        EGAME   SLOTGAME  Lara Croft Temples and Tombs   \n",
       "4  687889250       VT        EGAME   SLOTGAME                      50 Lions   \n",
       "\n",
       "        ...              Real Name     Registered Date          Last Login  \\\n",
       "0       ...         จิระเมศร์ ถาลี 2019-10-17 16:43:41 2020-04-22 15:33:41   \n",
       "1       ...         จิระเมศร์ ถาลี 2019-10-17 16:43:41 2020-04-22 15:33:41   \n",
       "2       ...         จิระเมศร์ ถาลี 2019-10-17 16:43:41 2020-04-22 15:33:41   \n",
       "3       ...         จิระเมศร์ ถาลี 2019-10-17 16:43:41 2020-04-22 15:33:41   \n",
       "4       ...         ศุภชัย   ณ นคร 2019-03-10 13:04:23 2020-05-26 12:54:26   \n",
       "\n",
       "   t2_status  register_year  register_month  l_login_year  l_login_month  \\\n",
       "0     ACTIVE           2019              10          2020             04   \n",
       "1     ACTIVE           2019              10          2020             04   \n",
       "2     ACTIVE           2019              10          2020             04   \n",
       "3     ACTIVE           2019              10          2020             04   \n",
       "4     ACTIVE           2019              03          2020             05   \n",
       "\n",
       "                                               GROUP Transaction Date  \n",
       "0  EGAME                                         ...       2020-03-04  \n",
       "1  EGAME                                         ...       2020-03-04  \n",
       "2  EGAME                                         ...       2020-03-04  \n",
       "3  EGAME                                         ...       2020-03-04  \n",
       "4  EGAME                                         ...       2020-03-04  \n",
       "\n",
       "[5 rows x 30 columns]"
      ]
     },
     "execution_count": 73,
     "metadata": {},
     "output_type": "execute_result"
    }
   ],
   "source": [
    "df.head()"
   ]
  },
  {
   "cell_type": "code",
   "execution_count": null,
   "metadata": {
    "collapsed": true
   },
   "outputs": [],
   "source": []
  },
  {
   "cell_type": "code",
   "execution_count": 74,
   "metadata": {
    "collapsed": true
   },
   "outputs": [],
   "source": []
  },
  {
   "cell_type": "code",
   "execution_count": 75,
   "metadata": {
    "collapsed": true
   },
   "outputs": [],
   "source": []
  },
  {
   "cell_type": "code",
   "execution_count": 76,
   "metadata": {},
   "outputs": [
    {
     "data": {
      "text/plain": [
       "Dragon's Luck                   60971\n",
       "Lucky Twins                     42197\n",
       "Disco Night M                   31569\n",
       "Eagle's Wings                   28557\n",
       "Funky Monkey                    14527\n",
       "Fortune House                   13905\n",
       "Lara Croft Temples and Tombs    13483\n",
       "The Twisted Circus              12606\n",
       "Golden Lotus                    10604\n",
       "Baccarat                         9382\n",
       "Name: Game, dtype: int64"
      ]
     },
     "execution_count": 76,
     "metadata": {},
     "output_type": "execute_result"
    }
   ],
   "source": []
  },
  {
   "cell_type": "code",
   "execution_count": 77,
   "metadata": {
    "collapsed": true
   },
   "outputs": [],
   "source": [
    "df['days_since_last_login'] = (df['Last Login'].max() - df['Last Login']).astype('timedelta64[D]')\n",
    "df['Age_on_platform'] = (df['Last Login']- df['Registered Date']).astype('timedelta64[D]')\n",
    "#time spent playing"
   ]
  },
  {
   "cell_type": "code",
   "execution_count": null,
   "metadata": {
    "collapsed": true
   },
   "outputs": [],
   "source": []
  },
  {
   "cell_type": "code",
   "execution_count": 78,
   "metadata": {},
   "outputs": [
    {
     "data": {
      "text/plain": [
       "0    187.0\n",
       "1    187.0\n",
       "2    187.0\n",
       "3    187.0\n",
       "4    442.0\n",
       "Name: Age_on_platform, dtype: float64"
      ]
     },
     "execution_count": 78,
     "metadata": {},
     "output_type": "execute_result"
    }
   ],
   "source": [
    "df['days_since_last_login'].head()\n",
    "df['Age_on_platform'].head()\n"
   ]
  },
  {
   "cell_type": "code",
   "execution_count": null,
   "metadata": {
    "collapsed": true
   },
   "outputs": [],
   "source": []
  },
  {
   "cell_type": "code",
   "execution_count": 79,
   "metadata": {
    "collapsed": true
   },
   "outputs": [],
   "source": [
    "# df[df['Player ID']=='02981pleeng']['Bet Time'].max() #confirming to last bet time"
   ]
  },
  {
   "cell_type": "code",
   "execution_count": null,
   "metadata": {
    "collapsed": true
   },
   "outputs": [],
   "source": []
  },
  {
   "cell_type": "code",
   "execution_count": null,
   "metadata": {
    "collapsed": true
   },
   "outputs": [],
   "source": []
  },
  {
   "cell_type": "code",
   "execution_count": null,
   "metadata": {
    "collapsed": true
   },
   "outputs": [],
   "source": []
  },
  {
   "cell_type": "code",
   "execution_count": null,
   "metadata": {
    "collapsed": true
   },
   "outputs": [],
   "source": []
  },
  {
   "cell_type": "code",
   "execution_count": 80,
   "metadata": {
    "collapsed": true
   },
   "outputs": [],
   "source": [
    "##feature enginerring creating players based data"
   ]
  },
  {
   "cell_type": "code",
   "execution_count": 81,
   "metadata": {
    "collapsed": true
   },
   "outputs": [],
   "source": [
    "def otherise(df_col, n, lst_top_n=None):\n",
    "        \"\"\"Otherise dataframe columns if it contains too many values\n",
    "\n",
    "        Arguments:\n",
    "            df_col {series} -- dataframe column\n",
    "            n {int} -- number of maximum values\n",
    "\n",
    "        Returns:\n",
    "            series -- dataframe column with reduced values\n",
    "        \"\"\"\n",
    "        if lst_top_n:\n",
    "            top_n = lst_top_n\n",
    "        else:\n",
    "            z = pd.DataFrame(df_col).copy()\n",
    "            z['val'] = 1\n",
    "            z.columns = ['key', 'val']\n",
    "            top_n = z.groupby('key').size().sort_values(ascending=False)[:n]\n",
    "            top_n = pd.DataFrame(top_n).reset_index()\n",
    "            top_n = list(top_n.key.values)\n",
    "        df_col = df_col.apply(lambda y: y if y in top_n else np.NaN)\n",
    "        \n",
    "        return df_col"
   ]
  },
  {
   "cell_type": "code",
   "execution_count": 82,
   "metadata": {
    "collapsed": true
   },
   "outputs": [],
   "source": [
    "##date based features"
   ]
  },
  {
   "cell_type": "code",
   "execution_count": 83,
   "metadata": {
    "collapsed": true
   },
   "outputs": [],
   "source": [
    "last_betting_date = df.groupby(['Player ID'])['Bet Time'].agg(['max']).reset_index().rename(columns={\"max\":\"Last Betting Date\"}) "
   ]
  },
  {
   "cell_type": "code",
   "execution_count": 84,
   "metadata": {
    "collapsed": true
   },
   "outputs": [],
   "source": [
    "avg_no_of_bets_per_day = df.groupby(['Player ID','Transaction Date'])['Player ID'].count().groupby('Player ID').agg(['mean']).reset_index().rename(columns={\"mean\":\"Avg Bets per Day\"}) #sum/count\n",
    "#number of bets per day by a particular player"
   ]
  },
  {
   "cell_type": "code",
   "execution_count": 85,
   "metadata": {},
   "outputs": [
    {
     "data": {
      "text/plain": [
       "Index(['bet_year', 'bet_month', 'Bet Time', 'Result Time', 'Ticket ID',\n",
       "       'Game ID', 'Provider', 'Product Type', 'Game Group', 'Game', 'Upline',\n",
       "       'Player ID', 'Currency', 'Stake', 'Valid Bet', 'Win/Loss', 'Tip',\n",
       "       'JP Bet', 'JP Win', 'Result Status', 'Real Name', 'Registered Date',\n",
       "       'Last Login', 't2_status', 'register_year', 'register_month',\n",
       "       'l_login_year', 'l_login_month', 'GROUP', 'Transaction Date',\n",
       "       'days_since_last_login', 'Age_on_platform'],\n",
       "      dtype='object')"
      ]
     },
     "execution_count": 85,
     "metadata": {},
     "output_type": "execute_result"
    }
   ],
   "source": [
    "df.columns"
   ]
  },
  {
   "cell_type": "code",
   "execution_count": 112,
   "metadata": {},
   "outputs": [],
   "source": [
    "time_df = pd.DataFrame()\n",
    "temp_df = df[['Player ID','days_since_last_login','Age_on_platform','Bet Time', 'Result Time','Registered Date',\n",
    "       'Last Login']].groupby('Player ID').agg(['max']).reset_index()"
   ]
  },
  {
   "cell_type": "code",
   "execution_count": 170,
   "metadata": {},
   "outputs": [],
   "source": [
    "#temp_df"
   ]
  },
  {
   "cell_type": "code",
   "execution_count": 114,
   "metadata": {
    "collapsed": true
   },
   "outputs": [],
   "source": [
    "dataframes = [last_betting_date,avg_no_of_bets_per_day,temp_df]"
   ]
  },
  {
   "cell_type": "code",
   "execution_count": null,
   "metadata": {},
   "outputs": [],
   "source": []
  },
  {
   "cell_type": "code",
   "execution_count": 115,
   "metadata": {},
   "outputs": [],
   "source": [
    "time_df = reduce(lambda left, right: pd.merge(left, right, on='Player ID', how='left'), dataframes)"
   ]
  },
  {
   "cell_type": "code",
   "execution_count": 116,
   "metadata": {},
   "outputs": [
    {
     "data": {
      "text/html": [
       "<div>\n",
       "<style>\n",
       "    .dataframe thead tr:only-child th {\n",
       "        text-align: right;\n",
       "    }\n",
       "\n",
       "    .dataframe thead th {\n",
       "        text-align: left;\n",
       "    }\n",
       "\n",
       "    .dataframe tbody tr th {\n",
       "        vertical-align: top;\n",
       "    }\n",
       "</style>\n",
       "<table border=\"1\" class=\"dataframe\">\n",
       "  <thead>\n",
       "    <tr style=\"text-align: right;\">\n",
       "      <th></th>\n",
       "      <th>Player ID</th>\n",
       "      <th>Last Betting Date</th>\n",
       "      <th>Avg Bets per Day</th>\n",
       "      <th>(days_since_last_login, max)</th>\n",
       "      <th>(Age_on_platform, max)</th>\n",
       "      <th>(Bet Time, max)</th>\n",
       "      <th>(Result Time, max)</th>\n",
       "      <th>(Registered Date, max)</th>\n",
       "      <th>(Last Login, max)</th>\n",
       "    </tr>\n",
       "  </thead>\n",
       "  <tbody>\n",
       "    <tr>\n",
       "      <th>0</th>\n",
       "      <td>02981pleeng</td>\n",
       "      <td>2020-02-06 18:11:18</td>\n",
       "      <td>1563.000000</td>\n",
       "      <td>0.0</td>\n",
       "      <td>296.0</td>\n",
       "      <td>2020-02-06 18:11:18</td>\n",
       "      <td>2020-02-06 18:11:18</td>\n",
       "      <td>2019-08-03 21:58:36</td>\n",
       "      <td>2020-05-26 15:04:22</td>\n",
       "    </tr>\n",
       "    <tr>\n",
       "      <th>1</th>\n",
       "      <td>0641976840</td>\n",
       "      <td>2020-02-05 00:28:11</td>\n",
       "      <td>955.666667</td>\n",
       "      <td>0.0</td>\n",
       "      <td>366.0</td>\n",
       "      <td>2020-02-05 00:28:11</td>\n",
       "      <td>2020-02-05 00:28:11</td>\n",
       "      <td>2019-05-25 02:40:29</td>\n",
       "      <td>2020-05-25 22:49:52</td>\n",
       "    </tr>\n",
       "    <tr>\n",
       "      <th>2</th>\n",
       "      <td>0917292371a</td>\n",
       "      <td>2020-02-02 19:55:47</td>\n",
       "      <td>11.500000</td>\n",
       "      <td>0.0</td>\n",
       "      <td>282.0</td>\n",
       "      <td>2020-02-02 19:55:47</td>\n",
       "      <td>2020-02-02 19:55:47</td>\n",
       "      <td>2019-08-17 15:41:59</td>\n",
       "      <td>2020-05-26 14:40:26</td>\n",
       "    </tr>\n",
       "    <tr>\n",
       "      <th>3</th>\n",
       "      <td>1100500298961</td>\n",
       "      <td>2020-02-02 19:53:15</td>\n",
       "      <td>1428.000000</td>\n",
       "      <td>39.0</td>\n",
       "      <td>529.0</td>\n",
       "      <td>2020-02-02 19:53:15</td>\n",
       "      <td>2020-02-02 19:53:15</td>\n",
       "      <td>2018-11-04 02:17:48</td>\n",
       "      <td>2020-04-16 21:56:49</td>\n",
       "    </tr>\n",
       "    <tr>\n",
       "      <th>4</th>\n",
       "      <td>1123nan</td>\n",
       "      <td>2020-02-05 19:29:09</td>\n",
       "      <td>1.000000</td>\n",
       "      <td>31.0</td>\n",
       "      <td>155.0</td>\n",
       "      <td>2020-02-05 19:29:09</td>\n",
       "      <td>2020-02-05 19:29:09</td>\n",
       "      <td>2019-11-21 14:19:41</td>\n",
       "      <td>2020-04-25 13:08:54</td>\n",
       "    </tr>\n",
       "  </tbody>\n",
       "</table>\n",
       "</div>"
      ],
      "text/plain": [
       "       Player ID   Last Betting Date  Avg Bets per Day  \\\n",
       "0    02981pleeng 2020-02-06 18:11:18       1563.000000   \n",
       "1     0641976840 2020-02-05 00:28:11        955.666667   \n",
       "2    0917292371a 2020-02-02 19:55:47         11.500000   \n",
       "3  1100500298961 2020-02-02 19:53:15       1428.000000   \n",
       "4        1123nan 2020-02-05 19:29:09          1.000000   \n",
       "\n",
       "   (days_since_last_login, max)  (Age_on_platform, max)     (Bet Time, max)  \\\n",
       "0                           0.0                   296.0 2020-02-06 18:11:18   \n",
       "1                           0.0                   366.0 2020-02-05 00:28:11   \n",
       "2                           0.0                   282.0 2020-02-02 19:55:47   \n",
       "3                          39.0                   529.0 2020-02-02 19:53:15   \n",
       "4                          31.0                   155.0 2020-02-05 19:29:09   \n",
       "\n",
       "   (Result Time, max) (Registered Date, max)   (Last Login, max)  \n",
       "0 2020-02-06 18:11:18    2019-08-03 21:58:36 2020-05-26 15:04:22  \n",
       "1 2020-02-05 00:28:11    2019-05-25 02:40:29 2020-05-25 22:49:52  \n",
       "2 2020-02-02 19:55:47    2019-08-17 15:41:59 2020-05-26 14:40:26  \n",
       "3 2020-02-02 19:53:15    2018-11-04 02:17:48 2020-04-16 21:56:49  \n",
       "4 2020-02-05 19:29:09    2019-11-21 14:19:41 2020-04-25 13:08:54  "
      ]
     },
     "execution_count": 116,
     "metadata": {},
     "output_type": "execute_result"
    }
   ],
   "source": [
    "time_df.head()"
   ]
  },
  {
   "cell_type": "code",
   "execution_count": null,
   "metadata": {
    "collapsed": true
   },
   "outputs": [],
   "source": [
    "# features based on payment ie betting amount"
   ]
  },
  {
   "cell_type": "code",
   "execution_count": 136,
   "metadata": {},
   "outputs": [
    {
     "data": {
      "text/plain": [
       "Index(['bet_year', 'bet_month', 'Bet Time', 'Result Time', 'Ticket ID',\n",
       "       'Game ID', 'Provider', 'Product Type', 'Game Group', 'Game', 'Upline',\n",
       "       'Player ID', 'Currency', 'Stake', 'Valid Bet', 'Win/Loss', 'Tip',\n",
       "       'JP Bet', 'JP Win', 'Result Status', 'Real Name', 'Registered Date',\n",
       "       'Last Login', 't2_status', 'register_year', 'register_month',\n",
       "       'l_login_year', 'l_login_month', 'GROUP', 'Transaction Date',\n",
       "       'days_since_last_login', 'Age_on_platform'],\n",
       "      dtype='object')"
      ]
     },
     "execution_count": 136,
     "metadata": {},
     "output_type": "execute_result"
    }
   ],
   "source": [
    "df.columns"
   ]
  },
  {
   "cell_type": "code",
   "execution_count": 157,
   "metadata": {},
   "outputs": [],
   "source": [
    "# #per player there would be different transaction days \n",
    "# aggregations_betting = {\n",
    "#     'Stake': {\n",
    "#         'max_bet_amount' : 'max',\n",
    "#         'min_bet_amount' : 'min',\n",
    "#         'ave_bet_amount' : 'mean',\n",
    "#         'total_bet_amount' : 'sum',\n",
    "#         'total_bet_placed' : 'count'\n",
    "#     }  \n",
    "#     } \n",
    "\n",
    "# bet_df = df.groupby(['Player ID','Transaction Date']).agg(aggregations_betting).reset_index()\n",
    "# bet_df.columns = ['Player ID','Transaction Date','max_bet_amount','min_bet_amount','ave_bet_amount','total_bet_amount','total_bet_placed']"
   ]
  },
  {
   "cell_type": "code",
   "execution_count": 158,
   "metadata": {},
   "outputs": [],
   "source": [
    "# bet_df.head()"
   ]
  },
  {
   "cell_type": "code",
   "execution_count": 159,
   "metadata": {},
   "outputs": [],
   "source": [
    "# # let's look at lifetime spend by transactions for players already grouped\n",
    "# aggregations_pay = {\n",
    "#     'max_bet_amount': ['max'],\n",
    "#     'min_bet_amount': ['min'],\n",
    "#     'ave_bet_amount': ['median'],\n",
    "#     'total_bet_placed' : {\n",
    "#         'ave_bet_order' : 'median',\n",
    "#         'max_bet_order' : 'max'\n",
    "#     },\n",
    "#     'total_bet_amount' :\n",
    "#      {\n",
    "#         'max_bet_amount_per_day' : 'max',\n",
    "#         'ave_bet_amount_per_day' : 'median',\n",
    "#         'total_lifetime_amount' : 'sum',\n",
    "#         'total_bet_orders' : 'count'\n",
    "#     }  \n",
    "#     } \n",
    "\n",
    "# bet_df = bet_df.groupby('Player ID').agg(aggregations_pay).reset_index()\n",
    "# bet_df.columns = ['Player ID','max_bet_amount','min_bet_amount','ave_bet_amount','ave_bet_order','max_bet_order','max_bet_amount_per_day','ave_bet_amount_per_day','total_lifetime_amount','total_bet_orders']"
   ]
  },
  {
   "cell_type": "code",
   "execution_count": 160,
   "metadata": {},
   "outputs": [],
   "source": [
    "# bet_df.head()"
   ]
  },
  {
   "cell_type": "code",
   "execution_count": 168,
   "metadata": {},
   "outputs": [],
   "source": [
    "bet_df = df.groupby('Player ID').agg({\n",
    "                                        \"Stake\": {\"total_stake\": \"sum\", \"mean_stake(total_stake/total bets)\": \"mean\", \"min_stake\": \"min\", \"max_stake\": \"max\", \"bets\": \"count\"},\n",
    "                                         \"Valid Bet\": {\"total_Valid Bet\": \"sum\", \"mean_Valid Bet total_valid bets/total bets)\": \"mean\"},\n",
    "                                        \"Win/Loss\": {\"total_WIn/Loss\": \"sum\", \"mean_Valid Bet total_Win/Loss/total bets)\": \"mean\"}\n",
    "                                     }).reset_index()\n",
    "bet_df.columns = ['Player ID','Total Stake','Avg Stake(Total Stake/Total Bets)','Min Stake','Max Stake','Total Bets','Total Valid Bet','Avg Valid Bet','Total Win/Loss', 'Avg Win/Loss']"
   ]
  },
  {
   "cell_type": "code",
   "execution_count": 169,
   "metadata": {},
   "outputs": [
    {
     "data": {
      "text/html": [
       "<div>\n",
       "<style>\n",
       "    .dataframe thead tr:only-child th {\n",
       "        text-align: right;\n",
       "    }\n",
       "\n",
       "    .dataframe thead th {\n",
       "        text-align: left;\n",
       "    }\n",
       "\n",
       "    .dataframe tbody tr th {\n",
       "        vertical-align: top;\n",
       "    }\n",
       "</style>\n",
       "<table border=\"1\" class=\"dataframe\">\n",
       "  <thead>\n",
       "    <tr style=\"text-align: right;\">\n",
       "      <th></th>\n",
       "      <th>Player ID</th>\n",
       "      <th>Total Stake</th>\n",
       "      <th>Avg Stake(Total Stake/Total Bets)</th>\n",
       "      <th>Min Stake</th>\n",
       "      <th>Max Stake</th>\n",
       "      <th>Total Bets</th>\n",
       "      <th>Total Valid Bet</th>\n",
       "      <th>Avg Valid Bet</th>\n",
       "      <th>Total Win/Loss</th>\n",
       "      <th>Avg Win/Loss</th>\n",
       "    </tr>\n",
       "  </thead>\n",
       "  <tbody>\n",
       "    <tr>\n",
       "      <th>0</th>\n",
       "      <td>02981pleeng</td>\n",
       "      <td>47341.00</td>\n",
       "      <td>7.572137</td>\n",
       "      <td>1.00</td>\n",
       "      <td>10.00</td>\n",
       "      <td>6252</td>\n",
       "      <td>47341.00</td>\n",
       "      <td>7.572137</td>\n",
       "      <td>2268.70</td>\n",
       "      <td>0.362876</td>\n",
       "    </tr>\n",
       "    <tr>\n",
       "      <th>1</th>\n",
       "      <td>0641976840</td>\n",
       "      <td>4525.29</td>\n",
       "      <td>1.578406</td>\n",
       "      <td>0.09</td>\n",
       "      <td>4.50</td>\n",
       "      <td>2867</td>\n",
       "      <td>4525.29</td>\n",
       "      <td>1.578406</td>\n",
       "      <td>71.21</td>\n",
       "      <td>0.024838</td>\n",
       "    </tr>\n",
       "    <tr>\n",
       "      <th>2</th>\n",
       "      <td>0917292371a</td>\n",
       "      <td>4495.00</td>\n",
       "      <td>195.434783</td>\n",
       "      <td>1.00</td>\n",
       "      <td>800.00</td>\n",
       "      <td>23</td>\n",
       "      <td>4385.00</td>\n",
       "      <td>190.652174</td>\n",
       "      <td>-3704.50</td>\n",
       "      <td>-161.065217</td>\n",
       "    </tr>\n",
       "    <tr>\n",
       "      <th>3</th>\n",
       "      <td>1100500298961</td>\n",
       "      <td>2061.41</td>\n",
       "      <td>1.443564</td>\n",
       "      <td>0.09</td>\n",
       "      <td>2.25</td>\n",
       "      <td>1428</td>\n",
       "      <td>2061.41</td>\n",
       "      <td>1.443564</td>\n",
       "      <td>-99.98</td>\n",
       "      <td>-0.070014</td>\n",
       "    </tr>\n",
       "    <tr>\n",
       "      <th>4</th>\n",
       "      <td>1123nan</td>\n",
       "      <td>33.00</td>\n",
       "      <td>33.000000</td>\n",
       "      <td>33.00</td>\n",
       "      <td>33.00</td>\n",
       "      <td>1</td>\n",
       "      <td>33.00</td>\n",
       "      <td>33.000000</td>\n",
       "      <td>-33.00</td>\n",
       "      <td>-33.000000</td>\n",
       "    </tr>\n",
       "  </tbody>\n",
       "</table>\n",
       "</div>"
      ],
      "text/plain": [
       "       Player ID  Total Stake  Avg Stake(Total Stake/Total Bets)  Min Stake  \\\n",
       "0    02981pleeng     47341.00                           7.572137       1.00   \n",
       "1     0641976840      4525.29                           1.578406       0.09   \n",
       "2    0917292371a      4495.00                         195.434783       1.00   \n",
       "3  1100500298961      2061.41                           1.443564       0.09   \n",
       "4        1123nan        33.00                          33.000000      33.00   \n",
       "\n",
       "   Max Stake  Total Bets  Total Valid Bet  Avg Valid Bet  Total Win/Loss  \\\n",
       "0      10.00        6252         47341.00       7.572137         2268.70   \n",
       "1       4.50        2867          4525.29       1.578406           71.21   \n",
       "2     800.00          23          4385.00     190.652174        -3704.50   \n",
       "3       2.25        1428          2061.41       1.443564          -99.98   \n",
       "4      33.00           1            33.00      33.000000          -33.00   \n",
       "\n",
       "   Avg Win/Loss  \n",
       "0      0.362876  \n",
       "1      0.024838  \n",
       "2   -161.065217  \n",
       "3     -0.070014  \n",
       "4    -33.000000  "
      ]
     },
     "execution_count": 169,
     "metadata": {},
     "output_type": "execute_result"
    }
   ],
   "source": [
    "bet_df.head()"
   ]
  },
  {
   "cell_type": "code",
   "execution_count": null,
   "metadata": {
    "collapsed": true
   },
   "outputs": [],
   "source": [
    "## game data features "
   ]
  },
  {
   "cell_type": "code",
   "execution_count": 176,
   "metadata": {},
   "outputs": [
    {
     "data": {
      "text/plain": [
       "Player ID    Game              \n",
       "02981pleeng  Winter Wonders        6252\n",
       "0641976840   Lucky Twins           1776\n",
       "             The Twisted Circus    1091\n",
       "0917292371a  Baccarat                12\n",
       "             SA Bac.1                 1\n",
       "Name: Game, dtype: int64"
      ]
     },
     "execution_count": 176,
     "metadata": {},
     "output_type": "execute_result"
    }
   ],
   "source": [
    "player_games = df.groupby(['Player ID','Game'])['Game'].count()\n",
    "player_games.head()"
   ]
  },
  {
   "cell_type": "code",
   "execution_count": null,
   "metadata": {},
   "outputs": [],
   "source": []
  },
  {
   "cell_type": "code",
   "execution_count": 178,
   "metadata": {},
   "outputs": [
    {
     "data": {
      "text/plain": [
       "Dragon's Luck                   60971\n",
       "Lucky Twins                     42197\n",
       "Disco Night M                   31569\n",
       "Eagle's Wings                   28557\n",
       "Funky Monkey                    14527\n",
       "Fortune House                   13905\n",
       "Lara Croft Temples and Tombs    13483\n",
       "The Twisted Circus              12606\n",
       "Golden Lotus                    10604\n",
       "Baccarat                         9382\n",
       "Name: Game, dtype: int64"
      ]
     },
     "execution_count": 178,
     "metadata": {},
     "output_type": "execute_result"
    }
   ],
   "source": [
    "#top 10 games and their play counts\n",
    "df.Game.value_counts()[:10]"
   ]
  },
  {
   "cell_type": "code",
   "execution_count": null,
   "metadata": {
    "collapsed": true
   },
   "outputs": [],
   "source": []
  }
 ],
 "metadata": {
  "kernelspec": {
   "display_name": "Python 3",
   "language": "python",
   "name": "python3"
  },
  "language_info": {
   "codemirror_mode": {
    "name": "ipython",
    "version": 3
   },
   "file_extension": ".py",
   "mimetype": "text/x-python",
   "name": "python",
   "nbconvert_exporter": "python",
   "pygments_lexer": "ipython3",
   "version": "3.6.3"
  }
 },
 "nbformat": 4,
 "nbformat_minor": 2
}
