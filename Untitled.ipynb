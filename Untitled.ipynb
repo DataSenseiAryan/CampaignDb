{
 "cells": [
  {
   "cell_type": "code",
   "execution_count": 1,
   "metadata": {},
   "outputs": [
    {
     "name": "stdout",
     "output_type": "stream",
     "text": [
      "Wall time: 1.62 s\n"
     ]
    }
   ],
   "source": [
    "%%time\n",
    "import pyodbc \n",
    "import pandas as pd\n",
    "import numpy as np\n",
    "import datetime\n",
    "from functools import reduce\n",
    "import matplotlib.pyplot as plt\n",
    "from scipy import stats\n",
    "\n",
    "from sklearn import preprocessing\n",
    "from sklearn.cluster import KMeans\n",
    "from sklearn.metrics import calinski_harabaz_score, silhouette_score\n",
    "from sklearn.decomposition import PCA\n",
    "\n",
    "import warnings\n",
    "import timeit\n",
    "\n",
    "warnings.filterwarnings('ignore')\n",
    "%matplotlib inline\n",
    "pd.set_option('display.max_columns', None)\n",
    "#!pip install jupyter_contrib_nbextensions\n"
   ]
  },
  {
   "cell_type": "code",
   "execution_count": 2,
   "metadata": {},
   "outputs": [
    {
     "name": "stdout",
     "output_type": "stream",
     "text": [
      "Wall time: 443 ms\n"
     ]
    }
   ],
   "source": [
    "%%time\n",
    "cnxn = pyodbc.connect(\"Driver={SQL Server Native Client 11.0};\"\n",
    "                      \"Server=LAPTOP-CU20T8L1;\"\n",
    "                      \"Database=CAMPAIGN_DB2;\"\n",
    "                      \"Trusted_Connection=yes;\")\n",
    "\n",
    "\n",
    "cursor = cnxn.cursor()\n"
   ]
  },
  {
   "cell_type": "code",
   "execution_count": 3,
   "metadata": {},
   "outputs": [
    {
     "name": "stdout",
     "output_type": "stream",
     "text": [
      "Wall time: 35.4 s\n"
     ]
    }
   ],
   "source": [
    "%%time\n",
    "sql = pd.read_sql_query('SELECT TOP(1000000) * FROM CAMPAIGN_TBL_FINAL',cnxn)"
   ]
  },
  {
   "cell_type": "code",
   "execution_count": 4,
   "metadata": {},
   "outputs": [
    {
     "name": "stdout",
     "output_type": "stream",
     "text": [
      "Wall time: 0 ns\n"
     ]
    }
   ],
   "source": [
    "%%time\n",
    "df = pd.DataFrame(sql)"
   ]
  },
  {
   "cell_type": "code",
   "execution_count": 5,
   "metadata": {
    "collapsed": true
   },
   "outputs": [],
   "source": [
    "# df.info()"
   ]
  },
  {
   "cell_type": "code",
   "execution_count": 6,
   "metadata": {
    "collapsed": true
   },
   "outputs": [],
   "source": [
    "# df.describe()"
   ]
  },
  {
   "cell_type": "code",
   "execution_count": 7,
   "metadata": {},
   "outputs": [
    {
     "name": "stdout",
     "output_type": "stream",
     "text": [
      "Wall time: 5.99 s\n"
     ]
    }
   ],
   "source": [
    "%%time\n",
    "df['Bet Time'] = pd.to_datetime(df['Bet Time'])\n",
    "df['Result Time'] = pd.to_datetime(df['Result Time'])\n",
    "df['Registered Date'] = pd.to_datetime(df['Registered Date'])\n",
    "df['Last Login'] = pd.to_datetime(df['Last Login'])"
   ]
  },
  {
   "cell_type": "code",
   "execution_count": 8,
   "metadata": {},
   "outputs": [
    {
     "name": "stdout",
     "output_type": "stream",
     "text": [
      "Wall time: 1.01 ms\n"
     ]
    },
    {
     "data": {
      "text/html": [
       "<div>\n",
       "<style>\n",
       "    .dataframe thead tr:only-child th {\n",
       "        text-align: right;\n",
       "    }\n",
       "\n",
       "    .dataframe thead th {\n",
       "        text-align: left;\n",
       "    }\n",
       "\n",
       "    .dataframe tbody tr th {\n",
       "        vertical-align: top;\n",
       "    }\n",
       "</style>\n",
       "<table border=\"1\" class=\"dataframe\">\n",
       "  <thead>\n",
       "    <tr style=\"text-align: right;\">\n",
       "      <th></th>\n",
       "      <th>bet_year</th>\n",
       "      <th>bet_month</th>\n",
       "      <th>Bet Time</th>\n",
       "      <th>Result Time</th>\n",
       "      <th>Ticket ID</th>\n",
       "      <th>Game ID</th>\n",
       "      <th>Provider</th>\n",
       "      <th>Product Type</th>\n",
       "      <th>Game Group</th>\n",
       "      <th>Game</th>\n",
       "      <th>Upline</th>\n",
       "      <th>Player ID</th>\n",
       "      <th>Currency</th>\n",
       "      <th>Stake</th>\n",
       "      <th>Valid Bet</th>\n",
       "      <th>Win/Loss</th>\n",
       "      <th>Tip</th>\n",
       "      <th>JP Bet</th>\n",
       "      <th>JP Win</th>\n",
       "      <th>Result Status</th>\n",
       "      <th>Real Name</th>\n",
       "      <th>Registered Date</th>\n",
       "      <th>Last Login</th>\n",
       "      <th>t2_status</th>\n",
       "      <th>register_year</th>\n",
       "      <th>register_month</th>\n",
       "      <th>l_login_year</th>\n",
       "      <th>l_login_month</th>\n",
       "      <th>GROUP</th>\n",
       "    </tr>\n",
       "  </thead>\n",
       "  <tbody>\n",
       "    <tr>\n",
       "      <th>0</th>\n",
       "      <td>2020</td>\n",
       "      <td>03</td>\n",
       "      <td>2020-03-04 08:52:58</td>\n",
       "      <td>2020-03-04 08:52:58</td>\n",
       "      <td>90498165</td>\n",
       "      <td>90498165</td>\n",
       "      <td>MG</td>\n",
       "      <td>EGAME</td>\n",
       "      <td>SLOTGAME</td>\n",
       "      <td>Lara Croft Temples and Tombs</td>\n",
       "      <td>None</td>\n",
       "      <td>ja2637</td>\n",
       "      <td>THB</td>\n",
       "      <td>2.8</td>\n",
       "      <td>2.8</td>\n",
       "      <td>-2.80</td>\n",
       "      <td>0.0</td>\n",
       "      <td>0.0</td>\n",
       "      <td>0.0</td>\n",
       "      <td>Settled</td>\n",
       "      <td>จิระเมศร์ ถาลี</td>\n",
       "      <td>2019-10-17 16:43:41</td>\n",
       "      <td>2020-04-22 15:33:41</td>\n",
       "      <td>ACTIVE</td>\n",
       "      <td>2019</td>\n",
       "      <td>10</td>\n",
       "      <td>2020</td>\n",
       "      <td>04</td>\n",
       "      <td>EGAME                                         ...</td>\n",
       "    </tr>\n",
       "    <tr>\n",
       "      <th>1</th>\n",
       "      <td>2020</td>\n",
       "      <td>03</td>\n",
       "      <td>2020-03-04 08:53:01</td>\n",
       "      <td>2020-03-04 08:53:01</td>\n",
       "      <td>90498178</td>\n",
       "      <td>90498178</td>\n",
       "      <td>MG</td>\n",
       "      <td>EGAME</td>\n",
       "      <td>SLOTGAME</td>\n",
       "      <td>Lara Croft Temples and Tombs</td>\n",
       "      <td>None</td>\n",
       "      <td>ja2637</td>\n",
       "      <td>THB</td>\n",
       "      <td>2.8</td>\n",
       "      <td>2.8</td>\n",
       "      <td>11.20</td>\n",
       "      <td>0.0</td>\n",
       "      <td>0.0</td>\n",
       "      <td>0.0</td>\n",
       "      <td>Settled</td>\n",
       "      <td>จิระเมศร์ ถาลี</td>\n",
       "      <td>2019-10-17 16:43:41</td>\n",
       "      <td>2020-04-22 15:33:41</td>\n",
       "      <td>ACTIVE</td>\n",
       "      <td>2019</td>\n",
       "      <td>10</td>\n",
       "      <td>2020</td>\n",
       "      <td>04</td>\n",
       "      <td>EGAME                                         ...</td>\n",
       "    </tr>\n",
       "    <tr>\n",
       "      <th>2</th>\n",
       "      <td>2020</td>\n",
       "      <td>03</td>\n",
       "      <td>2020-03-04 08:53:05</td>\n",
       "      <td>2020-03-04 08:53:05</td>\n",
       "      <td>90498196</td>\n",
       "      <td>90498196</td>\n",
       "      <td>MG</td>\n",
       "      <td>EGAME</td>\n",
       "      <td>SLOTGAME</td>\n",
       "      <td>Lara Croft Temples and Tombs</td>\n",
       "      <td>None</td>\n",
       "      <td>ja2637</td>\n",
       "      <td>THB</td>\n",
       "      <td>2.8</td>\n",
       "      <td>2.8</td>\n",
       "      <td>-1.68</td>\n",
       "      <td>0.0</td>\n",
       "      <td>0.0</td>\n",
       "      <td>0.0</td>\n",
       "      <td>Settled</td>\n",
       "      <td>จิระเมศร์ ถาลี</td>\n",
       "      <td>2019-10-17 16:43:41</td>\n",
       "      <td>2020-04-22 15:33:41</td>\n",
       "      <td>ACTIVE</td>\n",
       "      <td>2019</td>\n",
       "      <td>10</td>\n",
       "      <td>2020</td>\n",
       "      <td>04</td>\n",
       "      <td>EGAME                                         ...</td>\n",
       "    </tr>\n",
       "    <tr>\n",
       "      <th>3</th>\n",
       "      <td>2020</td>\n",
       "      <td>03</td>\n",
       "      <td>2020-03-04 08:53:08</td>\n",
       "      <td>2020-03-04 08:53:08</td>\n",
       "      <td>90498211</td>\n",
       "      <td>90498211</td>\n",
       "      <td>MG</td>\n",
       "      <td>EGAME</td>\n",
       "      <td>SLOTGAME</td>\n",
       "      <td>Lara Croft Temples and Tombs</td>\n",
       "      <td>None</td>\n",
       "      <td>ja2637</td>\n",
       "      <td>THB</td>\n",
       "      <td>2.8</td>\n",
       "      <td>2.8</td>\n",
       "      <td>0.28</td>\n",
       "      <td>0.0</td>\n",
       "      <td>0.0</td>\n",
       "      <td>0.0</td>\n",
       "      <td>Settled</td>\n",
       "      <td>จิระเมศร์ ถาลี</td>\n",
       "      <td>2019-10-17 16:43:41</td>\n",
       "      <td>2020-04-22 15:33:41</td>\n",
       "      <td>ACTIVE</td>\n",
       "      <td>2019</td>\n",
       "      <td>10</td>\n",
       "      <td>2020</td>\n",
       "      <td>04</td>\n",
       "      <td>EGAME                                         ...</td>\n",
       "    </tr>\n",
       "    <tr>\n",
       "      <th>4</th>\n",
       "      <td>2020</td>\n",
       "      <td>03</td>\n",
       "      <td>2020-03-04 08:53:11</td>\n",
       "      <td>2020-03-04 08:53:11</td>\n",
       "      <td>687889250</td>\n",
       "      <td>687889250</td>\n",
       "      <td>VT</td>\n",
       "      <td>EGAME</td>\n",
       "      <td>SLOTGAME</td>\n",
       "      <td>50 Lions</td>\n",
       "      <td>None</td>\n",
       "      <td>kiss1234</td>\n",
       "      <td>THB</td>\n",
       "      <td>7.5</td>\n",
       "      <td>7.5</td>\n",
       "      <td>36.00</td>\n",
       "      <td>0.0</td>\n",
       "      <td>0.0</td>\n",
       "      <td>0.0</td>\n",
       "      <td>Settled</td>\n",
       "      <td>ศุภชัย   ณ นคร</td>\n",
       "      <td>2019-03-10 13:04:23</td>\n",
       "      <td>2020-05-26 12:54:26</td>\n",
       "      <td>ACTIVE</td>\n",
       "      <td>2019</td>\n",
       "      <td>03</td>\n",
       "      <td>2020</td>\n",
       "      <td>05</td>\n",
       "      <td>EGAME                                         ...</td>\n",
       "    </tr>\n",
       "  </tbody>\n",
       "</table>\n",
       "</div>"
      ],
      "text/plain": [
       "  bet_year bet_month            Bet Time         Result Time  Ticket ID  \\\n",
       "0     2020        03 2020-03-04 08:52:58 2020-03-04 08:52:58   90498165   \n",
       "1     2020        03 2020-03-04 08:53:01 2020-03-04 08:53:01   90498178   \n",
       "2     2020        03 2020-03-04 08:53:05 2020-03-04 08:53:05   90498196   \n",
       "3     2020        03 2020-03-04 08:53:08 2020-03-04 08:53:08   90498211   \n",
       "4     2020        03 2020-03-04 08:53:11 2020-03-04 08:53:11  687889250   \n",
       "\n",
       "     Game ID Provider Product Type Game Group                          Game  \\\n",
       "0   90498165       MG        EGAME   SLOTGAME  Lara Croft Temples and Tombs   \n",
       "1   90498178       MG        EGAME   SLOTGAME  Lara Croft Temples and Tombs   \n",
       "2   90498196       MG        EGAME   SLOTGAME  Lara Croft Temples and Tombs   \n",
       "3   90498211       MG        EGAME   SLOTGAME  Lara Croft Temples and Tombs   \n",
       "4  687889250       VT        EGAME   SLOTGAME                      50 Lions   \n",
       "\n",
       "  Upline Player ID Currency  Stake  Valid Bet  Win/Loss  Tip  JP Bet  JP Win  \\\n",
       "0   None    ja2637      THB    2.8        2.8     -2.80  0.0     0.0     0.0   \n",
       "1   None    ja2637      THB    2.8        2.8     11.20  0.0     0.0     0.0   \n",
       "2   None    ja2637      THB    2.8        2.8     -1.68  0.0     0.0     0.0   \n",
       "3   None    ja2637      THB    2.8        2.8      0.28  0.0     0.0     0.0   \n",
       "4   None  kiss1234      THB    7.5        7.5     36.00  0.0     0.0     0.0   \n",
       "\n",
       "  Result Status       Real Name     Registered Date          Last Login  \\\n",
       "0       Settled  จิระเมศร์ ถาลี 2019-10-17 16:43:41 2020-04-22 15:33:41   \n",
       "1       Settled  จิระเมศร์ ถาลี 2019-10-17 16:43:41 2020-04-22 15:33:41   \n",
       "2       Settled  จิระเมศร์ ถาลี 2019-10-17 16:43:41 2020-04-22 15:33:41   \n",
       "3       Settled  จิระเมศร์ ถาลี 2019-10-17 16:43:41 2020-04-22 15:33:41   \n",
       "4       Settled  ศุภชัย   ณ นคร 2019-03-10 13:04:23 2020-05-26 12:54:26   \n",
       "\n",
       "  t2_status register_year register_month l_login_year l_login_month  \\\n",
       "0    ACTIVE          2019             10         2020            04   \n",
       "1    ACTIVE          2019             10         2020            04   \n",
       "2    ACTIVE          2019             10         2020            04   \n",
       "3    ACTIVE          2019             10         2020            04   \n",
       "4    ACTIVE          2019             03         2020            05   \n",
       "\n",
       "                                               GROUP  \n",
       "0  EGAME                                         ...  \n",
       "1  EGAME                                         ...  \n",
       "2  EGAME                                         ...  \n",
       "3  EGAME                                         ...  \n",
       "4  EGAME                                         ...  "
      ]
     },
     "execution_count": 8,
     "metadata": {},
     "output_type": "execute_result"
    }
   ],
   "source": [
    "%%time\n",
    "df.head()"
   ]
  },
  {
   "cell_type": "code",
   "execution_count": 9,
   "metadata": {
    "collapsed": true
   },
   "outputs": [],
   "source": [
    "# df['Currency'].unique()"
   ]
  },
  {
   "cell_type": "code",
   "execution_count": 10,
   "metadata": {
    "collapsed": true
   },
   "outputs": [],
   "source": [
    "# df['Product Type'].unique()\n",
    "#df['GROUP'].unique()"
   ]
  },
  {
   "cell_type": "code",
   "execution_count": 11,
   "metadata": {
    "collapsed": true
   },
   "outputs": [],
   "source": [
    "# df['GROUP'].unique() #both are same"
   ]
  },
  {
   "cell_type": "code",
   "execution_count": 12,
   "metadata": {
    "collapsed": true
   },
   "outputs": [],
   "source": [
    "# df['t2_status'].unique()"
   ]
  },
  {
   "cell_type": "code",
   "execution_count": 13,
   "metadata": {
    "collapsed": true
   },
   "outputs": [],
   "source": [
    "# df['Result Status'].unique()"
   ]
  },
  {
   "cell_type": "code",
   "execution_count": 14,
   "metadata": {
    "collapsed": true
   },
   "outputs": [],
   "source": [
    "# df['Provider'].unique()"
   ]
  },
  {
   "cell_type": "code",
   "execution_count": 15,
   "metadata": {
    "collapsed": true
   },
   "outputs": [],
   "source": [
    "# df['Game Group'].unique()"
   ]
  },
  {
   "cell_type": "markdown",
   "metadata": {},
   "source": [
    "## feature enginerring creating players based data"
   ]
  },
  {
   "cell_type": "code",
   "execution_count": 16,
   "metadata": {},
   "outputs": [
    {
     "name": "stdout",
     "output_type": "stream",
     "text": [
      "Wall time: 6.69 s\n"
     ]
    }
   ],
   "source": [
    "%%time\n",
    "df['Transaction Date'] = df['Bet Time'].dt.date\n",
    "df['Transaction Month'] = pd.to_datetime(df['Bet Time']).dt.to_period('M')"
   ]
  },
  {
   "cell_type": "code",
   "execution_count": 17,
   "metadata": {},
   "outputs": [
    {
     "name": "stdout",
     "output_type": "stream",
     "text": [
      "Wall time: 1 ms\n"
     ]
    },
    {
     "data": {
      "text/html": [
       "<div>\n",
       "<style>\n",
       "    .dataframe thead tr:only-child th {\n",
       "        text-align: right;\n",
       "    }\n",
       "\n",
       "    .dataframe thead th {\n",
       "        text-align: left;\n",
       "    }\n",
       "\n",
       "    .dataframe tbody tr th {\n",
       "        vertical-align: top;\n",
       "    }\n",
       "</style>\n",
       "<table border=\"1\" class=\"dataframe\">\n",
       "  <thead>\n",
       "    <tr style=\"text-align: right;\">\n",
       "      <th></th>\n",
       "      <th>bet_year</th>\n",
       "      <th>bet_month</th>\n",
       "      <th>Bet Time</th>\n",
       "      <th>Result Time</th>\n",
       "      <th>Ticket ID</th>\n",
       "      <th>Game ID</th>\n",
       "      <th>Provider</th>\n",
       "      <th>Product Type</th>\n",
       "      <th>Game Group</th>\n",
       "      <th>Game</th>\n",
       "      <th>Upline</th>\n",
       "      <th>Player ID</th>\n",
       "      <th>Currency</th>\n",
       "      <th>Stake</th>\n",
       "      <th>Valid Bet</th>\n",
       "      <th>Win/Loss</th>\n",
       "      <th>Tip</th>\n",
       "      <th>JP Bet</th>\n",
       "      <th>JP Win</th>\n",
       "      <th>Result Status</th>\n",
       "      <th>Real Name</th>\n",
       "      <th>Registered Date</th>\n",
       "      <th>Last Login</th>\n",
       "      <th>t2_status</th>\n",
       "      <th>register_year</th>\n",
       "      <th>register_month</th>\n",
       "      <th>l_login_year</th>\n",
       "      <th>l_login_month</th>\n",
       "      <th>GROUP</th>\n",
       "      <th>Transaction Date</th>\n",
       "      <th>Transaction Month</th>\n",
       "    </tr>\n",
       "  </thead>\n",
       "  <tbody>\n",
       "    <tr>\n",
       "      <th>0</th>\n",
       "      <td>2020</td>\n",
       "      <td>03</td>\n",
       "      <td>2020-03-04 08:52:58</td>\n",
       "      <td>2020-03-04 08:52:58</td>\n",
       "      <td>90498165</td>\n",
       "      <td>90498165</td>\n",
       "      <td>MG</td>\n",
       "      <td>EGAME</td>\n",
       "      <td>SLOTGAME</td>\n",
       "      <td>Lara Croft Temples and Tombs</td>\n",
       "      <td>None</td>\n",
       "      <td>ja2637</td>\n",
       "      <td>THB</td>\n",
       "      <td>2.8</td>\n",
       "      <td>2.8</td>\n",
       "      <td>-2.80</td>\n",
       "      <td>0.0</td>\n",
       "      <td>0.0</td>\n",
       "      <td>0.0</td>\n",
       "      <td>Settled</td>\n",
       "      <td>จิระเมศร์ ถาลี</td>\n",
       "      <td>2019-10-17 16:43:41</td>\n",
       "      <td>2020-04-22 15:33:41</td>\n",
       "      <td>ACTIVE</td>\n",
       "      <td>2019</td>\n",
       "      <td>10</td>\n",
       "      <td>2020</td>\n",
       "      <td>04</td>\n",
       "      <td>EGAME                                         ...</td>\n",
       "      <td>2020-03-04</td>\n",
       "      <td>2020-03</td>\n",
       "    </tr>\n",
       "    <tr>\n",
       "      <th>1</th>\n",
       "      <td>2020</td>\n",
       "      <td>03</td>\n",
       "      <td>2020-03-04 08:53:01</td>\n",
       "      <td>2020-03-04 08:53:01</td>\n",
       "      <td>90498178</td>\n",
       "      <td>90498178</td>\n",
       "      <td>MG</td>\n",
       "      <td>EGAME</td>\n",
       "      <td>SLOTGAME</td>\n",
       "      <td>Lara Croft Temples and Tombs</td>\n",
       "      <td>None</td>\n",
       "      <td>ja2637</td>\n",
       "      <td>THB</td>\n",
       "      <td>2.8</td>\n",
       "      <td>2.8</td>\n",
       "      <td>11.20</td>\n",
       "      <td>0.0</td>\n",
       "      <td>0.0</td>\n",
       "      <td>0.0</td>\n",
       "      <td>Settled</td>\n",
       "      <td>จิระเมศร์ ถาลี</td>\n",
       "      <td>2019-10-17 16:43:41</td>\n",
       "      <td>2020-04-22 15:33:41</td>\n",
       "      <td>ACTIVE</td>\n",
       "      <td>2019</td>\n",
       "      <td>10</td>\n",
       "      <td>2020</td>\n",
       "      <td>04</td>\n",
       "      <td>EGAME                                         ...</td>\n",
       "      <td>2020-03-04</td>\n",
       "      <td>2020-03</td>\n",
       "    </tr>\n",
       "    <tr>\n",
       "      <th>2</th>\n",
       "      <td>2020</td>\n",
       "      <td>03</td>\n",
       "      <td>2020-03-04 08:53:05</td>\n",
       "      <td>2020-03-04 08:53:05</td>\n",
       "      <td>90498196</td>\n",
       "      <td>90498196</td>\n",
       "      <td>MG</td>\n",
       "      <td>EGAME</td>\n",
       "      <td>SLOTGAME</td>\n",
       "      <td>Lara Croft Temples and Tombs</td>\n",
       "      <td>None</td>\n",
       "      <td>ja2637</td>\n",
       "      <td>THB</td>\n",
       "      <td>2.8</td>\n",
       "      <td>2.8</td>\n",
       "      <td>-1.68</td>\n",
       "      <td>0.0</td>\n",
       "      <td>0.0</td>\n",
       "      <td>0.0</td>\n",
       "      <td>Settled</td>\n",
       "      <td>จิระเมศร์ ถาลี</td>\n",
       "      <td>2019-10-17 16:43:41</td>\n",
       "      <td>2020-04-22 15:33:41</td>\n",
       "      <td>ACTIVE</td>\n",
       "      <td>2019</td>\n",
       "      <td>10</td>\n",
       "      <td>2020</td>\n",
       "      <td>04</td>\n",
       "      <td>EGAME                                         ...</td>\n",
       "      <td>2020-03-04</td>\n",
       "      <td>2020-03</td>\n",
       "    </tr>\n",
       "    <tr>\n",
       "      <th>3</th>\n",
       "      <td>2020</td>\n",
       "      <td>03</td>\n",
       "      <td>2020-03-04 08:53:08</td>\n",
       "      <td>2020-03-04 08:53:08</td>\n",
       "      <td>90498211</td>\n",
       "      <td>90498211</td>\n",
       "      <td>MG</td>\n",
       "      <td>EGAME</td>\n",
       "      <td>SLOTGAME</td>\n",
       "      <td>Lara Croft Temples and Tombs</td>\n",
       "      <td>None</td>\n",
       "      <td>ja2637</td>\n",
       "      <td>THB</td>\n",
       "      <td>2.8</td>\n",
       "      <td>2.8</td>\n",
       "      <td>0.28</td>\n",
       "      <td>0.0</td>\n",
       "      <td>0.0</td>\n",
       "      <td>0.0</td>\n",
       "      <td>Settled</td>\n",
       "      <td>จิระเมศร์ ถาลี</td>\n",
       "      <td>2019-10-17 16:43:41</td>\n",
       "      <td>2020-04-22 15:33:41</td>\n",
       "      <td>ACTIVE</td>\n",
       "      <td>2019</td>\n",
       "      <td>10</td>\n",
       "      <td>2020</td>\n",
       "      <td>04</td>\n",
       "      <td>EGAME                                         ...</td>\n",
       "      <td>2020-03-04</td>\n",
       "      <td>2020-03</td>\n",
       "    </tr>\n",
       "    <tr>\n",
       "      <th>4</th>\n",
       "      <td>2020</td>\n",
       "      <td>03</td>\n",
       "      <td>2020-03-04 08:53:11</td>\n",
       "      <td>2020-03-04 08:53:11</td>\n",
       "      <td>687889250</td>\n",
       "      <td>687889250</td>\n",
       "      <td>VT</td>\n",
       "      <td>EGAME</td>\n",
       "      <td>SLOTGAME</td>\n",
       "      <td>50 Lions</td>\n",
       "      <td>None</td>\n",
       "      <td>kiss1234</td>\n",
       "      <td>THB</td>\n",
       "      <td>7.5</td>\n",
       "      <td>7.5</td>\n",
       "      <td>36.00</td>\n",
       "      <td>0.0</td>\n",
       "      <td>0.0</td>\n",
       "      <td>0.0</td>\n",
       "      <td>Settled</td>\n",
       "      <td>ศุภชัย   ณ นคร</td>\n",
       "      <td>2019-03-10 13:04:23</td>\n",
       "      <td>2020-05-26 12:54:26</td>\n",
       "      <td>ACTIVE</td>\n",
       "      <td>2019</td>\n",
       "      <td>03</td>\n",
       "      <td>2020</td>\n",
       "      <td>05</td>\n",
       "      <td>EGAME                                         ...</td>\n",
       "      <td>2020-03-04</td>\n",
       "      <td>2020-03</td>\n",
       "    </tr>\n",
       "  </tbody>\n",
       "</table>\n",
       "</div>"
      ],
      "text/plain": [
       "  bet_year bet_month            Bet Time         Result Time  Ticket ID  \\\n",
       "0     2020        03 2020-03-04 08:52:58 2020-03-04 08:52:58   90498165   \n",
       "1     2020        03 2020-03-04 08:53:01 2020-03-04 08:53:01   90498178   \n",
       "2     2020        03 2020-03-04 08:53:05 2020-03-04 08:53:05   90498196   \n",
       "3     2020        03 2020-03-04 08:53:08 2020-03-04 08:53:08   90498211   \n",
       "4     2020        03 2020-03-04 08:53:11 2020-03-04 08:53:11  687889250   \n",
       "\n",
       "     Game ID Provider Product Type Game Group                          Game  \\\n",
       "0   90498165       MG        EGAME   SLOTGAME  Lara Croft Temples and Tombs   \n",
       "1   90498178       MG        EGAME   SLOTGAME  Lara Croft Temples and Tombs   \n",
       "2   90498196       MG        EGAME   SLOTGAME  Lara Croft Temples and Tombs   \n",
       "3   90498211       MG        EGAME   SLOTGAME  Lara Croft Temples and Tombs   \n",
       "4  687889250       VT        EGAME   SLOTGAME                      50 Lions   \n",
       "\n",
       "  Upline Player ID Currency  Stake  Valid Bet  Win/Loss  Tip  JP Bet  JP Win  \\\n",
       "0   None    ja2637      THB    2.8        2.8     -2.80  0.0     0.0     0.0   \n",
       "1   None    ja2637      THB    2.8        2.8     11.20  0.0     0.0     0.0   \n",
       "2   None    ja2637      THB    2.8        2.8     -1.68  0.0     0.0     0.0   \n",
       "3   None    ja2637      THB    2.8        2.8      0.28  0.0     0.0     0.0   \n",
       "4   None  kiss1234      THB    7.5        7.5     36.00  0.0     0.0     0.0   \n",
       "\n",
       "  Result Status       Real Name     Registered Date          Last Login  \\\n",
       "0       Settled  จิระเมศร์ ถาลี 2019-10-17 16:43:41 2020-04-22 15:33:41   \n",
       "1       Settled  จิระเมศร์ ถาลี 2019-10-17 16:43:41 2020-04-22 15:33:41   \n",
       "2       Settled  จิระเมศร์ ถาลี 2019-10-17 16:43:41 2020-04-22 15:33:41   \n",
       "3       Settled  จิระเมศร์ ถาลี 2019-10-17 16:43:41 2020-04-22 15:33:41   \n",
       "4       Settled  ศุภชัย   ณ นคร 2019-03-10 13:04:23 2020-05-26 12:54:26   \n",
       "\n",
       "  t2_status register_year register_month l_login_year l_login_month  \\\n",
       "0    ACTIVE          2019             10         2020            04   \n",
       "1    ACTIVE          2019             10         2020            04   \n",
       "2    ACTIVE          2019             10         2020            04   \n",
       "3    ACTIVE          2019             10         2020            04   \n",
       "4    ACTIVE          2019             03         2020            05   \n",
       "\n",
       "                                               GROUP Transaction Date  \\\n",
       "0  EGAME                                         ...       2020-03-04   \n",
       "1  EGAME                                         ...       2020-03-04   \n",
       "2  EGAME                                         ...       2020-03-04   \n",
       "3  EGAME                                         ...       2020-03-04   \n",
       "4  EGAME                                         ...       2020-03-04   \n",
       "\n",
       "  Transaction Month  \n",
       "0           2020-03  \n",
       "1           2020-03  \n",
       "2           2020-03  \n",
       "3           2020-03  \n",
       "4           2020-03  "
      ]
     },
     "execution_count": 17,
     "metadata": {},
     "output_type": "execute_result"
    }
   ],
   "source": [
    "%%time\n",
    "df.head()"
   ]
  },
  {
   "cell_type": "code",
   "execution_count": 18,
   "metadata": {},
   "outputs": [
    {
     "name": "stdout",
     "output_type": "stream",
     "text": [
      "Wall time: 213 ms\n"
     ]
    }
   ],
   "source": [
    "%%time\n",
    "df['days_since_last_login'] = (df['Last Login'].max() - df['Last Login']).astype('timedelta64[D]')\n",
    "df['Age_on_platform'] = (df['Last Login']- df['Registered Date']).astype('timedelta64[D]')\n",
    "#time spent playing\n",
    "# df['days_since_last_login'].head()\n",
    "df['Age_on_platform'].head()"
   ]
  },
  {
   "cell_type": "markdown",
   "metadata": {
    "collapsed": true
   },
   "source": [
    "#### Date based features"
   ]
  },
  {
   "cell_type": "code",
   "execution_count": 19,
   "metadata": {},
   "outputs": [
    {
     "name": "stdout",
     "output_type": "stream",
     "text": [
      "Wall time: 1.59 s\n"
     ]
    }
   ],
   "source": [
    "%%time\n",
    "last_betting_date = df.groupby(['Player ID'])['Bet Time'].agg(['max']).reset_index().rename(columns={\"max\":\"Last Betting Date\"}) "
   ]
  },
  {
   "cell_type": "code",
   "execution_count": 20,
   "metadata": {},
   "outputs": [
    {
     "name": "stdout",
     "output_type": "stream",
     "text": [
      "Wall time: 24.5 s\n"
     ]
    }
   ],
   "source": [
    "%%time\n",
    "avg_no_of_bets_per_day = df.groupby(['Player ID','Transaction Date'])['Player ID'].count().groupby('Player ID').agg(['mean']).reset_index().rename(columns={\"mean\":\"Avg Bets per Day\"}) #sum/count\n",
    "#number of bets per day by a particular player\n",
    "avg_no_of_bets_per_month = df.groupby(['Player ID','Transaction Month'])['Player ID'].count().groupby('Player ID').agg(['mean']).reset_index().rename(columns={\"mean\":\"Avg Bets per Month\"}) #sum/count\n",
    "#number of bets per day by a particular player"
   ]
  },
  {
   "cell_type": "code",
   "execution_count": null,
   "metadata": {
    "collapsed": true
   },
   "outputs": [],
   "source": []
  },
  {
   "cell_type": "code",
   "execution_count": 21,
   "metadata": {},
   "outputs": [
    {
     "name": "stdout",
     "output_type": "stream",
     "text": [
      "Wall time: 24.3 s\n"
     ]
    }
   ],
   "source": [
    "%%time\n",
    "avg_amount_on_bets_per_day = df.groupby(['Player ID','Transaction Date'])['Stake'].sum().groupby('Player ID').agg(['mean']).reset_index().rename(columns={\"mean\":\"Avg Bets amount per Day\"})\n",
    "avg_amount_on_bets_per_month = df.groupby(['Player ID','Transaction Month'])['Stake'].sum().groupby('Player ID').agg(['mean']).reset_index().rename(columns={\"mean\":\"Avg Bets amount per Month\"})\n",
    "avg_amount_on_bets_per_month.head()"
   ]
  },
  {
   "cell_type": "code",
   "execution_count": 22,
   "metadata": {},
   "outputs": [
    {
     "name": "stdout",
     "output_type": "stream",
     "text": [
      "Wall time: 376 ms\n"
     ]
    }
   ],
   "source": [
    "%%time\n",
    "#how ma\n",
    "no_of_visiting_days = df.groupby(['Player ID', 'Transaction Date']).size().groupby('Player ID').count().reset_index().rename(columns={0:'No_of_visit_days'})\n",
    "no_of_visiting_days.head()"
   ]
  },
  {
   "cell_type": "code",
   "execution_count": 23,
   "metadata": {
    "collapsed": true
   },
   "outputs": [],
   "source": [
    "# pd.crosstab(df['Player ID'],df['Game']) very imp command"
   ]
  },
  {
   "cell_type": "code",
   "execution_count": 24,
   "metadata": {
    "collapsed": true
   },
   "outputs": [],
   "source": [
    "#count_series = # new_df = count_series.to_frame(name = 'size').reset_index()\n",
    "# new_df.groupby('Player ID').count()"
   ]
  },
  {
   "cell_type": "code",
   "execution_count": 25,
   "metadata": {},
   "outputs": [
    {
     "name": "stdout",
     "output_type": "stream",
     "text": [
      "Wall time: 329 ms\n"
     ]
    }
   ],
   "source": [
    "%%time\n",
    "time_df = pd.DataFrame()\n",
    "temp_df = df[['Player ID','days_since_last_login','Age_on_platform','Bet Time', 'Result Time','Registered Date',\n",
    "       'Last Login']].groupby('Player ID').agg(['max']).reset_index() \n",
    "temp_df.columns = ['Player ID','days_since_last_login','Age_on_platform','Bet Time', 'Result Time','Registered Date','Last Login']"
   ]
  },
  {
   "cell_type": "code",
   "execution_count": 26,
   "metadata": {},
   "outputs": [
    {
     "data": {
      "text/html": [
       "<div>\n",
       "<style>\n",
       "    .dataframe thead tr:only-child th {\n",
       "        text-align: right;\n",
       "    }\n",
       "\n",
       "    .dataframe thead th {\n",
       "        text-align: left;\n",
       "    }\n",
       "\n",
       "    .dataframe tbody tr th {\n",
       "        vertical-align: top;\n",
       "    }\n",
       "</style>\n",
       "<table border=\"1\" class=\"dataframe\">\n",
       "  <thead>\n",
       "    <tr style=\"text-align: right;\">\n",
       "      <th></th>\n",
       "      <th>Player ID</th>\n",
       "      <th>days_since_last_login</th>\n",
       "      <th>Age_on_platform</th>\n",
       "      <th>Bet Time</th>\n",
       "      <th>Result Time</th>\n",
       "      <th>Registered Date</th>\n",
       "      <th>Last Login</th>\n",
       "    </tr>\n",
       "  </thead>\n",
       "  <tbody>\n",
       "    <tr>\n",
       "      <th>0</th>\n",
       "      <td>02981pleeng</td>\n",
       "      <td>0.0</td>\n",
       "      <td>296.0</td>\n",
       "      <td>2020-02-11 19:51:59</td>\n",
       "      <td>2020-02-11 19:51:59</td>\n",
       "      <td>2019-08-03 21:58:36</td>\n",
       "      <td>2020-05-26 15:04:22</td>\n",
       "    </tr>\n",
       "    <tr>\n",
       "      <th>1</th>\n",
       "      <td>0619393970</td>\n",
       "      <td>59.0</td>\n",
       "      <td>771.0</td>\n",
       "      <td>2020-02-08 00:12:18</td>\n",
       "      <td>2020-02-08 00:12:21</td>\n",
       "      <td>2018-02-15 00:37:25</td>\n",
       "      <td>2020-03-27 17:13:09</td>\n",
       "    </tr>\n",
       "    <tr>\n",
       "      <th>2</th>\n",
       "      <td>0641976840</td>\n",
       "      <td>0.0</td>\n",
       "      <td>366.0</td>\n",
       "      <td>2020-02-05 00:28:11</td>\n",
       "      <td>2020-02-05 00:28:11</td>\n",
       "      <td>2019-05-25 02:40:29</td>\n",
       "      <td>2020-05-25 22:49:52</td>\n",
       "    </tr>\n",
       "    <tr>\n",
       "      <th>3</th>\n",
       "      <td>0806409528pop</td>\n",
       "      <td>109.0</td>\n",
       "      <td>0.0</td>\n",
       "      <td>2020-02-07 03:36:15</td>\n",
       "      <td>2020-02-07 03:36:15</td>\n",
       "      <td>2020-02-07 02:39:56</td>\n",
       "      <td>2020-02-07 03:34:47</td>\n",
       "    </tr>\n",
       "    <tr>\n",
       "      <th>4</th>\n",
       "      <td>0824308073wan</td>\n",
       "      <td>106.0</td>\n",
       "      <td>69.0</td>\n",
       "      <td>2020-02-10 13:43:23</td>\n",
       "      <td>2020-02-10 13:43:23</td>\n",
       "      <td>2019-12-02 19:56:52</td>\n",
       "      <td>2020-02-10 13:26:38</td>\n",
       "    </tr>\n",
       "  </tbody>\n",
       "</table>\n",
       "</div>"
      ],
      "text/plain": [
       "       Player ID  days_since_last_login  Age_on_platform            Bet Time  \\\n",
       "0    02981pleeng                    0.0            296.0 2020-02-11 19:51:59   \n",
       "1     0619393970                   59.0            771.0 2020-02-08 00:12:18   \n",
       "2     0641976840                    0.0            366.0 2020-02-05 00:28:11   \n",
       "3  0806409528pop                  109.0              0.0 2020-02-07 03:36:15   \n",
       "4  0824308073wan                  106.0             69.0 2020-02-10 13:43:23   \n",
       "\n",
       "          Result Time     Registered Date          Last Login  \n",
       "0 2020-02-11 19:51:59 2019-08-03 21:58:36 2020-05-26 15:04:22  \n",
       "1 2020-02-08 00:12:21 2018-02-15 00:37:25 2020-03-27 17:13:09  \n",
       "2 2020-02-05 00:28:11 2019-05-25 02:40:29 2020-05-25 22:49:52  \n",
       "3 2020-02-07 03:36:15 2020-02-07 02:39:56 2020-02-07 03:34:47  \n",
       "4 2020-02-10 13:43:23 2019-12-02 19:56:52 2020-02-10 13:26:38  "
      ]
     },
     "execution_count": 26,
     "metadata": {},
     "output_type": "execute_result"
    }
   ],
   "source": [
    "temp_df.head()"
   ]
  },
  {
   "cell_type": "code",
   "execution_count": 27,
   "metadata": {},
   "outputs": [
    {
     "name": "stdout",
     "output_type": "stream",
     "text": [
      "Wall time: 26 ms\n"
     ]
    }
   ],
   "source": [
    "%%time\n",
    "dataframes = [last_betting_date,avg_no_of_bets_per_day,avg_amount_on_bets_per_day,avg_no_of_bets_per_month,avg_amount_on_bets_per_month,no_of_visiting_days,temp_df]\n",
    "time_df = reduce(lambda left, right: pd.merge(left, right, on='Player ID', how='left'), dataframes)"
   ]
  },
  {
   "cell_type": "code",
   "execution_count": 28,
   "metadata": {},
   "outputs": [
    {
     "name": "stdout",
     "output_type": "stream",
     "text": [
      "Wall time: 2.03 ms\n"
     ]
    }
   ],
   "source": [
    "%%time\n",
    "time_df['loyalty_ratio'] = time_df['No_of_visit_days']/time_df['Age_on_platform']\n",
    "time_df.head()"
   ]
  },
  {
   "cell_type": "code",
   "execution_count": 29,
   "metadata": {
    "collapsed": true
   },
   "outputs": [],
   "source": [
    "# features based on payment ie betting amount"
   ]
  },
  {
   "cell_type": "code",
   "execution_count": 30,
   "metadata": {},
   "outputs": [
    {
     "name": "stdout",
     "output_type": "stream",
     "text": [
      "Wall time: 254 ms\n"
     ]
    }
   ],
   "source": [
    "%%time\n",
    "bet_df = df.groupby('Player ID').agg({\n",
    "                                        \"Stake\": {\"total_stake\": \"sum\", \"mean_stake(total_stake/total bets)\": \"mean\", \"min_stake\": \"min\", \"max_stake\": \"max\", \"bets\": \"count\"},\n",
    "                                         \"Valid Bet\": {\"total_Valid Bet\": \"sum\", \"mean_Valid Bet total_valid bets/total bets)\": \"mean\"},\n",
    "                                        \"Win/Loss\": {\"total_WIn/Loss\": \"sum\", \"mean_Valid Bet total_Win/Loss/total bets)\": \"mean\"}\n",
    "                                     }).reset_index()\n",
    "bet_df.columns = ['Player ID','Total Stake','Avg Stake(Total Stake/Total Bets)','Min Stake','Max Stake','Total Bets','Total Valid Bet','Avg Valid Bet','Total Win/Loss', 'Avg Win/Loss']"
   ]
  },
  {
   "cell_type": "code",
   "execution_count": 31,
   "metadata": {},
   "outputs": [
    {
     "data": {
      "text/plain": [
       "Index(['Player ID', 'Total Stake', 'Avg Stake(Total Stake/Total Bets)',\n",
       "       'Min Stake', 'Max Stake', 'Total Bets', 'Total Valid Bet',\n",
       "       'Avg Valid Bet', 'Total Win/Loss', 'Avg Win/Loss'],\n",
       "      dtype='object')"
      ]
     },
     "execution_count": 31,
     "metadata": {},
     "output_type": "execute_result"
    }
   ],
   "source": [
    "bet_df.columns"
   ]
  },
  {
   "cell_type": "markdown",
   "metadata": {
    "collapsed": true
   },
   "source": [
    "#### Game data features "
   ]
  },
  {
   "cell_type": "code",
   "execution_count": null,
   "metadata": {
    "collapsed": true
   },
   "outputs": [],
   "source": []
  },
  {
   "cell_type": "code",
   "execution_count": null,
   "metadata": {},
   "outputs": [
    {
     "name": "stdout",
     "output_type": "stream",
     "text": [
      "Wall time: 317 ms\n"
     ]
    }
   ],
   "source": [
    "%%time\n",
    "game_group = df.groupby(['Player ID', 'Game Group']).size().reset_index() #['Game Group'].agg('count')\n",
    "game_group = game_group.rename(columns ={0:'Counts'})\n",
    "game_group.head()"
   ]
  },
  {
   "cell_type": "code",
   "execution_count": null,
   "metadata": {},
   "outputs": [],
   "source": [
    "%%time\n",
    "game_group_pref = df[['Player ID', 'Game', 'Game Group','Provider','Product Type']]\n",
    "temp_col1= [x for x in game_group_pref['Game Group'].unique()]\n",
    "for x in temp_col1:\n",
    "    game_group_pref[x]= np.where(game_group_pref['Game Group'] == x,1,0)\n",
    "game_group_df = game_group_pref.groupby('Player ID').agg(['sum']).reset_index()[['Player ID']+temp_col1]\n",
    "game_group_df.columns = [['Player ID']+temp_col1]\n",
    "game_group_df.head()"
   ]
  },
  {
   "cell_type": "code",
   "execution_count": null,
   "metadata": {},
   "outputs": [],
   "source": [
    "%%time\n",
    "game_provider_type_pref = df[['Player ID', 'Game', 'Game Group','Provider','Product Type']]\n",
    "temp_col1= [x for x in game_provider_type_pref['Provider'].unique()]\n",
    "for x in temp_col1:\n",
    "    game_provider_type_pref[x]= np.where(game_provider_type_pref['Provider'] == x,1,0)\n",
    "    \n",
    "game_provider_type_pref_df = game_provider_type_pref.groupby('Player ID').agg(['sum']).reset_index()[['Player ID']+temp_col1]\n",
    "game_provider_type_pref_df.columns = [['Player ID']+temp_col1]\n",
    "game_provider_type_pref_df.head()"
   ]
  },
  {
   "cell_type": "code",
   "execution_count": null,
   "metadata": {},
   "outputs": [],
   "source": [
    "%%time\n",
    "game_product_type_pref = df[['Player ID', 'Game', 'Game Group','Provider','Product Type']]\n",
    "temp_col1= [x for x in game_product_type_pref['Product Type'].unique()]\n",
    "for x in temp_col1:\n",
    "    game_product_type_pref[x]= np.where(game_product_type_pref['Product Type'] == x,1,0)\n",
    "    \n",
    "game_product_type_pref_df = game_product_type_pref.groupby('Player ID').agg(['sum']).reset_index()[['Player ID']+temp_col1]\n",
    "game_product_type_pref_df.columns = [['Player ID']+temp_col1]\n",
    "game_product_type_pref_df.head()"
   ]
  },
  {
   "cell_type": "code",
   "execution_count": null,
   "metadata": {
    "collapsed": true
   },
   "outputs": [],
   "source": []
  },
  {
   "cell_type": "code",
   "execution_count": null,
   "metadata": {
    "collapsed": true
   },
   "outputs": [],
   "source": [
    "# #top 10 games being played\n",
    "# #very slow querry f\n",
    "# for player in playerlist:\n",
    "# df[df['Player ID']==Playerlist]['Game'].value_counts()[:5]"
   ]
  },
  {
   "cell_type": "code",
   "execution_count": null,
   "metadata": {},
   "outputs": [],
   "source": [
    "#top 10 games by amount spend\n",
    "df[['Game','Stake']].groupby('Game')['Stake'].agg(['sum']).reset_index().sort_values(by ='sum', ascending =False).head(10)"
   ]
  },
  {
   "cell_type": "code",
   "execution_count": null,
   "metadata": {
    "collapsed": true
   },
   "outputs": [],
   "source": [
    "#game_pref = df[['Player ID', 'Game', 'Stake','Bet Time']]\n",
    "# game_pref['FavroiuteGame1'] = 0\n",
    "# game_pref['FavroiuteGame2'] = 0\n",
    "# game_pref['FavroiuteGame3'] = 0\n",
    "# game_pref['FavroiuteGame4'] = 0\n",
    "# game_pref['FavroiuteGame5'] = 0\n",
    "\n",
    "# game_pref['FavroiuteGameAmount1'] =0\n",
    "# game_pref['FavroiuteGameAmount2'] =0\n",
    "# game_pref['FavroiuteGameAmount3'] =0\n",
    "# game_pref['FavroiuteGameAmount4'] =0\n",
    "# game_pref['FavroiuteGameAmount5'] =0"
   ]
  },
  {
   "cell_type": "code",
   "execution_count": null,
   "metadata": {
    "collapsed": true
   },
   "outputs": [],
   "source": []
  },
  {
   "cell_type": "code",
   "execution_count": null,
   "metadata": {
    "collapsed": true
   },
   "outputs": [],
   "source": [
    "# game_agg = game_pref.groupby(['Player ID'])['Game'].size()"
   ]
  },
  {
   "cell_type": "code",
   "execution_count": null,
   "metadata": {
    "collapsed": true
   },
   "outputs": [],
   "source": [
    "# type(game_agg)\n",
    "# game_agg"
   ]
  },
  {
   "cell_type": "code",
   "execution_count": null,
   "metadata": {
    "collapsed": true
   },
   "outputs": [],
   "source": [
    "# for var in game_agg.columns:\n",
    "#     print(var)"
   ]
  },
  {
   "cell_type": "code",
   "execution_count": null,
   "metadata": {
    "collapsed": true,
    "scrolled": true
   },
   "outputs": [],
   "source": [
    "# for player in game_agg['Player ID']:\n",
    "# game_pref['FavroiuteGame1'] = df['Game'].value_counts().index[0] #first fav\n",
    "# df['Game'].value_counts().index[1] #second fav\n",
    "# df['Game'].value_counts().index[2] #third fav\n"
   ]
  },
  {
   "cell_type": "code",
   "execution_count": null,
   "metadata": {
    "collapsed": true
   },
   "outputs": [],
   "source": [
    "# for player in game_agg['Player ID']:\n",
    "#     game_pref[game_pref['Player ID']==player]['FavroiuteGame1'] = game_agg[ df['Player ID']==player]['Game'].value_counts().index[0]\n"
   ]
  },
  {
   "cell_type": "code",
   "execution_count": null,
   "metadata": {
    "collapsed": true
   },
   "outputs": [],
   "source": [
    "# df['Game'].value_counts().index[1]\n",
    "# df['Game'].value_counts()[1]"
   ]
  },
  {
   "cell_type": "code",
   "execution_count": null,
   "metadata": {},
   "outputs": [],
   "source": [
    "%%time\n",
    "game_aggregations_pref_fav1 = {\n",
    "    'Game':{'FavFirst':[lambda x: x.value_counts().index[0] if len(x.value_counts()) else None],\n",
    "           'FavFirstFrequency':[lambda x: x.value_counts()[0] if len(x.value_counts()) else None]\n",
    "           } \n",
    "    } \n",
    "        \n",
    "game_aggregations_pref_fav2 = {\n",
    "    'Game': {'FavSecond':[lambda x: x.value_counts().index[1] if len(x.value_counts())>1 else None],\n",
    "            'FavSecondFrequency':[lambda x: x.value_counts()[1] if len(x.value_counts())>1 else None]\n",
    "            }\n",
    "    }\n",
    "\n",
    "game_aggregations_pref_fav3 = {\n",
    "    'Game': {'FavThird':[lambda x: x.value_counts().index[2] if len(x.value_counts())>2 else None],\n",
    "            'FavThirdFrequency':[lambda x: x.value_counts()[2] if len(x.value_counts())>2 else None]\n",
    "            }\n",
    "    } \n",
    "\n",
    "game_aggregations_pref_fav4 = {\n",
    "    'Game': {'FavFourth':[lambda x: x.value_counts().index[3] if len(x.value_counts())>3 else None],\n",
    "            'FavFourthFrequency':[lambda x: x.value_counts()[3] if len(x.value_counts())>3 else None]\n",
    "            },\n",
    "        } \n",
    "\n",
    "game_aggregations_pref_fav5 = {\n",
    "    'Game': {'FavFifth':[lambda x: x.value_counts().index[4] if len(x.value_counts())>4 else None],\n",
    "            'FavFifthFrequency':[lambda x: x.value_counts()[4] if len(x.value_counts())>4 else None]\n",
    "            }\n",
    "    } \n",
    "\n"
   ]
  },
  {
   "cell_type": "code",
   "execution_count": null,
   "metadata": {},
   "outputs": [],
   "source": [
    "%%time\n",
    "game_pref_1 = df.groupby('Player ID').agg(game_aggregations_pref_fav1).reset_index()\n",
    "game_pref_1.columns = ['Player ID','FavFirst','FavFirstFrequency']\n",
    "\n",
    "game_pref_2 = df.groupby('Player ID').agg(game_aggregations_pref_fav2).reset_index()\n",
    "game_pref_2.columns = ['Player ID','FavSecond','FavSecondFrequency']\n",
    "\n",
    "game_pref_3 = df.groupby('Player ID').agg(game_aggregations_pref_fav3).reset_index()\n",
    "game_pref_3.columns = ['Player ID','FavThird','FavThirdFrequency']\n",
    "\n",
    "game_pref_4 = df.groupby('Player ID').agg(game_aggregations_pref_fav4).reset_index()\n",
    "game_pref_4.columns = ['Player ID','FavFourth','FavFourthFrequency']\n",
    "\n",
    "game_pref_5 = df.groupby('Player ID').agg(game_aggregations_pref_fav5).reset_index()\n",
    "game_pref_5.columns = ['Player ID','FavFifth','FavFifthFrequency']"
   ]
  },
  {
   "cell_type": "code",
   "execution_count": null,
   "metadata": {},
   "outputs": [],
   "source": [
    "%%time\n",
    "dataframes = [game_pref_1,game_pref_2,game_pref_3,game_pref_4,game_pref_5]\n",
    "game_pref_df = reduce(lambda left, right: pd.merge(left, right, on='Player ID', how='left'), dataframes)"
   ]
  },
  {
   "cell_type": "code",
   "execution_count": null,
   "metadata": {},
   "outputs": [],
   "source": [
    "%%time\n",
    "game_pref_df['FavFirstAmount'] =0.0\n",
    "game_pref_df['FavSecondAmount'] =0.0\n",
    "game_pref_df['FavThirdAmount'] =0.0\n",
    "game_pref_df['FavFourthAmount'] =0.0\n",
    "game_pref_df['FavFifthAmount'] =0.0\n",
    "game_pref_df.head()"
   ]
  },
  {
   "cell_type": "code",
   "execution_count": null,
   "metadata": {},
   "outputs": [],
   "source": [
    "%%time\n",
    "temp_game_df = df.groupby(['Player ID','Game'])['Stake'].sum().reset_index()\n",
    "temp_game_df.head()"
   ]
  },
  {
   "cell_type": "code",
   "execution_count": null,
   "metadata": {
    "collapsed": true
   },
   "outputs": [],
   "source": []
  },
  {
   "cell_type": "code",
   "execution_count": null,
   "metadata": {
    "collapsed": true
   },
   "outputs": [],
   "source": [
    "# temp_game_df[temp_game_df['Player ID']==player]\n",
    "\n",
    "# temp_game_df[temp_game_df['Player ID']==player]['Game']==game\n",
    " \n",
    "# temp_game_df[temp_game_df['Player ID']==player][temp_game_df[temp_game_df['Player ID']==player]['Game']==game]\n",
    "\n",
    "#temp_game_df[temp_game_df['Player ID']==player][temp_game_df[temp_game_df['Player ID']==player]['Game']==game]['Game']\n",
    "\n",
    "# game_pref_df[game_pref_df['Player ID']==player]['FavFirst']"
   ]
  },
  {
   "cell_type": "code",
   "execution_count": null,
   "metadata": {
    "collapsed": true
   },
   "outputs": [],
   "source": []
  },
  {
   "cell_type": "code",
   "execution_count": null,
   "metadata": {
    "collapsed": true
   },
   "outputs": [],
   "source": []
  },
  {
   "cell_type": "code",
   "execution_count": null,
   "metadata": {},
   "outputs": [],
   "source": [
    "%%time\n",
    "for player in game_pref_df[\"Player ID\"]:\n",
    "    #print(player + \"    \"+ \"---->\")\n",
    "    for game in  temp_game_df[temp_game_df['Player ID']==player]['Game']:\n",
    "       # print(game)\n",
    "        if  game_pref_df[game_pref_df['Player ID']==player]['FavFirst'].values == game:\n",
    "             \n",
    "            game_pref_df.at[game_pref_df['Player ID']==player, 'FavFirstAmount'] = temp_game_df[temp_game_df['Player ID']==player][temp_game_df[temp_game_df['Player ID']==player]['Game']==game]['Stake'].values\n",
    "           # print('pusheddata')\n",
    "            \n",
    "        if  game_pref_df[game_pref_df['Player ID']==player]['FavSecond'].values == game:\n",
    "             \n",
    "            game_pref_df.at[game_pref_df['Player ID']==player, 'FavSecondAmount'] = temp_game_df[temp_game_df['Player ID']==player][temp_game_df[temp_game_df['Player ID']==player]['Game']==game]['Stake'].values\n",
    "            #print('pusheddata')\n",
    "            \n",
    "        if  game_pref_df[game_pref_df['Player ID']==player]['FavThird'].values == game:\n",
    "             \n",
    "            game_pref_df.at[game_pref_df['Player ID']==player, 'FavThirdAmount'] = temp_game_df[temp_game_df['Player ID']==player][temp_game_df[temp_game_df['Player ID']==player]['Game']==game]['Stake'].values\n",
    "            #print('pusheddata')\n",
    "            \n",
    "        if  game_pref_df[game_pref_df['Player ID']==player]['FavFourth'].values == game:\n",
    "             \n",
    "            game_pref_df.at[game_pref_df['Player ID']==player, 'FavFourthAmount'] = temp_game_df[temp_game_df['Player ID']==player][temp_game_df[temp_game_df['Player ID']==player]['Game']==game]['Stake'].values\n",
    "            #print('pusheddata')\n",
    "            \n",
    "        if  game_pref_df[game_pref_df['Player ID']==player]['FavFifth'].values == game:\n",
    "             \n",
    "            game_pref_df.at[game_pref_df['Player ID']==player, 'FavFifthAmount'] = temp_game_df[temp_game_df['Player ID']==player][temp_game_df[temp_game_df['Player ID']==player]['Game']==game]['Stake'].values\n",
    "            #print('pusheddata')\n",
    "        \n"
   ]
  },
  {
   "cell_type": "code",
   "execution_count": null,
   "metadata": {
    "collapsed": true
   },
   "outputs": [],
   "source": []
  },
  {
   "cell_type": "code",
   "execution_count": null,
   "metadata": {},
   "outputs": [],
   "source": [
    "%%time\n",
    "dataframes = [game_product_type_pref_df,game_provider_type_pref_df,game_group_df,game_pref_df]\n",
    "game_df = reduce(lambda left, right: pd.merge(left, right, on='Player ID', how='left'), dataframes)\n"
   ]
  },
  {
   "cell_type": "code",
   "execution_count": null,
   "metadata": {
    "collapsed": true
   },
   "outputs": [],
   "source": [
    "#finally merging all featuresw"
   ]
  },
  {
   "cell_type": "code",
   "execution_count": null,
   "metadata": {},
   "outputs": [],
   "source": [
    "%%time\n",
    "dataframes = [time_df,bet_df,game_df]\n",
    "final_df = reduce(lambda left, right: pd.merge(left, right, on='Player ID', how='left'), dataframes)\n"
   ]
  },
  {
   "cell_type": "code",
   "execution_count": null,
   "metadata": {
    "collapsed": true
   },
   "outputs": [],
   "source": []
  }
 ],
 "metadata": {
  "kernelspec": {
   "display_name": "Python 3",
   "language": "python",
   "name": "python3"
  },
  "language_info": {
   "codemirror_mode": {
    "name": "ipython",
    "version": 3
   },
   "file_extension": ".py",
   "mimetype": "text/x-python",
   "name": "python",
   "nbconvert_exporter": "python",
   "pygments_lexer": "ipython3",
   "version": "3.6.3"
  }
 },
 "nbformat": 4,
 "nbformat_minor": 2
}
