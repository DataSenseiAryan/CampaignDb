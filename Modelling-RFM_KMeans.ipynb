{
 "cells": [
  {
   "cell_type": "code",
   "execution_count": 79,
   "metadata": {},
   "outputs": [
    {
     "name": "stdout",
     "output_type": "stream",
     "text": [
      "Wall time: 9.97 ms\n"
     ]
    }
   ],
   "source": [
    "%%time\n",
    "import pyodbc \n",
    "import pandas as pd\n",
    "import numpy as np\n",
    "import datetime\n",
    "from functools import reduce\n",
    "import matplotlib.pyplot as plt\n",
    "import seaborn as sns\n",
    "\n",
    "import warnings\n",
    "import timeit\n",
    "\n",
    "warnings.filterwarnings('ignore')\n",
    "%matplotlib inline\n",
    "pd.set_option('display.max_columns', None)\n",
    "#!pip install jupyter_contrib_nbextensions\n",
    "import squarify\n",
    "\n"
   ]
  },
  {
   "cell_type": "code",
   "execution_count": 49,
   "metadata": {},
   "outputs": [
    {
     "name": "stdout",
     "output_type": "stream",
     "text": [
      "Wall time: 86.8 ms\n"
     ]
    }
   ],
   "source": [
    "%%time\n",
    "cnxn = pyodbc.connect(\"Driver={SQL Server Native Client 11.0};\"\n",
    "                      \"Server=LAPTOP-CU20T8L1;\"\n",
    "                      \"Database=CAMPAIGN_DB2;\"\n",
    "                      \"Trusted_Connection=yes;\")\n",
    "\n",
    "\n",
    "cursor = cnxn.cursor()\n",
    "sql1 = pd.read_sql_query('SELECT [Bet Time] , [Provider] ,[Product Type] ,[Game Group], [Game], [Player ID],[Stake], [Valid Bet], [Win/Loss],[Real Name], [Registered Date],[Last Login] ,[GROUP] FROM CAMPAIGN_TBL_FINAL ',cnxn)\n",
    "df1 = pd.DataFrame(sql1)"
   ]
  },
  {
   "cell_type": "code",
   "execution_count": 53,
   "metadata": {},
   "outputs": [
    {
     "name": "stdout",
     "output_type": "stream",
     "text": [
      "Wall time: 63.8 ms\n"
     ]
    }
   ],
   "source": [
    "%%time\n",
    "cnxn = pyodbc.connect(\"Driver={SQL Server Native Client 11.0};\"\n",
    "                      \"Server=LAPTOP-CU20T8L1;\"\n",
    "                      \"Database=CAMPAIGN_DB;\"\n",
    "                      \"Trusted_Connection=yes;\")\n",
    "\n",
    "\n",
    "cursor = cnxn.cursor()\n",
    "sql2 = pd.read_sql_query('SELECT TOP(100) [Bet Time] , [Provider] ,[Product Type] ,[Game Group], [Game], [Player ID],[Stake], [Valid Bet], [Win/Loss],[Real Name], [Registered Date],[Last Login] ,[GROUP] FROM CAMPAIGN_TBL_FINAL',cnxn)\n",
    "df2 = pd.DataFrame(sql2)"
   ]
  },
  {
   "cell_type": "code",
   "execution_count": 54,
   "metadata": {},
   "outputs": [
    {
     "name": "stdout",
     "output_type": "stream",
     "text": [
      "Wall time: 58.8 ms\n"
     ]
    },
    {
     "data": {
      "text/html": [
       "<div>\n",
       "<style scoped>\n",
       "    .dataframe tbody tr th:only-of-type {\n",
       "        vertical-align: middle;\n",
       "    }\n",
       "\n",
       "    .dataframe tbody tr th {\n",
       "        vertical-align: top;\n",
       "    }\n",
       "\n",
       "    .dataframe thead th {\n",
       "        text-align: right;\n",
       "    }\n",
       "</style>\n",
       "<table border=\"1\" class=\"dataframe\">\n",
       "  <thead>\n",
       "    <tr style=\"text-align: right;\">\n",
       "      <th></th>\n",
       "      <th>Bet Time</th>\n",
       "      <th>Provider</th>\n",
       "      <th>Product Type</th>\n",
       "      <th>Game Group</th>\n",
       "      <th>Game</th>\n",
       "      <th>Player ID</th>\n",
       "      <th>Stake</th>\n",
       "      <th>Valid Bet</th>\n",
       "      <th>Win/Loss</th>\n",
       "      <th>Real Name</th>\n",
       "      <th>Registered Date</th>\n",
       "      <th>Last Login</th>\n",
       "      <th>GROUP</th>\n",
       "    </tr>\n",
       "  </thead>\n",
       "  <tbody>\n",
       "    <tr>\n",
       "      <th>0</th>\n",
       "      <td>2020-03-04 08:52:58</td>\n",
       "      <td>MG</td>\n",
       "      <td>EGAME</td>\n",
       "      <td>SLOTGAME</td>\n",
       "      <td>Lara Croft Temples and Tombs</td>\n",
       "      <td>ja2637</td>\n",
       "      <td>2.8</td>\n",
       "      <td>2.8</td>\n",
       "      <td>-2.80</td>\n",
       "      <td>จิระเมศร์ ถาลี</td>\n",
       "      <td>2019-10-17 16:43:41</td>\n",
       "      <td>2020-04-22 15:33:41</td>\n",
       "      <td>EGAME                                         ...</td>\n",
       "    </tr>\n",
       "    <tr>\n",
       "      <th>1</th>\n",
       "      <td>2020-03-04 08:53:01</td>\n",
       "      <td>MG</td>\n",
       "      <td>EGAME</td>\n",
       "      <td>SLOTGAME</td>\n",
       "      <td>Lara Croft Temples and Tombs</td>\n",
       "      <td>ja2637</td>\n",
       "      <td>2.8</td>\n",
       "      <td>2.8</td>\n",
       "      <td>11.20</td>\n",
       "      <td>จิระเมศร์ ถาลี</td>\n",
       "      <td>2019-10-17 16:43:41</td>\n",
       "      <td>2020-04-22 15:33:41</td>\n",
       "      <td>EGAME                                         ...</td>\n",
       "    </tr>\n",
       "    <tr>\n",
       "      <th>2</th>\n",
       "      <td>2020-03-04 08:53:05</td>\n",
       "      <td>MG</td>\n",
       "      <td>EGAME</td>\n",
       "      <td>SLOTGAME</td>\n",
       "      <td>Lara Croft Temples and Tombs</td>\n",
       "      <td>ja2637</td>\n",
       "      <td>2.8</td>\n",
       "      <td>2.8</td>\n",
       "      <td>-1.68</td>\n",
       "      <td>จิระเมศร์ ถาลี</td>\n",
       "      <td>2019-10-17 16:43:41</td>\n",
       "      <td>2020-04-22 15:33:41</td>\n",
       "      <td>EGAME                                         ...</td>\n",
       "    </tr>\n",
       "    <tr>\n",
       "      <th>3</th>\n",
       "      <td>2020-03-04 08:53:08</td>\n",
       "      <td>MG</td>\n",
       "      <td>EGAME</td>\n",
       "      <td>SLOTGAME</td>\n",
       "      <td>Lara Croft Temples and Tombs</td>\n",
       "      <td>ja2637</td>\n",
       "      <td>2.8</td>\n",
       "      <td>2.8</td>\n",
       "      <td>0.28</td>\n",
       "      <td>จิระเมศร์ ถาลี</td>\n",
       "      <td>2019-10-17 16:43:41</td>\n",
       "      <td>2020-04-22 15:33:41</td>\n",
       "      <td>EGAME                                         ...</td>\n",
       "    </tr>\n",
       "    <tr>\n",
       "      <th>4</th>\n",
       "      <td>2020-03-04 08:53:11</td>\n",
       "      <td>VT</td>\n",
       "      <td>EGAME</td>\n",
       "      <td>SLOTGAME</td>\n",
       "      <td>50 Lions</td>\n",
       "      <td>kiss1234</td>\n",
       "      <td>7.5</td>\n",
       "      <td>7.5</td>\n",
       "      <td>36.00</td>\n",
       "      <td>ศุภชัย   ณ นคร</td>\n",
       "      <td>2019-03-10 13:04:23</td>\n",
       "      <td>2020-05-26 12:54:26</td>\n",
       "      <td>EGAME                                         ...</td>\n",
       "    </tr>\n",
       "    <tr>\n",
       "      <th>...</th>\n",
       "      <td>...</td>\n",
       "      <td>...</td>\n",
       "      <td>...</td>\n",
       "      <td>...</td>\n",
       "      <td>...</td>\n",
       "      <td>...</td>\n",
       "      <td>...</td>\n",
       "      <td>...</td>\n",
       "      <td>...</td>\n",
       "      <td>...</td>\n",
       "      <td>...</td>\n",
       "      <td>...</td>\n",
       "      <td>...</td>\n",
       "    </tr>\n",
       "    <tr>\n",
       "      <th>94</th>\n",
       "      <td>2019-09-11 05:44:01</td>\n",
       "      <td>MX</td>\n",
       "      <td>LIVE</td>\n",
       "      <td>BACCARAT</td>\n",
       "      <td>Baccarat</td>\n",
       "      <td>kornzarpg</td>\n",
       "      <td>150.0</td>\n",
       "      <td>150.0</td>\n",
       "      <td>150.00</td>\n",
       "      <td>สุริยันต์ ทิพย์อักษร</td>\n",
       "      <td>2018-08-21 19:24:14</td>\n",
       "      <td>2020-05-26 15:34:05</td>\n",
       "      <td>LIVE GAME                                     ...</td>\n",
       "    </tr>\n",
       "    <tr>\n",
       "      <th>95</th>\n",
       "      <td>2019-09-11 05:44:01</td>\n",
       "      <td>MX</td>\n",
       "      <td>LIVE</td>\n",
       "      <td>BACCARAT</td>\n",
       "      <td>Baccarat</td>\n",
       "      <td>kornzarpg</td>\n",
       "      <td>10.0</td>\n",
       "      <td>10.0</td>\n",
       "      <td>-10.00</td>\n",
       "      <td>สุริยันต์ ทิพย์อักษร</td>\n",
       "      <td>2018-08-21 19:24:14</td>\n",
       "      <td>2020-05-26 15:34:05</td>\n",
       "      <td>LIVE GAME                                     ...</td>\n",
       "    </tr>\n",
       "    <tr>\n",
       "      <th>97</th>\n",
       "      <td>2019-09-11 05:44:01</td>\n",
       "      <td>MX</td>\n",
       "      <td>LIVE</td>\n",
       "      <td>BACCARAT</td>\n",
       "      <td>Baccarat</td>\n",
       "      <td>kornzarpg</td>\n",
       "      <td>30.0</td>\n",
       "      <td>30.0</td>\n",
       "      <td>-30.00</td>\n",
       "      <td>สุริยันต์ ทิพย์อักษร</td>\n",
       "      <td>2018-08-21 19:24:14</td>\n",
       "      <td>2020-05-26 15:34:05</td>\n",
       "      <td>LIVE GAME                                     ...</td>\n",
       "    </tr>\n",
       "    <tr>\n",
       "      <th>98</th>\n",
       "      <td>2019-09-11 05:44:02</td>\n",
       "      <td>RT</td>\n",
       "      <td>EGAME</td>\n",
       "      <td>SLOTGAME</td>\n",
       "      <td>Chinese Treasures</td>\n",
       "      <td>nuttawut1995</td>\n",
       "      <td>1.0</td>\n",
       "      <td>1.0</td>\n",
       "      <td>-1.00</td>\n",
       "      <td>ณัฐวุฒิ เก่งมาก</td>\n",
       "      <td>2019-09-11 03:20:17</td>\n",
       "      <td>2019-09-11 03:37:24</td>\n",
       "      <td>EGAME                                         ...</td>\n",
       "    </tr>\n",
       "    <tr>\n",
       "      <th>99</th>\n",
       "      <td>2019-09-11 05:44:03</td>\n",
       "      <td>MG</td>\n",
       "      <td>EGAME</td>\n",
       "      <td>SLOTGAME</td>\n",
       "      <td>Football Star</td>\n",
       "      <td>snut24890</td>\n",
       "      <td>1.0</td>\n",
       "      <td>1.0</td>\n",
       "      <td>-1.00</td>\n",
       "      <td>ธิติ   ชื่นมนัส</td>\n",
       "      <td>2019-09-11 00:29:28</td>\n",
       "      <td>2019-09-12 03:14:55</td>\n",
       "      <td>EGAME                                         ...</td>\n",
       "    </tr>\n",
       "  </tbody>\n",
       "</table>\n",
       "<p>196 rows × 13 columns</p>\n",
       "</div>"
      ],
      "text/plain": [
       "               Bet Time Provider Product Type Game Group  \\\n",
       "0   2020-03-04 08:52:58       MG        EGAME   SLOTGAME   \n",
       "1   2020-03-04 08:53:01       MG        EGAME   SLOTGAME   \n",
       "2   2020-03-04 08:53:05       MG        EGAME   SLOTGAME   \n",
       "3   2020-03-04 08:53:08       MG        EGAME   SLOTGAME   \n",
       "4   2020-03-04 08:53:11       VT        EGAME   SLOTGAME   \n",
       "..                  ...      ...          ...        ...   \n",
       "94  2019-09-11 05:44:01       MX         LIVE   BACCARAT   \n",
       "95  2019-09-11 05:44:01       MX         LIVE   BACCARAT   \n",
       "97  2019-09-11 05:44:01       MX         LIVE   BACCARAT   \n",
       "98  2019-09-11 05:44:02       RT        EGAME   SLOTGAME   \n",
       "99  2019-09-11 05:44:03       MG        EGAME   SLOTGAME   \n",
       "\n",
       "                            Game     Player ID  Stake  Valid Bet  Win/Loss  \\\n",
       "0   Lara Croft Temples and Tombs        ja2637    2.8        2.8     -2.80   \n",
       "1   Lara Croft Temples and Tombs        ja2637    2.8        2.8     11.20   \n",
       "2   Lara Croft Temples and Tombs        ja2637    2.8        2.8     -1.68   \n",
       "3   Lara Croft Temples and Tombs        ja2637    2.8        2.8      0.28   \n",
       "4                       50 Lions      kiss1234    7.5        7.5     36.00   \n",
       "..                           ...           ...    ...        ...       ...   \n",
       "94                      Baccarat     kornzarpg  150.0      150.0    150.00   \n",
       "95                      Baccarat     kornzarpg   10.0       10.0    -10.00   \n",
       "97                      Baccarat     kornzarpg   30.0       30.0    -30.00   \n",
       "98             Chinese Treasures  nuttawut1995    1.0        1.0     -1.00   \n",
       "99                 Football Star     snut24890    1.0        1.0     -1.00   \n",
       "\n",
       "               Real Name      Registered Date           Last Login  \\\n",
       "0         จิระเมศร์ ถาลี  2019-10-17 16:43:41  2020-04-22 15:33:41   \n",
       "1         จิระเมศร์ ถาลี  2019-10-17 16:43:41  2020-04-22 15:33:41   \n",
       "2         จิระเมศร์ ถาลี  2019-10-17 16:43:41  2020-04-22 15:33:41   \n",
       "3         จิระเมศร์ ถาลี  2019-10-17 16:43:41  2020-04-22 15:33:41   \n",
       "4         ศุภชัย   ณ นคร  2019-03-10 13:04:23  2020-05-26 12:54:26   \n",
       "..                   ...                  ...                  ...   \n",
       "94  สุริยันต์ ทิพย์อักษร  2018-08-21 19:24:14  2020-05-26 15:34:05   \n",
       "95  สุริยันต์ ทิพย์อักษร  2018-08-21 19:24:14  2020-05-26 15:34:05   \n",
       "97  สุริยันต์ ทิพย์อักษร  2018-08-21 19:24:14  2020-05-26 15:34:05   \n",
       "98       ณัฐวุฒิ เก่งมาก  2019-09-11 03:20:17  2019-09-11 03:37:24   \n",
       "99       ธิติ   ชื่นมนัส  2019-09-11 00:29:28  2019-09-12 03:14:55   \n",
       "\n",
       "                                                GROUP  \n",
       "0   EGAME                                         ...  \n",
       "1   EGAME                                         ...  \n",
       "2   EGAME                                         ...  \n",
       "3   EGAME                                         ...  \n",
       "4   EGAME                                         ...  \n",
       "..                                                ...  \n",
       "94  LIVE GAME                                     ...  \n",
       "95  LIVE GAME                                     ...  \n",
       "97  LIVE GAME                                     ...  \n",
       "98  EGAME                                         ...  \n",
       "99  EGAME                                         ...  \n",
       "\n",
       "[196 rows x 13 columns]"
      ]
     },
     "execution_count": 54,
     "metadata": {},
     "output_type": "execute_result"
    }
   ],
   "source": [
    "%%time\n",
    "df = pd.concat([df1,df2])\n",
    "df.drop_duplicates() #dropping duplicates if any"
   ]
  },
  {
   "cell_type": "code",
   "execution_count": 55,
   "metadata": {},
   "outputs": [
    {
     "data": {
      "text/plain": [
       "(200, 13)"
      ]
     },
     "execution_count": 55,
     "metadata": {},
     "output_type": "execute_result"
    }
   ],
   "source": [
    "df.shape"
   ]
  },
  {
   "cell_type": "code",
   "execution_count": 56,
   "metadata": {},
   "outputs": [
    {
     "data": {
      "text/plain": [
       "Index(['Bet Time', 'Provider', 'Product Type', 'Game Group', 'Game',\n",
       "       'Player ID', 'Stake', 'Valid Bet', 'Win/Loss', 'Real Name',\n",
       "       'Registered Date', 'Last Login', 'GROUP'],\n",
       "      dtype='object')"
      ]
     },
     "execution_count": 56,
     "metadata": {},
     "output_type": "execute_result"
    }
   ],
   "source": [
    "df.columns"
   ]
  },
  {
   "cell_type": "code",
   "execution_count": 57,
   "metadata": {},
   "outputs": [
    {
     "name": "stdout",
     "output_type": "stream",
     "text": [
      "Wall time: 31.9 ms\n"
     ]
    }
   ],
   "source": [
    "%%time\n",
    "df['Bet Time'] = pd.to_datetime(df['Bet Time'])\n",
    "df['Registered Date'] = pd.to_datetime(df['Registered Date'])\n",
    "df['Last Login'] = pd.to_datetime(df['Last Login'])\n",
    "\n",
    "df['Transaction Date'] = df['Bet Time'].dt.date\n",
    "\n",
    " \n",
    "last_betting_date = df.groupby(['Player ID'])['Bet Time'].agg(['max']).reset_index().rename(columns={\"max\":\"Last Betting Date\"})\n",
    "\n",
    "\n",
    "bet_df = df.groupby('Player ID').agg(Total_Stake=pd.NamedAgg(column='Stake', aggfunc='sum'),\n",
    "                                      Total_Bets=pd.NamedAgg(column='Stake', aggfunc='count')).reset_index()\n",
    "\n",
    "bet_df.columns = ['Player ID','Total Stake','Total Bets']\n",
    "\n",
    "\n",
    "\n",
    "dataframes = [bet_df,last_betting_date]\n",
    "final_temp_df = reduce(lambda left, right: pd.merge(left, right, on='Player ID', how='left'), dataframes)\n",
    "\n",
    "final_temp_df['days_since_last_bet'] = (final_temp_df['Last Betting Date'].max() - final_temp_df['Last Betting Date']).astype('timedelta64[D]')\n"
   ]
  },
  {
   "cell_type": "markdown",
   "metadata": {
    "collapsed": true
   },
   "source": [
    "# RFM MODELLING"
   ]
  },
  {
   "cell_type": "markdown",
   "metadata": {
    "collapsed": true
   },
   "source": [
    "Recency (R): Who have purchased recently? Number of days since last purchase (least recency)\n",
    "\n",
    "Frequency (F): Who has purchased frequently? It means the total number of purchases. ( high frequency)\n",
    "\n",
    "Monetary Value(M): Who have high purchase amount? It means the total money customer spent (high monetary value)"
   ]
  },
  {
   "cell_type": "code",
   "execution_count": 58,
   "metadata": {},
   "outputs": [
    {
     "data": {
      "text/html": [
       "<div>\n",
       "<style scoped>\n",
       "    .dataframe tbody tr th:only-of-type {\n",
       "        vertical-align: middle;\n",
       "    }\n",
       "\n",
       "    .dataframe tbody tr th {\n",
       "        vertical-align: top;\n",
       "    }\n",
       "\n",
       "    .dataframe thead th {\n",
       "        text-align: right;\n",
       "    }\n",
       "</style>\n",
       "<table border=\"1\" class=\"dataframe\">\n",
       "  <thead>\n",
       "    <tr style=\"text-align: right;\">\n",
       "      <th></th>\n",
       "      <th>Player ID</th>\n",
       "      <th>Total Stake</th>\n",
       "      <th>Total Bets</th>\n",
       "      <th>Last Betting Date</th>\n",
       "      <th>days_since_last_bet</th>\n",
       "    </tr>\n",
       "  </thead>\n",
       "  <tbody>\n",
       "    <tr>\n",
       "      <th>0</th>\n",
       "      <td>au4k999</td>\n",
       "      <td>10.0</td>\n",
       "      <td>10</td>\n",
       "      <td>2019-09-11 05:43:59</td>\n",
       "      <td>175.0</td>\n",
       "    </tr>\n",
       "    <tr>\n",
       "      <th>1</th>\n",
       "      <td>beetaken</td>\n",
       "      <td>35.0</td>\n",
       "      <td>7</td>\n",
       "      <td>2019-09-11 05:44:00</td>\n",
       "      <td>175.0</td>\n",
       "    </tr>\n",
       "    <tr>\n",
       "      <th>2</th>\n",
       "      <td>goy2518</td>\n",
       "      <td>8.0</td>\n",
       "      <td>8</td>\n",
       "      <td>2019-09-11 05:44:01</td>\n",
       "      <td>175.0</td>\n",
       "    </tr>\n",
       "    <tr>\n",
       "      <th>3</th>\n",
       "      <td>heng6565</td>\n",
       "      <td>61.0</td>\n",
       "      <td>3</td>\n",
       "      <td>2019-09-11 05:43:56</td>\n",
       "      <td>175.0</td>\n",
       "    </tr>\n",
       "    <tr>\n",
       "      <th>4</th>\n",
       "      <td>ja2637</td>\n",
       "      <td>173.2</td>\n",
       "      <td>55</td>\n",
       "      <td>2020-03-04 08:56:04</td>\n",
       "      <td>0.0</td>\n",
       "    </tr>\n",
       "  </tbody>\n",
       "</table>\n",
       "</div>"
      ],
      "text/plain": [
       "  Player ID  Total Stake  Total Bets   Last Betting Date  days_since_last_bet\n",
       "0   au4k999         10.0          10 2019-09-11 05:43:59                175.0\n",
       "1  beetaken         35.0           7 2019-09-11 05:44:00                175.0\n",
       "2   goy2518          8.0           8 2019-09-11 05:44:01                175.0\n",
       "3  heng6565         61.0           3 2019-09-11 05:43:56                175.0\n",
       "4    ja2637        173.2          55 2020-03-04 08:56:04                  0.0"
      ]
     },
     "execution_count": 58,
     "metadata": {},
     "output_type": "execute_result"
    }
   ],
   "source": [
    "final_temp_df.head()"
   ]
  },
  {
   "cell_type": "code",
   "execution_count": null,
   "metadata": {},
   "outputs": [],
   "source": []
  },
  {
   "cell_type": "code",
   "execution_count": 59,
   "metadata": {},
   "outputs": [
    {
     "name": "stdout",
     "output_type": "stream",
     "text": [
      "Wall time: 1.99 ms\n"
     ]
    }
   ],
   "source": [
    "%%time\n",
    "rfm_df = final_temp_df[['Player ID', 'days_since_last_bet','Total Bets','Total Stake']]\n",
    "rfm_df.columns = ['CustomerID','Recency','Frequency','Monetary']"
   ]
  },
  {
   "cell_type": "code",
   "execution_count": 60,
   "metadata": {},
   "outputs": [
    {
     "data": {
      "text/html": [
       "<div>\n",
       "<style scoped>\n",
       "    .dataframe tbody tr th:only-of-type {\n",
       "        vertical-align: middle;\n",
       "    }\n",
       "\n",
       "    .dataframe tbody tr th {\n",
       "        vertical-align: top;\n",
       "    }\n",
       "\n",
       "    .dataframe thead th {\n",
       "        text-align: right;\n",
       "    }\n",
       "</style>\n",
       "<table border=\"1\" class=\"dataframe\">\n",
       "  <thead>\n",
       "    <tr style=\"text-align: right;\">\n",
       "      <th></th>\n",
       "      <th>CustomerID</th>\n",
       "      <th>Recency</th>\n",
       "      <th>Frequency</th>\n",
       "      <th>Monetary</th>\n",
       "    </tr>\n",
       "  </thead>\n",
       "  <tbody>\n",
       "    <tr>\n",
       "      <th>0</th>\n",
       "      <td>au4k999</td>\n",
       "      <td>175.0</td>\n",
       "      <td>10</td>\n",
       "      <td>10.0</td>\n",
       "    </tr>\n",
       "    <tr>\n",
       "      <th>1</th>\n",
       "      <td>beetaken</td>\n",
       "      <td>175.0</td>\n",
       "      <td>7</td>\n",
       "      <td>35.0</td>\n",
       "    </tr>\n",
       "    <tr>\n",
       "      <th>2</th>\n",
       "      <td>goy2518</td>\n",
       "      <td>175.0</td>\n",
       "      <td>8</td>\n",
       "      <td>8.0</td>\n",
       "    </tr>\n",
       "    <tr>\n",
       "      <th>3</th>\n",
       "      <td>heng6565</td>\n",
       "      <td>175.0</td>\n",
       "      <td>3</td>\n",
       "      <td>61.0</td>\n",
       "    </tr>\n",
       "    <tr>\n",
       "      <th>4</th>\n",
       "      <td>ja2637</td>\n",
       "      <td>0.0</td>\n",
       "      <td>55</td>\n",
       "      <td>173.2</td>\n",
       "    </tr>\n",
       "  </tbody>\n",
       "</table>\n",
       "</div>"
      ],
      "text/plain": [
       "  CustomerID  Recency  Frequency  Monetary\n",
       "0    au4k999    175.0         10      10.0\n",
       "1   beetaken    175.0          7      35.0\n",
       "2    goy2518    175.0          8       8.0\n",
       "3   heng6565    175.0          3      61.0\n",
       "4     ja2637      0.0         55     173.2"
      ]
     },
     "execution_count": 60,
     "metadata": {},
     "output_type": "execute_result"
    }
   ],
   "source": [
    "rfm_df.head()"
   ]
  },
  {
   "cell_type": "code",
   "execution_count": 61,
   "metadata": {},
   "outputs": [],
   "source": [
    "CustomerID ='0619393970' # has  R59.0 F572 M1660.40 for checking"
   ]
  },
  {
   "cell_type": "code",
   "execution_count": 71,
   "metadata": {},
   "outputs": [
    {
     "data": {
      "image/png": "[encoded data removed]",
      "text/plain": [
       "<Figure size 864x720 with 3 Axes>"
      ]
     },
     "metadata": {
      "needs_background": "light"
     },
     "output_type": "display_data"
    }
   ],
   "source": [
    "# Plot RFM distributions\n",
    "plt.figure(figsize=(12,10))\n",
    "# Plot distribution of R\n",
    "plt.subplot(3, 1, 1); sns.distplot(rfm_df['Recency'])\n",
    "# Plot distribution of F\n",
    "plt.subplot(3, 1, 2); sns.distplot(rfm_df['Frequency'])\n",
    "# Plot distribution of M\n",
    "plt.subplot(3, 1, 3); sns.distplot(rfm_df['Monetary'])\n",
    "# Show the plot\n",
    "plt.show()"
   ]
  },
  {
   "cell_type": "code",
   "execution_count": 62,
   "metadata": {
    "scrolled": true
   },
   "outputs": [
    {
     "name": "stdout",
     "output_type": "stream",
     "text": [
      "Wall time: 15 ms\n"
     ]
    },
    {
     "data": {
      "text/html": [
       "<div>\n",
       "<style scoped>\n",
       "    .dataframe tbody tr th:only-of-type {\n",
       "        vertical-align: middle;\n",
       "    }\n",
       "\n",
       "    .dataframe tbody tr th {\n",
       "        vertical-align: top;\n",
       "    }\n",
       "\n",
       "    .dataframe thead th {\n",
       "        text-align: right;\n",
       "    }\n",
       "</style>\n",
       "<table border=\"1\" class=\"dataframe\">\n",
       "  <thead>\n",
       "    <tr style=\"text-align: right;\">\n",
       "      <th></th>\n",
       "      <th>CustomerID</th>\n",
       "      <th>Recency</th>\n",
       "      <th>Frequency</th>\n",
       "      <th>Monetary</th>\n",
       "      <th>RecencyScore</th>\n",
       "      <th>FrequencyScore</th>\n",
       "      <th>MonetaryScore</th>\n",
       "    </tr>\n",
       "  </thead>\n",
       "  <tbody>\n",
       "    <tr>\n",
       "      <th>0</th>\n",
       "      <td>au4k999</td>\n",
       "      <td>175.0</td>\n",
       "      <td>10</td>\n",
       "      <td>10.0</td>\n",
       "      <td>4</td>\n",
       "      <td>4</td>\n",
       "      <td>1</td>\n",
       "    </tr>\n",
       "    <tr>\n",
       "      <th>1</th>\n",
       "      <td>beetaken</td>\n",
       "      <td>175.0</td>\n",
       "      <td>7</td>\n",
       "      <td>35.0</td>\n",
       "      <td>4</td>\n",
       "      <td>3</td>\n",
       "      <td>3</td>\n",
       "    </tr>\n",
       "    <tr>\n",
       "      <th>2</th>\n",
       "      <td>goy2518</td>\n",
       "      <td>175.0</td>\n",
       "      <td>8</td>\n",
       "      <td>8.0</td>\n",
       "      <td>4</td>\n",
       "      <td>3</td>\n",
       "      <td>1</td>\n",
       "    </tr>\n",
       "    <tr>\n",
       "      <th>3</th>\n",
       "      <td>heng6565</td>\n",
       "      <td>175.0</td>\n",
       "      <td>3</td>\n",
       "      <td>61.0</td>\n",
       "      <td>3</td>\n",
       "      <td>2</td>\n",
       "      <td>3</td>\n",
       "    </tr>\n",
       "    <tr>\n",
       "      <th>4</th>\n",
       "      <td>ja2637</td>\n",
       "      <td>0.0</td>\n",
       "      <td>55</td>\n",
       "      <td>173.2</td>\n",
       "      <td>5</td>\n",
       "      <td>5</td>\n",
       "      <td>4</td>\n",
       "    </tr>\n",
       "  </tbody>\n",
       "</table>\n",
       "</div>"
      ],
      "text/plain": [
       "  CustomerID  Recency  Frequency  Monetary RecencyScore FrequencyScore  \\\n",
       "0    au4k999    175.0         10      10.0            4              4   \n",
       "1   beetaken    175.0          7      35.0            4              3   \n",
       "2    goy2518    175.0          8       8.0            4              3   \n",
       "3   heng6565    175.0          3      61.0            3              2   \n",
       "4     ja2637      0.0         55     173.2            5              5   \n",
       "\n",
       "  MonetaryScore  \n",
       "0             1  \n",
       "1             3  \n",
       "2             1  \n",
       "3             3  \n",
       "4             4  "
      ]
     },
     "execution_count": 62,
     "metadata": {},
     "output_type": "execute_result"
    }
   ],
   "source": [
    "%%time\n",
    "rfm_df['RecencyScore'] = pd.qcut(rfm_df['Recency'].rank(method=\"first\"),5,labels=[5,4,3,2,1])\n",
    "rfm_df['FrequencyScore'] = pd.qcut(rfm_df['Frequency'].rank(method=\"first\"),5,labels=[1,2,3,4,5])\n",
    "rfm_df['MonetaryScore'] = pd.qcut(rfm_df['Monetary'].rank(method=\"first\"),5,labels=[1,2,3,4,5])\n",
    "rfm_df.head()"
   ]
  },
  {
   "cell_type": "code",
   "execution_count": 63,
   "metadata": {},
   "outputs": [
    {
     "data": {
      "text/plain": [
       "0    441\n",
       "1    433\n",
       "2    431\n",
       "3    323\n",
       "4    554\n",
       "dtype: object"
      ]
     },
     "execution_count": 63,
     "metadata": {},
     "output_type": "execute_result"
    }
   ],
   "source": [
    "(rfm_df['RecencyScore'].astype(str) + \n",
    " rfm_df['FrequencyScore'].astype(str) + \n",
    " rfm_df['MonetaryScore'].astype(str)).head()"
   ]
  },
  {
   "cell_type": "code",
   "execution_count": 64,
   "metadata": {},
   "outputs": [
    {
     "name": "stdout",
     "output_type": "stream",
     "text": [
      "Wall time: 3.99 ms\n"
     ]
    }
   ],
   "source": [
    "%%time\n",
    "rfm_df[\"RFM_SCORE\"] = rfm_df['RecencyScore'].astype(str) + rfm_df['FrequencyScore'].astype(str) + rfm_df['MonetaryScore'].astype(str)"
   ]
  },
  {
   "cell_type": "code",
   "execution_count": 65,
   "metadata": {},
   "outputs": [
    {
     "data": {
      "text/html": [
       "<div>\n",
       "<style scoped>\n",
       "    .dataframe tbody tr th:only-of-type {\n",
       "        vertical-align: middle;\n",
       "    }\n",
       "\n",
       "    .dataframe tbody tr th {\n",
       "        vertical-align: top;\n",
       "    }\n",
       "\n",
       "    .dataframe thead th {\n",
       "        text-align: right;\n",
       "    }\n",
       "</style>\n",
       "<table border=\"1\" class=\"dataframe\">\n",
       "  <thead>\n",
       "    <tr style=\"text-align: right;\">\n",
       "      <th></th>\n",
       "      <th>count</th>\n",
       "      <th>mean</th>\n",
       "      <th>std</th>\n",
       "      <th>min</th>\n",
       "      <th>25%</th>\n",
       "      <th>50%</th>\n",
       "      <th>75%</th>\n",
       "      <th>max</th>\n",
       "    </tr>\n",
       "  </thead>\n",
       "  <tbody>\n",
       "    <tr>\n",
       "      <th>Recency</th>\n",
       "      <td>21.0</td>\n",
       "      <td>129.571429</td>\n",
       "      <td>74.122582</td>\n",
       "      <td>0.0</td>\n",
       "      <td>32.0</td>\n",
       "      <td>175.0</td>\n",
       "      <td>175.0</td>\n",
       "      <td>175.0</td>\n",
       "    </tr>\n",
       "    <tr>\n",
       "      <th>Frequency</th>\n",
       "      <td>21.0</td>\n",
       "      <td>9.523810</td>\n",
       "      <td>13.332738</td>\n",
       "      <td>1.0</td>\n",
       "      <td>2.0</td>\n",
       "      <td>7.0</td>\n",
       "      <td>10.0</td>\n",
       "      <td>55.0</td>\n",
       "    </tr>\n",
       "    <tr>\n",
       "      <th>Monetary</th>\n",
       "      <td>21.0</td>\n",
       "      <td>105.149524</td>\n",
       "      <td>146.952004</td>\n",
       "      <td>1.8</td>\n",
       "      <td>10.0</td>\n",
       "      <td>23.0</td>\n",
       "      <td>173.2</td>\n",
       "      <td>520.0</td>\n",
       "    </tr>\n",
       "  </tbody>\n",
       "</table>\n",
       "</div>"
      ],
      "text/plain": [
       "           count        mean         std  min   25%    50%    75%    max\n",
       "Recency     21.0  129.571429   74.122582  0.0  32.0  175.0  175.0  175.0\n",
       "Frequency   21.0    9.523810   13.332738  1.0   2.0    7.0   10.0   55.0\n",
       "Monetary    21.0  105.149524  146.952004  1.8  10.0   23.0  173.2  520.0"
      ]
     },
     "execution_count": 65,
     "metadata": {},
     "output_type": "execute_result"
    }
   ],
   "source": [
    "rfm_df.describe().T"
   ]
  },
  {
   "cell_type": "code",
   "execution_count": 66,
   "metadata": {},
   "outputs": [
    {
     "data": {
      "text/html": [
       "<div>\n",
       "<style scoped>\n",
       "    .dataframe tbody tr th:only-of-type {\n",
       "        vertical-align: middle;\n",
       "    }\n",
       "\n",
       "    .dataframe tbody tr th {\n",
       "        vertical-align: top;\n",
       "    }\n",
       "\n",
       "    .dataframe thead th {\n",
       "        text-align: right;\n",
       "    }\n",
       "</style>\n",
       "<table border=\"1\" class=\"dataframe\">\n",
       "  <thead>\n",
       "    <tr style=\"text-align: right;\">\n",
       "      <th></th>\n",
       "      <th>CustomerID</th>\n",
       "      <th>Recency</th>\n",
       "      <th>Frequency</th>\n",
       "      <th>Monetary</th>\n",
       "      <th>RecencyScore</th>\n",
       "      <th>FrequencyScore</th>\n",
       "      <th>MonetaryScore</th>\n",
       "      <th>RFM_SCORE</th>\n",
       "    </tr>\n",
       "  </thead>\n",
       "  <tbody>\n",
       "    <tr>\n",
       "      <th>6</th>\n",
       "      <td>kiss1234</td>\n",
       "      <td>0.0</td>\n",
       "      <td>40</td>\n",
       "      <td>300.0</td>\n",
       "      <td>5</td>\n",
       "      <td>5</td>\n",
       "      <td>5</td>\n",
       "      <td>555</td>\n",
       "    </tr>\n",
       "  </tbody>\n",
       "</table>\n",
       "</div>"
      ],
      "text/plain": [
       "  CustomerID  Recency  Frequency  Monetary RecencyScore FrequencyScore  \\\n",
       "6   kiss1234      0.0         40     300.0            5              5   \n",
       "\n",
       "  MonetaryScore RFM_SCORE  \n",
       "6             5       555  "
      ]
     },
     "execution_count": 66,
     "metadata": {},
     "output_type": "execute_result"
    }
   ],
   "source": [
    "rfm_df[rfm_df[\"RFM_SCORE\"] == \"555\"].head()"
   ]
  },
  {
   "cell_type": "code",
   "execution_count": 67,
   "metadata": {},
   "outputs": [
    {
     "data": {
      "text/html": [
       "<div>\n",
       "<style scoped>\n",
       "    .dataframe tbody tr th:only-of-type {\n",
       "        vertical-align: middle;\n",
       "    }\n",
       "\n",
       "    .dataframe tbody tr th {\n",
       "        vertical-align: top;\n",
       "    }\n",
       "\n",
       "    .dataframe thead th {\n",
       "        text-align: right;\n",
       "    }\n",
       "</style>\n",
       "<table border=\"1\" class=\"dataframe\">\n",
       "  <thead>\n",
       "    <tr style=\"text-align: right;\">\n",
       "      <th></th>\n",
       "      <th>CustomerID</th>\n",
       "      <th>Recency</th>\n",
       "      <th>Frequency</th>\n",
       "      <th>Monetary</th>\n",
       "      <th>RecencyScore</th>\n",
       "      <th>FrequencyScore</th>\n",
       "      <th>MonetaryScore</th>\n",
       "      <th>RFM_SCORE</th>\n",
       "    </tr>\n",
       "  </thead>\n",
       "  <tbody>\n",
       "  </tbody>\n",
       "</table>\n",
       "</div>"
      ],
      "text/plain": [
       "Empty DataFrame\n",
       "Columns: [CustomerID, Recency, Frequency, Monetary, RecencyScore, FrequencyScore, MonetaryScore, RFM_SCORE]\n",
       "Index: []"
      ]
     },
     "execution_count": 67,
     "metadata": {},
     "output_type": "execute_result"
    }
   ],
   "source": [
    "rfm_df[rfm_df[\"RFM_SCORE\"] == \"111\"].head()"
   ]
  },
  {
   "cell_type": "code",
   "execution_count": 68,
   "metadata": {},
   "outputs": [],
   "source": [
    "seg_map = {\n",
    "    r'[1-2][1-2]': 'Hibernating',\n",
    "    r'[1-2][3-4]': 'At Risk',\n",
    "    r'[1-2]5': 'Can\\'t Lose',\n",
    "    r'3[1-2]': 'About to Sleep',\n",
    "    r'33': 'Need Attention',\n",
    "    r'[3-4][4-5]': 'Loyal Customers',\n",
    "    r'41': 'Promising',\n",
    "    r'51': 'New Customers',\n",
    "    r'[4-5][2-3]': 'Potential Loyalists',\n",
    "    r'5[4-5]': 'Champions'\n",
    "}"
   ]
  },
  {
   "cell_type": "code",
   "execution_count": null,
   "metadata": {},
   "outputs": [],
   "source": []
  },
  {
   "cell_type": "code",
   "execution_count": 76,
   "metadata": {},
   "outputs": [
    {
     "name": "stdout",
     "output_type": "stream",
     "text": [
      "Wall time: 35.9 ms\n"
     ]
    }
   ],
   "source": [
    "%%time\n",
    "rfm_df['Segment'] = rfm_df['RecencyScore'].astype(str) + rfm_df['FrequencyScore'].astype(str)\n",
    "rfm_df['Segment'] = rfm_df['Segment'].replace(seg_map, regex=True)\n",
    "\n",
    "df.groupby('Player ID').agg(Total_Stake=pd.NamedAgg(column='Stake', aggfunc='sum'),\n",
    "                                      Total_Bets=pd.NamedAgg(column='Stake', aggfunc='count')).reset_index()\n",
    "rfm_agg=rfm_df[[\"Segment\", \"Recency\",\"Frequency\",\"Monetary\"]].groupby(\"Segment\").agg(\n",
    "    RecencyMean=pd.NamedAgg(column='Recency', aggfunc='sum'),\n",
    "    FrequencyMean=pd.NamedAgg(column='Frequency', aggfunc='count'),\n",
    "    MonetaryMean=pd.NamedAgg(column='Monetary', aggfunc='count'),\n",
    "    Count=pd.NamedAgg(column='Recency', aggfunc='count')\n",
    ").reset_index()"
   ]
  },
  {
   "cell_type": "code",
   "execution_count": 77,
   "metadata": {},
   "outputs": [
    {
     "data": {
      "text/html": [
       "<div>\n",
       "<style scoped>\n",
       "    .dataframe tbody tr th:only-of-type {\n",
       "        vertical-align: middle;\n",
       "    }\n",
       "\n",
       "    .dataframe tbody tr th {\n",
       "        vertical-align: top;\n",
       "    }\n",
       "\n",
       "    .dataframe thead th {\n",
       "        text-align: right;\n",
       "    }\n",
       "</style>\n",
       "<table border=\"1\" class=\"dataframe\">\n",
       "  <thead>\n",
       "    <tr style=\"text-align: right;\">\n",
       "      <th></th>\n",
       "      <th>Segment</th>\n",
       "      <th>RecencyMean</th>\n",
       "      <th>FrequencyMean</th>\n",
       "      <th>MonetaryMean</th>\n",
       "      <th>Count</th>\n",
       "    </tr>\n",
       "  </thead>\n",
       "  <tbody>\n",
       "    <tr>\n",
       "      <th>0</th>\n",
       "      <td>About to Sleep</td>\n",
       "      <td>525.0</td>\n",
       "      <td>3</td>\n",
       "      <td>3</td>\n",
       "      <td>3</td>\n",
       "    </tr>\n",
       "    <tr>\n",
       "      <th>1</th>\n",
       "      <td>At Risk</td>\n",
       "      <td>700.0</td>\n",
       "      <td>4</td>\n",
       "      <td>4</td>\n",
       "      <td>4</td>\n",
       "    </tr>\n",
       "    <tr>\n",
       "      <th>2</th>\n",
       "      <td>Can't Lose</td>\n",
       "      <td>350.0</td>\n",
       "      <td>2</td>\n",
       "      <td>2</td>\n",
       "      <td>2</td>\n",
       "    </tr>\n",
       "    <tr>\n",
       "      <th>3</th>\n",
       "      <td>Champions</td>\n",
       "      <td>0.0</td>\n",
       "      <td>2</td>\n",
       "      <td>2</td>\n",
       "      <td>2</td>\n",
       "    </tr>\n",
       "    <tr>\n",
       "      <th>4</th>\n",
       "      <td>Hibernating</td>\n",
       "      <td>350.0</td>\n",
       "      <td>2</td>\n",
       "      <td>2</td>\n",
       "      <td>2</td>\n",
       "    </tr>\n",
       "    <tr>\n",
       "      <th>5</th>\n",
       "      <td>Loyal Customers</td>\n",
       "      <td>350.0</td>\n",
       "      <td>2</td>\n",
       "      <td>2</td>\n",
       "      <td>2</td>\n",
       "    </tr>\n",
       "    <tr>\n",
       "      <th>6</th>\n",
       "      <td>New Customers</td>\n",
       "      <td>64.0</td>\n",
       "      <td>3</td>\n",
       "      <td>3</td>\n",
       "      <td>3</td>\n",
       "    </tr>\n",
       "    <tr>\n",
       "      <th>7</th>\n",
       "      <td>Potential Loyalists</td>\n",
       "      <td>350.0</td>\n",
       "      <td>2</td>\n",
       "      <td>2</td>\n",
       "      <td>2</td>\n",
       "    </tr>\n",
       "    <tr>\n",
       "      <th>8</th>\n",
       "      <td>Promising</td>\n",
       "      <td>32.0</td>\n",
       "      <td>1</td>\n",
       "      <td>1</td>\n",
       "      <td>1</td>\n",
       "    </tr>\n",
       "  </tbody>\n",
       "</table>\n",
       "</div>"
      ],
      "text/plain": [
       "               Segment  RecencyMean  FrequencyMean  MonetaryMean  Count\n",
       "0       About to Sleep        525.0              3             3      3\n",
       "1              At Risk        700.0              4             4      4\n",
       "2           Can't Lose        350.0              2             2      2\n",
       "3            Champions          0.0              2             2      2\n",
       "4          Hibernating        350.0              2             2      2\n",
       "5      Loyal Customers        350.0              2             2      2\n",
       "6        New Customers         64.0              3             3      3\n",
       "7  Potential Loyalists        350.0              2             2      2\n",
       "8            Promising         32.0              1             1      1"
      ]
     },
     "execution_count": 77,
     "metadata": {},
     "output_type": "execute_result"
    }
   ],
   "source": [
    "rfm_agg"
   ]
  },
  {
   "cell_type": "code",
   "execution_count": 82,
   "metadata": {},
   "outputs": [
    {
     "data": {
      "text/plain": [
       "['About to Sleep',\n",
       " 'At Risk',\n",
       " \"Can't Lose\",\n",
       " 'Champions',\n",
       " 'Hibernating',\n",
       " 'Loyal Customers',\n",
       " 'New Customers',\n",
       " 'Potential Loyalists',\n",
       " 'Promising']"
      ]
     },
     "execution_count": 82,
     "metadata": {},
     "output_type": "execute_result"
    }
   ],
   "source": [
    "rfm_agg['Segment'].to_list()"
   ]
  },
  {
   "cell_type": "code",
   "execution_count": 84,
   "metadata": {},
   "outputs": [
    {
     "data": {
      "image/png": "[encoded data removed]",
      "text/plain": [
       "<Figure size 1152x648 with 1 Axes>"
      ]
     },
     "metadata": {
      "needs_background": "light"
     },
     "output_type": "display_data"
    }
   ],
   "source": [
    "#Create our plot and resize it.\n",
    "fig = plt.gcf()\n",
    "ax = fig.add_subplot()\n",
    "fig.set_size_inches(16, 9)\n",
    "squarify.plot(sizes=rfm_agg['Count'], \n",
    "              label=['About to Sleep','At Risk',\"Can't Lose\",'Champions','Hibernating','Loyal Customers','New Customers','Potential Loyalists','Promising'], alpha=.8 )\n",
    "plt.title(\"RFM Segments\",fontsize=18,fontweight=\"bold\")\n",
    "plt.axis('off')\n",
    "plt.show()"
   ]
  },
  {
   "cell_type": "markdown",
   "metadata": {},
   "source": [
    "### Remark:\n",
    "3 segments selected for evaluation are \"Can't Lose\", \"Hibernating\" and \"Champions\".\n",
    "\n",
    "Number of customers for segments:\n",
    "\n",
    "Can't Lose = 12, Hibernating = 218, Champions = 147\n",
    "\n",
    "#### Can't Lose Segment;\n",
    "\n",
    "The last shopping date of the customers is on average 246 days before.\n",
    "Customers have made an average of 16 purchases.\n",
    "Customers spent an average of £ 8356.\n",
    "\n",
    "#### Hibernating Segment;\n",
    "\n",
    "The last shopping date of the customers is 481 days before average.\n",
    "Customers made an average of 1 purchases.\n",
    "Customers spent an average of £ 438.\n",
    "\n",
    "#### Champions Segment;\n",
    "\n",
    "The last shopping date of the customers is 30 days before average.\n",
    "Customers made an average of 19 purchases.\n",
    "Customers spent an average of £ 10796.\n",
    "\n",
    "#### Can't Lose Segment;\n",
    "\n",
    "Customers in this segment have not recently made a purchase. For this reason, we need to prepare a discount and gift campaign for this segment. These customers made a large number of purchases when they made purchases before. However, recency values are lower than they should be. The campaign to be implemented for these customers should include both items purchased and recommendations based on previous activities. New and popular products associated with the products that they were interested in can also be included in this campaign. Situations that will cause these customers to stop buying need to be investigated.\n",
    "\n",
    "#### Hibernating Segment;\n",
    "\n",
    "Customers in this segment have not made a purchase for a long time. However, by offering discounts, they may be attracted to another purchase.\n",
    "\n",
    "#### Champions Segment;\n",
    "\n",
    "Customers in this segment are responsible for most of the revenue. Campaigns should be implemented to ensure the continuity of the shopping of these customers."
   ]
  },
  {
   "cell_type": "code",
   "execution_count": null,
   "metadata": {},
   "outputs": [],
   "source": []
  }
 ],
 "metadata": {
  "kernelspec": {
   "display_name": "Python 3",
   "language": "python",
   "name": "python3"
  },
  "language_info": {
   "codemirror_mode": {
    "name": "ipython",
    "version": 3
   },
   "file_extension": ".py",
   "mimetype": "text/x-python",
   "name": "python",
   "nbconvert_exporter": "python",
   "pygments_lexer": "ipython3",
   "version": "3.8.3"
  }
 },
 "nbformat": 4,
 "nbformat_minor": 2
}
